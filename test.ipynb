{
 "cells": [
  {
   "cell_type": "code",
   "execution_count": 1,
   "metadata": {},
   "outputs": [],
   "source": [
    "from astropy.table import Table"
   ]
  },
  {
   "cell_type": "code",
   "execution_count": 5,
   "metadata": {},
   "outputs": [],
   "source": [
    "t= Table.read('~/Downloads/Table4.data', format='ascii')"
   ]
  },
  {
   "cell_type": "code",
   "execution_count": 8,
   "metadata": {},
   "outputs": [
    {
     "data": {
      "text/plain": [
       "<TableColumns names=('KIC','Evol_State','ES_Source','Cat_Tab','Seis_Source','Spec_Source','N_Numax_Fil','N_DNu_Fil','Nquar','Numax','S_Numax','DNu','S_DNu','F_DNu','S_FDNu','F_Numax','Mass','S_Mass','Radius','S_Radius','Logg_Seis','S_Logg_Seis','Teff','S_Teff','Logg_Spec','S_Logg_Spec','[Fe/H]','S_[Fe/H]','[Alp/Fe]','S_[Alp/Fe]','[C/Fe]','S_[C/Fe]','[N/Fe]','S_[N/Fe]','InvR_Gaia','S_InvR_Gaia','Age_Cat','Age_RGB','S_Age_RGB+','S_Age_RGB-','Age_RC_AGB','S_Age_RC+','S_Age','Vsini','Alpha_Cat','GAIAEDR3_SOURCE_ID','2MASS_ID')>"
      ]
     },
     "execution_count": 8,
     "metadata": {},
     "output_type": "execute_result"
    }
   ],
   "source": [
    "t.columns"
   ]
  },
  {
   "cell_type": "code",
   "execution_count": null,
   "metadata": {},
   "outputs": [],
   "source": []
  }
 ],
 "metadata": {
  "kernelspec": {
   "display_name": "astro",
   "language": "python",
   "name": "python3"
  },
  "language_info": {
   "codemirror_mode": {
    "name": "ipython",
    "version": 3
   },
   "file_extension": ".py",
   "mimetype": "text/x-python",
   "name": "python",
   "nbconvert_exporter": "python",
   "pygments_lexer": "ipython3",
   "version": "3.11.0"
  }
 },
 "nbformat": 4,
 "nbformat_minor": 2
}
