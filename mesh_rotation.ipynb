{
 "cells": [
  {
   "cell_type": "code",
   "execution_count": 1,
   "metadata": {},
   "outputs": [
    {
     "name": "stdout",
     "output_type": "stream",
     "text": [
      "Models defined.\n"
     ]
    },
    {
     "name": "stderr",
     "output_type": "stream",
     "text": [
      "WARNING:BUNDLE:celerite2 not installed: only required for gaussian processes\n"
     ]
    }
   ],
   "source": [
    "import matplotlib as mpl\n",
    "import numpy as np\n",
    "import matplotlib.pyplot as plt\n",
    "#%matplotlib inline\n",
    "\n",
    "import pickle\n",
    "from models.mesh_model import MeshModel, Abundance, rotation, mesh_model, pulsation, model_spectrum, abundance_spot\n",
    "from models.mesh_generation import apply_spherical_harm_pulsation, mesh_polar_vertices, vertex_to_polar\n",
    "import jax.numpy as jnp\n",
    "import jax\n",
    "from celluloid import Camera\n",
    "LOG_WAVELENGTHS = jnp.linspace(jnp.log10(5355), jnp.log10(5375), 10000)"
   ]
  },
  {
   "cell_type": "code",
   "execution_count": 2,
   "metadata": {},
   "outputs": [],
   "source": [
    "%matplotlib inline"
   ]
  },
  {
   "cell_type": "code",
   "execution_count": 3,
   "metadata": {},
   "outputs": [],
   "source": [
    "abundances = np.ones(17)"
   ]
  },
  {
   "cell_type": "code",
   "execution_count": 4,
   "metadata": {},
   "outputs": [],
   "source": [
    "MIN_TEFF = np.log10(2500.0)\n",
    "MAX_TEFF = np.log10(7999.9)\n",
    "TIMESTAMPS = jnp.linspace(0., 1., 10)"
   ]
  },
  {
   "cell_type": "code",
   "execution_count": 5,
   "metadata": {},
   "outputs": [],
   "source": [
    "# m = mesh_model(n_vertices=4000,\n",
    "#                teff=0.9,\n",
    "#                logg=0.8, vturb=1.,\n",
    "#                abundances=abundances*0.1,\n",
    "#                timestamps=jnp.linspace(0., 10., 50))\n",
    "# # Może nie ma się czym przejmować z timestamps i działać na fazach"
   ]
  },
  {
   "cell_type": "code",
   "execution_count": null,
   "metadata": {},
   "outputs": [],
   "source": [
    "abundances_Fe = jnp.array([*jnp.ones(16)*0.1, 0.5])\n",
    "m_Fe = mesh_model(n_vertices=1000,\n",
    "               teff=0.9,\n",
    "               logg=0.8, vturb=1.,\n",
    "               abundances=abundances_Fe,\n",
    "               timestamps=TIMESTAMPS)"
   ]
  },
  {
   "cell_type": "code",
   "execution_count": null,
   "metadata": {},
   "outputs": [],
   "source": [
    "s = model_spectrum(m, 0, LOG_WAVELENGTHS)\n",
    "s_Fe = model_spectrum(m_Fe, 0, LOG_WAVELENGTHS)"
   ]
  },
  {
   "cell_type": "code",
   "execution_count": null,
   "metadata": {},
   "outputs": [],
   "source": [
    "LOG_WAVELENGTHS2 = jnp.linspace(jnp.log10(5440), jnp.log10(5470), 10000)\n",
    "s_Fe2 = model_spectrum(m_Fe, 0, LOG_WAVELENGTHS2)\n",
    "plt.plot(jnp.power(10, LOG_WAVELENGTHS2), s_Fe2[0]/s_Fe2[1], color='black')\n",
    "plt.gca().set_xlabel('Wavelength [$\\AA$]');\n",
    "plt.gca().set_ylabel('Normalized flux');"
   ]
  },
  {
   "cell_type": "code",
   "execution_count": null,
   "metadata": {},
   "outputs": [],
   "source": [
    "plt.plot(jnp.power(10, LOG_WAVELENGTHS), s[0]/s[1],\n",
    "         color='black', label='Low Fe')\n",
    "plt.plot(jnp.power(10, LOG_WAVELENGTHS), s_Fe[0]/s_Fe[1],\n",
    "         color='red', alpha=0.5, label='High Fe')\n",
    "plt.gca().set_xlabel('Wavelength [$\\AA$]');\n",
    "plt.gca().set_ylabel('Normalized flux');\n",
    "plt.legend();"
   ]
  },
  {
   "cell_type": "code",
   "execution_count": null,
   "metadata": {},
   "outputs": [],
   "source": [
    "m_Fe_Rot = rotation(m_Fe, rotation_velocity=50)"
   ]
  },
  {
   "cell_type": "code",
   "execution_count": null,
   "metadata": {},
   "outputs": [],
   "source": [
    "s_Fe_Rot = model_spectrum(m_Fe_Rot, 0, LOG_WAVELENGTHS)"
   ]
  },
  {
   "cell_type": "code",
   "execution_count": null,
   "metadata": {},
   "outputs": [],
   "source": [
    "%matplotlib inline\n",
    "plt.plot(jnp.power(10, LOG_WAVELENGTHS), s_Fe[0]/s_Fe[1],\n",
    "         color='black', label='no rotation')\n",
    "plt.plot(jnp.power(10, LOG_WAVELENGTHS), s_Fe_Rot[0]/s_Fe_Rot[1],\n",
    "         color='red', label='50 km/s')\n",
    "plt.legend();\n",
    "plt.gca().set_xlabel('Wavelength [$\\AA$]')\n",
    "plt.gca().set_ylabel('Normalized flux');"
   ]
  },
  {
   "cell_type": "code",
   "execution_count": null,
   "metadata": {},
   "outputs": [],
   "source": [
    "time_index = 0\n",
    "fig, ax = plt.subplots(figsize=(6, 5))\n",
    "mu_mask = m.mus[time_index]>0\n",
    "s1 = ax.scatter(m.centers[time_index, mu_mask, 0],\n",
    "                m.centers[time_index, mu_mask, 2],\n",
    "                s=2., c=m.mus[time_index, mu_mask],\n",
    "                cmap='magma')\n",
    "cbar = fig.colorbar(s1)\n",
    "cbar.set_label('$\\mu$')\n",
    "ax.set_xlabel('X [$R_\\odot$]')\n",
    "ax.set_ylabel('Z [$R_\\odot$]')"
   ]
  },
  {
   "cell_type": "markdown",
   "metadata": {},
   "source": [
    "# Rotation"
   ]
  },
  {
   "cell_type": "code",
   "execution_count": null,
   "metadata": {},
   "outputs": [],
   "source": [
    "m10 = rotation(m, rotation_velocity = 10.)\n",
    "\n",
    "time_index = 0\n",
    "fig, ax = plt.subplots(figsize=(6, 5))\n",
    "mu_mask = m.mus[time_index]>0\n",
    "s1 = ax.scatter(m10.centers[time_index, mu_mask, 0], m10.centers[time_index, mu_mask, 2],\n",
    "                s=2., c=m10.los_velocities[time_index, mu_mask], cmap='turbo')\n",
    "cbar = fig.colorbar(s1)\n",
    "cbar.set_label('LOS velocity [km/s]')\n",
    "ax.set_xlabel('X [$R_\\odot$]')\n",
    "ax.set_ylabel('Z [$R_\\odot$]')"
   ]
  },
  {
   "cell_type": "code",
   "execution_count": null,
   "metadata": {},
   "outputs": [],
   "source": [
    "m10_i = rotation(m, rotation_velocity = 10., inclination=jnp.array([1., 0., 0.]))\n",
    "\n",
    "time_index = 0\n",
    "fig, ax = plt.subplots(figsize=(6, 5))\n",
    "mu_mask = m.mus[time_index]>0\n",
    "s1 = ax.scatter(m10_i.centers[time_index, mu_mask, 0],\n",
    "                m10_i.centers[time_index, mu_mask, 1],\n",
    "                s=2., c=m10_i.los_velocities[time_index, mu_mask], cmap='turbo')\n",
    "cbar = fig.colorbar(s1)\n",
    "cbar.set_label('LOS velocity [km/s]')\n",
    "ax.set_xlabel('X [$R_\\odot$]')\n",
    "ax.set_ylabel('Z [$R_\\odot$]')"
   ]
  },
  {
   "cell_type": "markdown",
   "metadata": {},
   "source": [
    "# Pulsations"
   ]
  },
  {
   "cell_type": "code",
   "execution_count": null,
   "metadata": {},
   "outputs": [],
   "source": [
    "from models.mesh_model import vec_apply_spherical_harm_pulsation\n",
    "def __pulsation(mesh_model: MeshModel,\n",
    "              m: float, n: float,\n",
    "              magnitude: float,\n",
    "              t0: float, period: float) -> MeshModel:\n",
    "    phases = (mesh_model.timestamps[:, jnp.newaxis]-t0)/period\n",
    "    amplifications = magnitude*jnp.sin(phases)\n",
    "    velocities = magnitude*jnp.cos(phases)\n",
    "#     return phases, velocities\n",
    "    vert_offsets, center_offsets, area_offsets, sph_ham = vec_apply_spherical_harm_pulsation(mesh_model.vertices, mesh_model.centers,\n",
    "                                                                                             mesh_model.faces,\n",
    "                                                                                             mesh_model.areas,\n",
    "                                                                                             amplifications, m, n)\n",
    "    puls_velocities = mesh_model.velocities+mesh_model.centers*velocities[:, jnp.newaxis]*sph_ham\n",
    "    return MeshModel(timestamps=mesh_model.timestamps,\n",
    "                     los_vector=mesh_model.los_vector,\n",
    "                     radius=mesh_model.radius,\n",
    "                     mass=mesh_model.mass,\n",
    "                     teffs=mesh_model.teffs,\n",
    "                     logg=mesh_model.logg,\n",
    "                     vturb=mesh_model.vturb,\n",
    "                     abundances=mesh_model.abundances,\n",
    "                     vertices=mesh_model.vertices+vert_offsets,\n",
    "                     centers=mesh_model.centers+center_offsets,\n",
    "                     faces=mesh_model.faces,\n",
    "                     areas=mesh_model.areas+area_offsets,\n",
    "                     mus=mesh_model.mus,\n",
    "                     velocities=puls_velocities,\n",
    "                     los_velocities=mesh_model.los_velocities+sph_ham*velocities[:, jnp.newaxis, :]*mesh_model.mus[:, :, jnp.newaxis])"
   ]
  },
  {
   "cell_type": "code",
   "execution_count": null,
   "metadata": {},
   "outputs": [],
   "source": [
    "mp = __pulsation(m_Fe, 1, 1, 1., 0., 1.)"
   ]
  },
  {
   "cell_type": "code",
   "execution_count": null,
   "metadata": {},
   "outputs": [],
   "source": [
    "jnp.min(s), jnp.max(s)"
   ]
  },
  {
   "cell_type": "code",
   "execution_count": null,
   "metadata": {},
   "outputs": [],
   "source": [
    "mp = pulsation(m_Fe, 1, 1, 1., 0., .1)\n",
    "# norm_velocities = jnp.linalg.norm(mp.velocities, axis=2)\n",
    "# dot_velocities = jnp.dot(mp.velocities, mp.los_vector)\n",
    "# fig, ax = plt.subplots(1, 3, figsize=(15, 4))\n",
    "# time_index = 9\n",
    "# mu_mask = mp.mus[time_index]>0\n",
    "# s1 = ax[0].scatter(mp.centers[time_index, mu_mask, 0], mp.centers[time_index, mu_mask, 2],\n",
    "#                 s=6.,\n",
    "#                 c=mp.los_velocities[time_index, mu_mask],\n",
    "#                 cmap='turbo')\n",
    "# s2 = ax[1].scatter(mp.centers[time_index, mu_mask, 0], mp.centers[time_index, mu_mask, 2],\n",
    "#                 s=6.,\n",
    "#                 c=norm_velocities[time_index, mu_mask],\n",
    "#                 cmap='turbo')\n",
    "# cbar = fig.colorbar(s1, ax=ax[0])\n",
    "# cbar = fig.colorbar(s2, ax=ax[1])"
   ]
  },
  {
   "cell_type": "code",
   "execution_count": null,
   "metadata": {},
   "outputs": [],
   "source": [
    "fig = plt.figure(figsize=(10, 9))\n",
    "camera = Camera(fig)\n",
    "spec = fig.add_gridspec(7, 9)\n",
    "ax = fig.add_subplot(spec[:5, :8], projection='3d')\n",
    "cbar_ax = fig.add_subplot(spec[1:4, 8])\n",
    "spectr_ax = fig.add_subplot(spec[5:, 1:])\n",
    "camera = Camera(fig)\n",
    "axes_lim = 1.5*mp.radius\n",
    "ax.set_xlim3d(-axes_lim, axes_lim)\n",
    "ax.set_ylim3d(-axes_lim, axes_lim)\n",
    "ax.set_zlim3d(-axes_lim, axes_lim)\n",
    "cmap = 'magma'\n",
    "cool_cmap = mpl.cm.get_cmap('coolwarm')\n",
    "\n",
    "dot_velocities = jnp.dot(mp.velocities, mp.los_vector)\n",
    "\n",
    "norm = mpl.colors.Normalize(vmin=jnp.min(dot_velocities),\n",
    "                            vmax=jnp.max(dot_velocities))\n",
    "for phase_index in range(len(mp.centers)):\n",
    "    # ax.quiver(*(-1.5*mesh.radius*m.los_vector), *m.los_vector, color='red', linewidth=3.)\n",
    "    # ax.quiver(0., 0., 0., *mesh.rotation_axis, color='black', linewidth=3.)\n",
    "    centers = mp.centers[phase_index]\n",
    "\n",
    "    p = ax.scatter(centers[:, 0], centers[:, 1], centers[:, 2],\n",
    "                   cmap=cmap, norm=norm,\n",
    "                   c=dot_velocities[phase_index])\n",
    "    ax.quiver(*(-3*mp.los_vector), *mp.los_vector, color='red')\n",
    "    cbar = fig.colorbar(mpl.cm.ScalarMappable(norm=norm, cmap=cmap), cax=cbar_ax)\n",
    "    camera.snap()\n",
    "    "
   ]
  },
  {
   "cell_type": "code",
   "execution_count": null,
   "metadata": {},
   "outputs": [],
   "source": [
    "animation = camera.animate()\n",
    "animation.save('puls.gif')"
   ]
  },
  {
   "cell_type": "code",
   "execution_count": null,
   "metadata": {},
   "outputs": [],
   "source": [
    "LOG_WAVELENGTHS_LINE = jnp.linspace(jnp.log10(5362.5),\n",
    "                                    jnp.log10(5363.25), 10000)\n",
    "sl = model_spectrum(m_Fe, 0, LOG_WAVELENGTHS_LINE)\n",
    "sp = model_spectrum(mp, 0, LOG_WAVELENGTHS_LINE)\n",
    "plt.plot(jnp.power(10, LOG_WAVELENGTHS_LINE), sl[0]/sl[1],\n",
    "         color='black', label='no pulsation')\n",
    "plt.plot(jnp.power(10, LOG_WAVELENGTHS_LINE), sp[0]/sp[1],\n",
    "         color='red', label='pulsation')\n",
    "plt.legend();\n",
    "plt.gca().set_xlabel('Wavelength [$\\AA$]')\n",
    "plt.gca().set_ylabel('Normalized flux');"
   ]
  },
  {
   "cell_type": "markdown",
   "metadata": {},
   "source": [
    "# Spots"
   ]
  },
  {
   "cell_type": "code",
   "execution_count": null,
   "metadata": {},
   "outputs": [],
   "source": [
    "mt = rotation(abundance_spot(m_Fe, 1.5, 1.5, .1, .5, 0.75, Abundance.Fe.value-1),\n",
    "              rotation_velocity=10.,\n",
    "              inclination=jnp.array([0., 0., 1.]))"
   ]
  },
  {
   "cell_type": "code",
   "execution_count": null,
   "metadata": {},
   "outputs": [],
   "source": [
    "jnp.max(mt.abundances[:, 16])"
   ]
  },
  {
   "cell_type": "code",
   "execution_count": null,
   "metadata": {},
   "outputs": [],
   "source": [
    "mt.los_velocities[0]"
   ]
  },
  {
   "cell_type": "code",
   "execution_count": null,
   "metadata": {},
   "outputs": [],
   "source": [
    "cool_cmap = mpl.cm.get_cmap('coolwarm')"
   ]
  },
  {
   "cell_type": "code",
   "execution_count": null,
   "metadata": {},
   "outputs": [],
   "source": [
    "cool_cmap"
   ]
  },
  {
   "cell_type": "code",
   "execution_count": null,
   "metadata": {},
   "outputs": [],
   "source": [
    "mt = rotation(abundance_spot(m_Fe, 0.5, 1., .1, 1., 0.75, Abundance.Fe.value-1),\n",
    "              rotation_velocity=5.,\n",
    "              inclination=jnp.array([0., 0., 1.]))\n",
    "\n",
    "ZOOMED_IN_LINE = np.linspace(np.log10(5361.), np.log10(5363.5), 1000)\n",
    "fig, ax = plt.subplots(1, 1, figsize=(9, 5))\n",
    "for phase_ind, cmap_i in enumerate(np.linspace(0, 1, 50)):\n",
    "    atmo = model_spectrum(mt, int(phase_ind), ZOOMED_IN_LINE)\n",
    "    ax.plot(np.power(10, ZOOMED_IN_LINE), atmo[0]/atmo[1], color=cool_cmap(cmap_i), alpha=0.5)\n",
    "ax.set_xlabel('Wavelength [$\\AA$]')\n",
    "ax.set_ylabel('Normalized flux');"
   ]
  },
  {
   "cell_type": "code",
   "execution_count": null,
   "metadata": {},
   "outputs": [],
   "source": [
    "mt = rotation(abundance_spot(m_Fe, 0.5, 1., .1, 1., 0.75, Abundance.Fe.value-1),\n",
    "              rotation_velocity=5.,\n",
    "              inclination=jnp.array([0., 0., 1.]))\n",
    "\n",
    "ZOOMED_IN_LINE = np.linspace(np.log10(5361.), np.log10(5363.5), 1000)\n",
    "fig, ax = plt.subplots(1, 1, figsize=(9, 5))\n",
    "for phase_ind, cmap_i in zip(range(12), np.linspace(0, 1., 12)):\n",
    "    atmo = model_spectrum(mt, int(phase_ind), ZOOMED_IN_LINE)\n",
    "    ax.plot(np.power(10, ZOOMED_IN_LINE), atmo[0]/atmo[1], color=cool_cmap(cmap_i), alpha=0.5)\n",
    "ax.set_xlabel('Wavelength [$\\AA$]')\n",
    "ax.set_ylabel('Normalized flux');"
   ]
  },
  {
   "cell_type": "code",
   "execution_count": null,
   "metadata": {},
   "outputs": [],
   "source": [
    "from matplotlib.collections import LineCollection\n",
    "\n",
    "mt = rotation(abundance_spot(m_Fe, 1.5, 1.5, .5, .5, 0.75, Abundance.Fe.value-1),\n",
    "              rotation_velocity=5.,\n",
    "              rotation_axis=jnp.array([0., 0., 1.]))\n",
    "ZOOMED_IN_LINE = np.linspace(np.log10(5362.5), np.log10(5363.25), 1000)\n",
    "fig = plt.figure(figsize=(12, 5))\n",
    "spec = fig.add_gridspec(10, 13)\n",
    "\n",
    "axes = []\n",
    "\n",
    "axes.append(fig.add_subplot(spec[:5, :3]))\n",
    "ax1 = axes[0]\n",
    "axes.append(fig.add_subplot(spec[:5, 3:6], sharex=ax1, sharey=ax1))\n",
    "axes.append(fig.add_subplot(spec[:5, 6:9], sharex=ax1, sharey=ax1))\n",
    "axes.append(fig.add_subplot(spec[:5, 9:12], sharex=ax1, sharey=ax1))\n",
    "cbar_ax = fig.add_subplot(spec[:5, -1])\n",
    "spectr_ax = fig.add_subplot(spec[6:, 1:-2])\n",
    "spectr_cbar_ax = fig.add_subplot(spec[6:, -1])\n",
    "cool_cmap = mpl.cm.get_cmap('coolwarm')\n",
    "\n",
    "norm = mpl.colors.Normalize(vmin=jnp.min(mt.abundances[:, 16]),\n",
    "                            vmax=jnp.max(mt.abundances[:, 16]))\n",
    "norm_s = mpl.colors.Normalize(vmin=4,\n",
    "                            vmax=8)\n",
    "\n",
    "segments = []\n",
    "\n",
    "for ax_i, i in enumerate([4, 5, 7, 8]):\n",
    "    mus = mt.mus[i]\n",
    "    mu_mask = mus>0\n",
    "    im = axes[ax_i].scatter(mt.centers[i, mu_mask, 0], mt.centers[i, mu_mask, 2], c=mt.abundances[mu_mask, 16], norm=norm, cmap='magma', s=1)\n",
    "    atmo = model_spectrum(mt, i, ZOOMED_IN_LINE)\n",
    "    s_im = spectr_ax.plot(np.power(10, ZOOMED_IN_LINE), atmo[0]/atmo[1], color=cool_cmap(norm_s(i)))\n",
    "    segments.append(np.column_stack([np.power(10, ZOOMED_IN_LINE), atmo[0]/atmo[1]]))\n",
    "    if ax_i!=0:\n",
    "        axes[ax_i].set_yticklabels([])\n",
    "\n",
    "lc = LineCollection(segments, cmap='coolwarm')\n",
    "axes[0].set_ylabel('Y [$R_\\odot$]')\n",
    "spectr_ax.set_xlabel('Wavelength [$\\AA$]')\n",
    "spectr_ax.set_ylabel('Normalized flux')\n",
    "cbar = fig.colorbar(im, cax=cbar_ax)\n",
    "cbar.set_label('Fe abundance (normalized)')\n",
    "s_cbar = fig.colorbar(lc, cax=spectr_cbar_ax, cmap=cool_cmap)\n",
    "s_cbar.set_label('Phase')\n",
    "s_cbar.set_ticks([0., 0.5, 1.])\n",
    "s_cbar.set_ticklabels(['0.0', '$\\\\frac{\\pi}{2}$','$\\pi$'])"
   ]
  },
  {
   "cell_type": "code",
   "execution_count": null,
   "metadata": {},
   "outputs": [],
   "source": [
    "fig.savefig('fe_spot.png')"
   ]
  },
  {
   "cell_type": "code",
   "execution_count": null,
   "metadata": {},
   "outputs": [],
   "source": [
    "from models.mesh_model import teff_spot\n",
    "mt = rotation(abundance_spot(m_Fe, 0.5, 1., .1, 1., 0.75, Abundance.Fe.value-1),\n",
    "              rotation_velocity=5.,\n",
    "              inclination=jnp.array([0., 0., 1.]))\n",
    "\n",
    "los_vels = np.nan_to_num(np.array(mt.los_velocities))\n",
    "norm = mpl.colors.Normalize(vmin=jnp.min(mt.abundances[:, 16]),\n",
    "                            vmax=jnp.max(mt.abundances[:, 16]))\n",
    "\n",
    "fig = plt.figure(figsize=(10, 9))\n",
    "camera = Camera(fig)\n",
    "spec = fig.add_gridspec(7, 9)\n",
    "ax = fig.add_subplot(spec[:5, :8], projection='3d')\n",
    "cbar_ax = fig.add_subplot(spec[1:4, 8])\n",
    "spectr_ax = fig.add_subplot(spec[5:, 1:])\n",
    "\n",
    "axes_lim = 1.5*mt.radius\n",
    "ax.set_xlim3d(-axes_lim, axes_lim)\n",
    "ax.set_ylim3d(-axes_lim, axes_lim)\n",
    "ax.set_zlim3d(-axes_lim, axes_lim)\n",
    "cmap = 'magma'\n",
    "\n",
    "for phase_index in range(len(mt.centers)):\n",
    "    # ax.quiver(*(-1.5*mesh.radius*m.los_vector), *m.los_vector, color='red', linewidth=3.)\n",
    "    # ax.quiver(0., 0., 0., *mesh.rotation_axis, color='black', linewidth=3.)\n",
    "    centers = mt.centers[phase_index]\n",
    "\n",
    "    p = ax.scatter(centers[:, 0], centers[:, 1], centers[:, 2],\n",
    "                   cmap=cmap, norm=norm,\n",
    "                   #c=los_vels[phase_index])\n",
    "                   c=mt.abundances[:, 16])\n",
    "                   #c=(jnp.linalg.norm(m.pulsation_velocities[phase_index], axis=1)*m.get_mus_for_time(phase_index)), cmap=cmap, norm=norm)\n",
    "\n",
    "    cbar = fig.colorbar(mpl.cm.ScalarMappable(norm=norm, cmap=cmap), cax=cbar_ax)\n",
    "    cbar.set_label('Fe abundance')\n",
    "    atmo = model_spectrum(mt, phase_index, ZOOMED_IN_LINE)\n",
    "    spectr_ax.plot(np.power(10, ZOOMED_IN_LINE), atmo[0], color='black')\n",
    "    camera.snap()"
   ]
  },
  {
   "cell_type": "code",
   "execution_count": null,
   "metadata": {},
   "outputs": [],
   "source": [
    "animation = camera.animate()\n",
    "animation.save('spot.gif')"
   ]
  },
  {
   "cell_type": "code",
   "execution_count": null,
   "metadata": {},
   "outputs": [],
   "source": [
    "fig, ax = plt.subplots()"
   ]
  },
  {
   "cell_type": "code",
   "execution_count": null,
   "metadata": {},
   "outputs": [],
   "source": []
  }
 ],
 "metadata": {
  "kernelspec": {
   "display_name": "Python 3 (ipykernel)",
   "language": "python",
   "name": "python3"
  },
  "language_info": {
   "codemirror_mode": {
    "name": "ipython",
    "version": 3
   },
   "file_extension": ".py",
   "mimetype": "text/x-python",
   "name": "python",
   "nbconvert_exporter": "python",
   "pygments_lexer": "ipython3",
   "version": "3.8.10"
  }
 },
 "nbformat": 4,
 "nbformat_minor": 4
}
