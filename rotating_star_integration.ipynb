{
 "cells": [
  {
   "cell_type": "code",
   "execution_count": 2,
   "id": "4efaf883",
   "metadata": {},
   "outputs": [],
   "source": [
    "import phoebe\n",
    "import numpy as np\n",
    "from phoebe import u\n",
    "import matplotlib.pyplot as plt\n",
    "%matplotlib inline\n",
    "\n",
    "# TODO: how to save?\n",
    "import pickle\n",
    "\n",
    "with open('test_single_sun_10000_triangles.pickle', 'rb') as f:\n",
    "    b = pickle.load(f)\n",
    "    \n",
    "from spectrum import *\n",
    "import jax.numpy as jnp\n",
    "import jax\n",
    "\n",
    "from phoebe_utils import PhoebeConfig"
   ]
  },
  {
   "cell_type": "code",
   "execution_count": 3,
   "id": "c54d00de",
   "metadata": {},
   "outputs": [],
   "source": [
    "from jax.config import config\n",
    "config.update(\"jax_enable_x64\", True)"
   ]
  },
  {
   "cell_type": "code",
   "execution_count": 4,
   "id": "113b8683",
   "metadata": {},
   "outputs": [],
   "source": [
    "config = PhoebeConfig(b, 'mesh01')\n",
    "time = config.times[0]\n",
    "coords = config.get_mesh_coordinates(time)\n",
    "VW = config.get_radial_velocities(time)\n",
    "\n",
    "mus = config.get_mus(time)\n",
    "pos_mus = np.argwhere(mus>0)\n",
    "\n",
    "projected_areas = config.get_projected_areas(time)\n",
    "\n",
    "mus = jnp.array(mus[pos_mus])\n",
    "areas = jnp.array(projected_areas[pos_mus])\n",
    "vrads = jnp.array(VW[pos_mus])"
   ]
  },
  {
   "cell_type": "code",
   "execution_count": 5,
   "id": "9df414fa",
   "metadata": {},
   "outputs": [
    {
     "data": {
      "text/plain": [
       "((5616, 1), (5616, 1), (5616, 1))"
      ]
     },
     "execution_count": 5,
     "metadata": {},
     "output_type": "execute_result"
    }
   ],
   "source": [
    "mus.shape, areas.shape, vrads.shape"
   ]
  },
  {
   "cell_type": "code",
   "execution_count": 6,
   "id": "092abe96",
   "metadata": {},
   "outputs": [],
   "source": [
    "# Gaussowskie prędkości na powierzchni gwiazdy- symulacja turbulencji"
   ]
  },
  {
   "cell_type": "code",
   "execution_count": 7,
   "id": "c3d419e5",
   "metadata": {},
   "outputs": [],
   "source": [
    "LOG_WAVELENGTHS = jnp.linspace(3.65, 3.85, 10000)\n",
    "atmosphere_mul = jnp.multiply(areas.reshape((-1, 1, 1)),\n",
    "    atmosphere_flux(LOG_WAVELENGTHS, mus))"
   ]
  },
  {
   "cell_type": "code",
   "execution_count": 2,
   "id": "e7507529",
   "metadata": {},
   "outputs": [
    {
     "ename": "NameError",
     "evalue": "name 'jnp' is not defined",
     "output_type": "error",
     "traceback": [
      "\u001b[0;31m---------------------------------------------------------------------------\u001b[0m",
      "\u001b[0;31mNameError\u001b[0m                                 Traceback (most recent call last)",
      "Cell \u001b[0;32mIn[2], line 1\u001b[0m\n\u001b[0;32m----> 1\u001b[0m atmosphere_mul \u001b[38;5;241m=\u001b[39m \u001b[43mjnp\u001b[49m\u001b[38;5;241m.\u001b[39mmultiply(\n\u001b[1;32m      2\u001b[0m     areas\u001b[38;5;241m.\u001b[39mreshape((\u001b[38;5;241m-\u001b[39m\u001b[38;5;241m1\u001b[39m, \u001b[38;5;241m1\u001b[39m, \u001b[38;5;241m1\u001b[39m)),\n\u001b[1;32m      3\u001b[0m     atmosphere_flux(LOG_WAVELENGTHS,\n\u001b[1;32m      4\u001b[0m                     mus))\n\u001b[1;32m      6\u001b[0m \u001b[38;5;66;03m# (observed) radial velocity correction for both continuum and spectrum correction\u001b[39;00m\n\u001b[1;32m      7\u001b[0m \u001b[38;5;66;03m# Shape: (n_vertices, 2, n_wavelengths)\u001b[39;00m\n\u001b[1;32m      8\u001b[0m vrad_atmosphere \u001b[38;5;241m=\u001b[39m jax\u001b[38;5;241m.\u001b[39mvmap(\n\u001b[1;32m      9\u001b[0m     \u001b[38;5;28;01mlambda\u001b[39;00m a: v_interp(\n\u001b[1;32m     10\u001b[0m         LOG_WAVELENGTHS,\n\u001b[0;32m   (...)\u001b[0m\n\u001b[1;32m     13\u001b[0m             vrads),\n\u001b[1;32m     14\u001b[0m         a), in_axes\u001b[38;5;241m=\u001b[39m(\u001b[38;5;241m1\u001b[39m,))(atmosphere_mul)\n",
      "\u001b[0;31mNameError\u001b[0m: name 'jnp' is not defined"
     ]
    }
   ],
   "source": [
    "atmosphere_mul = jnp.multiply(\n",
    "    areas.reshape((-1, 1, 1)),\n",
    "    atmosphere_flux(LOG_WAVELENGTHS,\n",
    "                    mus))\n",
    "\n",
    "# (observed) radial velocity correction for both continuum and spectrum correction\n",
    "# Shape: (n_vertices, 2, n_wavelengths)\n",
    "vrad_atmosphere = jax.vmap(\n",
    "    lambda a: v_interp(\n",
    "        LOG_WAVELENGTHS,\n",
    "        v_apply_vrad(\n",
    "            LOG_WAVELENGTHS,\n",
    "            vrads),\n",
    "        a), in_axes=(1,))(atmosphere_mul)\n",
    "\n",
    "atmo = jnp.sum(vrad_atmosphere, axis=1)/jnp.sum(areas, axis=0)\n",
    "\n",
    "atmo.shape"
   ]
  },
  {
   "cell_type": "code",
   "execution_count": null,
   "id": "43422209",
   "metadata": {},
   "outputs": [],
   "source": [
    "LOG_WAVELENGTHS = jnp.linspace(3.65, 3.85, 50000)\n",
    "chunk_size = 512\n",
    "\n",
    "flash_atmosphere_full_vrad = spectrum_flash_sum(LOG_WAVELENGTHS, areas, mus, vrads, chunk_size)\n",
    "flash_atmosphere_half_vrad = spectrum_flash_sum(LOG_WAVELENGTHS, areas, mus, 0.5*vrads, chunk_size)\n",
    "flash_atmosphere_twice_vrad = spectrum_flash_sum(LOG_WAVELENGTHS, areas, mus, 2.*vrads, chunk_size)\n",
    "flash_atmosphere_no_rot = spectrum_flash_sum(LOG_WAVELENGTHS, areas, mus, jnp.zeros_like(vrads), chunk_size)"
   ]
  },
  {
   "cell_type": "code",
   "execution_count": null,
   "id": "cb3d8bbf",
   "metadata": {},
   "outputs": [],
   "source": [
    "flash_atmosphere_thrice_vrad = spectrum_flash_sum(LOG_WAVELENGTHS, areas, mus, 3.*vrads, chunk_size)"
   ]
  },
  {
   "cell_type": "code",
   "execution_count": null,
   "id": "a6f11a47",
   "metadata": {},
   "outputs": [],
   "source": [
    "fig, ax = plt.subplots(2, 2, figsize=(20, 10), sharex=True, sharey=True)\n",
    "\n",
    "logwaves = jnp.linspace(3.65, 3.7, 50000)\n",
    "\n",
    "ax[0, 0].plot(logwaves, flash_atmosphere_twice_vrad[0], color='black');\n",
    "ax[0, 0].plot(logwaves, flash_atmosphere_twice_vrad[1], color='red');\n",
    "ax[0, 0].set_title(r'$2v_{rad}$');\n",
    "ax[0, 1].plot(logwaves, flash_atmosphere_full_vrad[0], color='black');\n",
    "ax[0, 1].plot(logwaves, flash_atmosphere_full_vrad[1], color='red');\n",
    "ax[0, 1].set_title(r'$1v_{rad}$');\n",
    "ax[1, 0].plot(logwaves, flash_atmosphere_half_vrad[0], color='black');\n",
    "ax[1, 0].plot(logwaves, flash_atmosphere_half_vrad[1], color='red');\n",
    "ax[1, 0].set_title(r'$0.5v_{rad}$');\n",
    "ax[1, 1].plot(logwaves, flash_atmosphere_no_rot[0], color='black');\n",
    "ax[1, 1].plot(logwaves, flash_atmosphere_no_rot[1], color='red');\n",
    "ax[1, 1].set_title(r'no rotation');\n",
    "#plt.plot(flash_atmosphere[:, 1]);"
   ]
  },
  {
   "cell_type": "code",
   "execution_count": null,
   "id": "ffb50e40",
   "metadata": {},
   "outputs": [],
   "source": [
    "jnp.argmin(jnp.abs(jnp.linspace(3.65, 3.7, 50000)-3.691775)), jnp.argmin(jnp.abs(jnp.linspace(3.65, 3.7, 50000)-3.69155))"
   ]
  },
  {
   "cell_type": "code",
   "execution_count": null,
   "id": "5b343f9b",
   "metadata": {},
   "outputs": [],
   "source": [
    "base = plt.cm.get_cmap('turbo')\n",
    "color_list = base(np.linspace(0, 1, 6))"
   ]
  },
  {
   "cell_type": "code",
   "execution_count": null,
   "id": "4d466e20",
   "metadata": {},
   "outputs": [],
   "source": [
    "10**3.69155"
   ]
  },
  {
   "cell_type": "code",
   "execution_count": null,
   "id": "b5e41c35",
   "metadata": {},
   "outputs": [],
   "source": [
    "plt.plot(logwaves, flash_atmosphere_thrice_vrad[0], color=color_list[0], label='3.0$v_{rad}$', linestyle='dotted');\n",
    "plt.plot(logwaves, flash_atmosphere_twice_vrad[0], color=color_list[1], label='2.0$v_{rad}$');\n",
    "plt.plot(logwaves, flash_atmosphere_full_vrad[0], color=color_list[2], label='1.0$v_{rad}$', linestyle='--');\n",
    "plt.plot(logwaves, flash_atmosphere_half_vrad[0], color='orange', label='0.5$v_{rad}$');\n",
    "plt.plot(logwaves, flash_atmosphere_no_rot[0], color=color_list[4], label='no rotation');\n",
    "plt.gca().set_xlim(3.6912, 3.6923);\n",
    "plt.gca().set_ylim(3.5e-5, 11e-5)\n",
    "plt.gca().vlines(3.691775, 3.5e-5, 11e-5, color='black', linewidth=1.)\n",
    "plt.text(3.691785, 1e-4, '$4917.85$ $\\AA$');\n",
    "plt.gca().vlines(3.69155, 3.5e-5, 11e-5, color='red', linewidth=1.)\n",
    "plt.text(3.691557, 1e-4, '$4915.30$ $\\AA$', color='red');\n",
    "plt.gca().set_ylabel('flux')\n",
    "plt.gca().set_xlabel('log wavelength [log $\\AA$]');\n",
    "plt.legend();"
   ]
  },
  {
   "cell_type": "code",
   "execution_count": null,
   "id": "18da913b",
   "metadata": {},
   "outputs": [],
   "source": [
    "grad = jax.jit(jax.grad(lambda v: spectrum_flash_sum(LOG_WAVELENGTHS, areas, mus, vrads*v, 512)[0, 41774]))\n",
    "grad2 = jax.jit(jax.grad(lambda v: spectrum_flash_sum(LOG_WAVELENGTHS, areas, mus, vrads*v, 512)[0, 41549]))"
   ]
  },
  {
   "cell_type": "code",
   "execution_count": null,
   "id": "7faef471",
   "metadata": {},
   "outputs": [],
   "source": [
    "g = jax.jit(jax.vmap(grad))\n",
    "g2 = jax.jit(jax.vmap(grad2))"
   ]
  },
  {
   "cell_type": "code",
   "execution_count": null,
   "id": "00757f81",
   "metadata": {},
   "outputs": [],
   "source": [
    "grads = jax.lax.scan(lambda _, x: (None, g(x)), None, jnp.linspace(0., 3., 50).reshape((10, 5)))[1]"
   ]
  },
  {
   "cell_type": "code",
   "execution_count": null,
   "id": "9c667665",
   "metadata": {},
   "outputs": [],
   "source": [
    "grads2 = jax.lax.scan(lambda _, x: (None, g2(x)), None, jnp.linspace(0., 3., 50).reshape((10, 5)))[1]"
   ]
  },
  {
   "cell_type": "code",
   "execution_count": null,
   "id": "c8d0088e",
   "metadata": {},
   "outputs": [],
   "source": [
    "plt.plot(jnp.linspace(0., 3., 50), grads.flatten(), color='black', label='$4917.84$ $\\AA$')\n",
    "plt.plot(jnp.linspace(0., 3., 50), grads2.flatten(), color='red', label='$4915.30$ $\\AA$')\n",
    "plt.hlines(0., -.2, 3.2, color='black')\n",
    "plt.gca().set_xlim(-.1, 3.1);\n",
    "plt.gca().set_xlabel('$v_{rad}$ multiplier')\n",
    "plt.gca().set_ylabel('d(flux)/d(multiplier)')\n",
    "plt.legend();"
   ]
  },
  {
   "cell_type": "code",
   "execution_count": null,
   "id": "679f5248",
   "metadata": {},
   "outputs": [],
   "source": []
  }
 ],
 "metadata": {
  "kernelspec": {
   "display_name": "Python 3 (ipykernel)",
   "language": "python",
   "name": "python3"
  },
  "language_info": {
   "codemirror_mode": {
    "name": "ipython",
    "version": 3
   },
   "file_extension": ".py",
   "mimetype": "text/x-python",
   "name": "python",
   "nbconvert_exporter": "python",
   "pygments_lexer": "ipython3",
   "version": "3.8.10"
  }
 },
 "nbformat": 4,
 "nbformat_minor": 5
}
