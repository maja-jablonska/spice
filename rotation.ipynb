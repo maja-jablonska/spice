{
 "cells": [
  {
   "cell_type": "code",
   "execution_count": 1,
   "metadata": {},
   "outputs": [
    {
     "name": "stdout",
     "output_type": "stream",
     "text": [
      "Models defined.\n"
     ]
    }
   ],
   "source": [
    "import jax.numpy as jnp\n",
    "from jax import jit, grad\n",
    "import jax\n",
    "from jax.experimental import checkify\n",
    "import matplotlib.pyplot as plt\n",
    "from IPython.display import HTML\n",
    "import sys\n",
    "sys.path.append(\"stellar-mesh-integration/\")\n",
    "from models.mesh_generation import (icosphere, vertex_to_polar, face_center,\n",
    "                             apply_pulsation, mesh_polar_vertices,\n",
    "                             apply_spherical_harm_pulsation, spherical_harmonic)\n",
    "from celluloid import Camera\n",
    "from spectrum import *"
   ]
  },
  {
   "cell_type": "code",
   "execution_count": 2,
   "metadata": {},
   "outputs": [],
   "source": [
    "v, f, a, c, vm = icosphere(500)"
   ]
  },
  {
   "cell_type": "code",
   "execution_count": 5,
   "metadata": {},
   "outputs": [],
   "source": [
    "rotation_matrix_x = lambda theta: jnp.array([\n",
    "    [1, 0, 0],\n",
    "    [0, jnp.cos(theta), -jnp.sin(theta)],\n",
    "    [0, jnp.sin(theta), jnp.cos(theta)]\n",
    "])\n",
    "\n",
    "rotation_matrix_x_prim = lambda theta: jnp.array([\n",
    "    [0, 0, 0],\n",
    "    [0, -jnp.sin(theta), -jnp.cos(theta)],\n",
    "    [0, jnp.cos(theta), -jnp.sin(theta)]\n",
    "])\n",
    "\n",
    "rotation_matrix_y = lambda theta: jnp.array([\n",
    "    [jnp.cos(theta), 0, jnp.sin(theta)],\n",
    "    [0, 1, 0],\n",
    "    [-jnp.sin(theta), 0, jnp.cos(theta)]\n",
    "])\n",
    "\n",
    "rotation_matrix_y_prim = lambda theta: jnp.array([\n",
    "    [-jnp.sin(theta), 0, jnp.cos(theta)],\n",
    "    [0, 0, 0],\n",
    "    [-jnp.cos(theta), 0, -jnp.sin(theta)]\n",
    "])\n",
    "\n",
    "rotation_matrix_z = lambda theta: jnp.array([\n",
    "    [jnp.cos(theta), -jnp.sin(theta), 0],\n",
    "    [jnp.sin(theta), jnp.cos(theta), 0],\n",
    "    [0, 0, 1]\n",
    "])\n",
    "\n",
    "rotation_matrix_z_prim = lambda theta: jnp.array([\n",
    "    [-jnp.sin(theta), -jnp.cos(theta), 0],\n",
    "    [jnp.cos(theta), -jnp.sin(theta), 0],\n",
    "    [0, 0, 0]\n",
    "])\n",
    "\n",
    "def generate_frame(phase1, theta, max_ampl):\n",
    "    ampl1 = max_ampl*jnp.sin(phase1)\n",
    "    vel1 = max_ampl*jnp.cos(phase1)\n",
    "    # def apply_spherical_harm_pulsation(verts, centers, faces, magnitude, m, n)\n",
    "    # return vert_offsets, faces, areas, centers, center_offsets, sph_ham.reshape((-1, 1)), center_sph_ham.reshape((-1, 1))\n",
    "    _, _, areas, _, center_offsets, _, c_mags = apply_spherical_harm_pulsation(v, c, f, ampl1, 1, 2.)\n",
    "    rotated_centers = jnp.matmul(c, rotation_matrix_z(theta))\n",
    "    tan_vel = jnp.matmul(c, rotation_matrix_z_prim(theta))\n",
    "    return vel1*c_mags, rotation_matrix_z(theta), tan_vel, areas, rotated_centers #center_offsets+"
   ]
  },
  {
   "cell_type": "code",
   "execution_count": 6,
   "metadata": {},
   "outputs": [],
   "source": [
    "_, _, _, _, co = generate_frame(0., 0, 10)"
   ]
  },
  {
   "cell_type": "code",
   "execution_count": 7,
   "metadata": {},
   "outputs": [],
   "source": [
    "generate_frames = jax.jit(jax.vmap(generate_frame, in_axes=(0, 0, None)))"
   ]
  },
  {
   "cell_type": "code",
   "execution_count": 8,
   "metadata": {},
   "outputs": [],
   "source": [
    "import matplotlib.pyplot as plt\n",
    "import matplotlib as mpl\n",
    "import numpy as np\n",
    "\n",
    "cmap = mpl.cm.turbo\n",
    "n = 100\n",
    "\n",
    "p1s, thetas = jnp.linspace(0, 2*np.pi, n), jnp.linspace(0, 4*jnp.pi, n)\n",
    "    \n",
    "all_vels, rot_mats, tan_vels, all_areas, all_centers = generate_frames(p1s, thetas, 1.1)\n",
    "\n",
    "all_vels = np.nan_to_num(np.array(all_vels))\n",
    "tan_vels = np.nan_to_num(np.array(tan_vels))\n",
    "\n",
    "los = jnp.array([0., 1., 0.])\n",
    "rotation = 20.\n",
    "pulsation_velocity = 10.\n",
    "\n",
    "los_rot_vels = rotation*jnp.nan_to_num(jnp.dot(tan_vels/jnp.linalg.norm(tan_vels, axis=2).reshape((n, -1, 1)), los)).reshape((n, -1, 1))\n",
    "#los_puls_vels = pulsation_velocity*jnp.nan_to_num(jnp.multiply(all_vels, jnp.dot(all_centers/jnp.linalg.norm(all_centers, axis=2).reshape((n, -1, 1)), los).reshape((n, -1, 1))))\n",
    "\n",
    "los_vels = los_rot_vels#+los_puls_vels\n",
    "\n",
    "norm = mpl.colors.Normalize(vmin=los_vels.min(), vmax=los_vels.max())"
   ]
  },
  {
   "cell_type": "code",
   "execution_count": 9,
   "metadata": {},
   "outputs": [
    {
     "ename": "NameError",
     "evalue": "name 'local_puls' is not defined",
     "output_type": "error",
     "traceback": [
      "\u001b[0;31m---------------------------------------------------------------------------\u001b[0m",
      "\u001b[0;31mNameError\u001b[0m                                 Traceback (most recent call last)",
      "Cell \u001b[0;32mIn[9], line 18\u001b[0m\n\u001b[1;32m     14\u001b[0m \u001b[38;5;66;03m#local_puls = pulsation_velocity*jnp.nan_to_num(v.reshape((-1, 1)))\u001b[39;00m\n\u001b[1;32m     15\u001b[0m \u001b[38;5;66;03m#local_puls_cast = pulsation_velocity*jnp.nan_to_num(jnp.multiply(v, jnp.dot(sv/jnp.linalg.norm(sv, axis=1).reshape((-1, 1)), los).reshape((-1, 1))))\u001b[39;00m\n\u001b[1;32m     17\u001b[0m cmap \u001b[38;5;241m=\u001b[39m plt\u001b[38;5;241m.\u001b[39mget_cmap(\u001b[38;5;124m'\u001b[39m\u001b[38;5;124mturbo\u001b[39m\u001b[38;5;124m'\u001b[39m)\n\u001b[0;32m---> 18\u001b[0m local_norm \u001b[38;5;241m=\u001b[39m mpl\u001b[38;5;241m.\u001b[39mcolors\u001b[38;5;241m.\u001b[39mNormalize(vmin\u001b[38;5;241m=\u001b[39mnp\u001b[38;5;241m.\u001b[39marray([local_rot\u001b[38;5;241m.\u001b[39mmin(), \u001b[43mlocal_puls\u001b[49m\u001b[38;5;241m.\u001b[39mmin(), local_puls_cast\u001b[38;5;241m.\u001b[39mmin()])\u001b[38;5;241m.\u001b[39mmin(),\n\u001b[1;32m     19\u001b[0m                                   vmax\u001b[38;5;241m=\u001b[39mnp\u001b[38;5;241m.\u001b[39marray([local_rot\u001b[38;5;241m.\u001b[39mmax(), local_puls\u001b[38;5;241m.\u001b[39mmax(), local_puls_cast\u001b[38;5;241m.\u001b[39mmax()])\u001b[38;5;241m.\u001b[39mmax())\n\u001b[1;32m     20\u001b[0m \u001b[38;5;66;03m# Set up colormap and normalization\u001b[39;00m\n\u001b[1;32m     22\u001b[0m ax1 \u001b[38;5;241m=\u001b[39m fig\u001b[38;5;241m.\u001b[39madd_subplot(gs[\u001b[38;5;241m0\u001b[39m, :\u001b[38;5;241m3\u001b[39m])\n",
      "\u001b[0;31mNameError\u001b[0m: name 'local_puls' is not defined"
     ]
    },
    {
     "data": {
      "text/plain": [
       "<Figure size 1200x400 with 0 Axes>"
      ]
     },
     "metadata": {},
     "output_type": "display_data"
    }
   ],
   "source": [
    "# i = 10\n",
    "\n",
    "# fig = plt.figure(figsize=(12, 4))\n",
    "# gs = fig.add_gridspec(2, 9, height_ratios=[9, 1])\n",
    "\n",
    "# sv = all_centers[i]\n",
    "# mu = jnp.dot(sv/jnp.linalg.norm(sv, axis=1).reshape((-1, 1)), los)\n",
    "# mu_mask = mu>0\n",
    "\n",
    "# sv = sv[mu_mask]\n",
    "# v = all_vels[i][mu_mask]\n",
    "\n",
    "# local_rot = jnp.nan_to_num(jnp.dot(sv/jnp.linalg.norm(sv, axis=1).reshape((-1, 1)), los).reshape((-1, 1)))\n",
    "# #local_puls = pulsation_velocity*jnp.nan_to_num(v.reshape((-1, 1)))\n",
    "# #local_puls_cast = pulsation_velocity*jnp.nan_to_num(jnp.multiply(v, jnp.dot(sv/jnp.linalg.norm(sv, axis=1).reshape((-1, 1)), los).reshape((-1, 1))))\n",
    "\n",
    "# cmap = plt.get_cmap('turbo')\n",
    "# local_norm = mpl.colors.Normalize(vmin=np.array([local_rot.min(), local_puls.min(), local_puls_cast.min()]).min(),\n",
    "#                                   vmax=np.array([local_rot.max(), local_puls.max(), local_puls_cast.max()]).max())\n",
    "# # Set up colormap and normalization\n",
    "\n",
    "# ax1 = fig.add_subplot(gs[0, :3])\n",
    "# ax1.scatter(sv[:, 0], sv[:, 1], s=20.,\n",
    "#             c=local_rot,\n",
    "#             cmap='turbo', norm=local_norm)\n",
    "# ax1.set_title('$\\mu$')\n",
    "\n",
    "# ax2 = fig.add_subplot(gs[0, 3:6])\n",
    "# scatter= ax2.scatter(sv[:, 0], sv[:, 1], s=20.,\n",
    "#             c=local_puls,\n",
    "#             cmap='turbo', norm=local_norm)\n",
    "# ax2.set_title('Radial velocity')\n",
    "\n",
    "# ax3 = fig.add_subplot(gs[0, 6:])\n",
    "# ax3.scatter(sv[:, 0], sv[:, 1], s=20.,\n",
    "#             c=local_puls_cast,\n",
    "#             cmap='turbo', norm=local_norm)\n",
    "# ax3.set_title('LOS velocity')\n",
    "\n",
    "# cax = fig.add_subplot(gs[-1, 2:7])\n",
    "# cbar = fig.colorbar(scatter, cax=cax, orientation='horizontal')\n",
    "# cbar.set_label('Velocity');\n",
    "# plt.tight_layout()"
   ]
  },
  {
   "cell_type": "code",
   "execution_count": null,
   "metadata": {},
   "outputs": [],
   "source": [
    "fig = plt.figure(figsize=(10, 15))\n",
    "spec = fig.add_gridspec(15, 10)\n",
    "ax1 = fig.add_subplot(spec[:9, :9], projection='3d') #spec[:9], \n",
    "ax2 = fig.add_subplot(spec[:9, 9])\n",
    "ax3 = fig.add_subplot(spec[9, 1:-1])\n",
    "ax4 = fig.add_subplot(spec[11:, 1:-1])\n",
    "camera = Camera(fig)\n",
    "\n",
    "ax1.set_xlim3d(-1.5, 1.5);\n",
    "ax1.set_ylim3d(-1.5, 1.5);\n",
    "ax1.set_ylim3d(-1.5, 1.5);\n",
    "\n",
    "LOG_WAVELENGTHS = jnp.linspace(jnp.log10(5800), jnp.log10(6000), 10000)\n",
    "\n",
    "x, y, z = np.array([[0,0,0],[0,0,0],[0,0,0]])\n",
    "qu, qv, qw = np.array([[1.,0,0], [0,1., 0],[0,0,1.]])\n",
    "\n",
    "for i, (sv, v) in enumerate(zip(all_centers, all_vels)):\n",
    "\n",
    "    ax1.quiver(0., -3., 0., *los, color='red', linewidth=3.)\n",
    "    p = ax1.scatter(sv[:, 0], sv[:, 1], sv[:, 2], c=los_vels[i], cmap=cmap, norm=norm);\n",
    "\n",
    "    rqu = jnp.matmul(qu, rot_mats[i])\n",
    "    rqv = jnp.matmul(qv, rot_mats[i])\n",
    "    rqw = jnp.matmul(qw, rot_mats[i])\n",
    "\n",
    "    ax1.quiver(x, y, z, rqu, rqv, rqw, arrow_length_ratio=0.1, color=\"black\", linewidth=1.)\n",
    "    \n",
    "    ax1.set_xlim(-1.5, 1.5)\n",
    "    ax1.set_ylim(-1.5, 1.5)\n",
    "    ax1.set_zlim(-1.5, 1.5)\n",
    "\n",
    "    ax3.scatter(p1s[i], np.sin(p1s[i]), color='red', zorder=2)\n",
    "\n",
    "    ax3.plot(p1s, np.sin(p1s), color='black', zorder=1)\n",
    "    ax3.set_xlabel('Mode 1 amplitude')\n",
    "    ax3.xaxis.set_ticklabels([])\n",
    "    ax3.xaxis.set_ticks([])\n",
    "    \n",
    "    mus = -1.*jnp.nan_to_num(jnp.dot(sv/jnp.linalg.norm(sv, axis=1).reshape((-1, 1)), los))\n",
    "    mu_mask = mus>0\n",
    "    atmo = spectrum_flash_sum(LOG_WAVELENGTHS, all_areas[i][mu_mask].reshape((-1, 1)), mus[mu_mask], los_vels[i][mu_mask], 0.5*jnp.ones(20,), 256)\n",
    "    ax4.plot(10**LOG_WAVELENGTHS, np.array(atmo[1]), color='red', zorder=1)\n",
    "    ax4.plot(10**LOG_WAVELENGTHS, np.array(atmo[0]), color='black', zorder=0)\n",
    "    \n",
    "    ax4.set_xlabel('Wavelength [$\\AA$]')\n",
    "    ax4.set_ylim(1.23*1e6, 1.50*1e6)\n",
    "    \n",
    "    camera.snap()\n",
    "\n",
    "cbar = fig.colorbar(mpl.cm.ScalarMappable(norm=norm, cmap=cmap), cax=ax2)\n",
    "cbar.set_label('LOS velocity')\n",
    "\n",
    "anim = camera.animate(blit=True)\n",
    "anim.save('test_w_transformer_spectrum.gif')"
   ]
  },
  {
   "cell_type": "code",
   "execution_count": 10,
   "metadata": {},
   "outputs": [],
   "source": [
    "log_wavelengths = np.linspace(np.log10(4000),np.log10(10000),1000)\n",
    "\n",
    "sample_mus = \n",
    "mus_mask = sample_mus>0\n",
    "sample_mus = sample_mus[mus_mask].reshape((-1, 1))\n",
    "sample_areas = sample_areas[mus_mask].reshape((-1, 1))\n",
    "vrads = vrads[mus_mask].reshape((-1, 1))\n",
    "\n",
    "f = spectrum_flash_sum(log_wavelengths, jnp.ones((10, 1)), jnp.ones((10, 1)), jnp.ones((10, 1)), 0.5*jnp.ones((20,)), 256)"
   ]
  },
  {
   "cell_type": "code",
   "execution_count": 11,
   "metadata": {},
   "outputs": [
    {
     "data": {
      "text/plain": [
       "Array([[1229023.4, 1291810.9, 1266199.8, ..., 1529271. , 1600516.9,\n",
       "        1555182.9],\n",
       "       [1376668. , 1378967.8, 1371976.1, ..., 1529481.1, 1600816.4,\n",
       "        1555524.9]], dtype=float32)"
      ]
     },
     "execution_count": 11,
     "metadata": {},
     "output_type": "execute_result"
    }
   ],
   "source": [
    "f"
   ]
  },
  {
   "cell_type": "code",
   "execution_count": 15,
   "metadata": {},
   "outputs": [
    {
     "data": {
      "text/plain": [
       "[<matplotlib.lines.Line2D at 0x7f8ef1057e50>]"
      ]
     },
     "execution_count": 15,
     "metadata": {},
     "output_type": "execute_result"
    },
    {
     "data": {
      "image/png": "[encoded data removed]",
      "text/plain": [
       "<Figure size 800x800 with 2 Axes>"
      ]
     },
     "metadata": {},
     "output_type": "display_data"
    }
   ],
   "source": [
    "fig, axs = plt.subplots(nrows=2,figsize=(8,8),sharex=True)\n",
    "axs[0].plot(10**log_wavelengths, f[0])\n",
    "axs[1].plot(10**log_wavelengths, f[1])"
   ]
  },
  {
   "cell_type": "code",
   "execution_count": 13,
   "metadata": {},
   "outputs": [
    {
     "data": {
      "text/plain": [
       "Array(0.99628913, dtype=float32)"
      ]
     },
     "execution_count": 13,
     "metadata": {},
     "output_type": "execute_result"
    }
   ],
   "source": [
    "mus.max()"
   ]
  },
  {
   "cell_type": "code",
   "execution_count": 14,
   "metadata": {},
   "outputs": [
    {
     "ename": "NameError",
     "evalue": "name 'sample_mus' is not defined",
     "output_type": "error",
     "traceback": [
      "\u001b[0;31m---------------------------------------------------------------------------\u001b[0m",
      "\u001b[0;31mNameError\u001b[0m                                 Traceback (most recent call last)",
      "Cell \u001b[0;32mIn[14], line 1\u001b[0m\n\u001b[0;32m----> 1\u001b[0m mus_mask \u001b[38;5;241m=\u001b[39m \u001b[43msample_mus\u001b[49m\u001b[38;5;241m>\u001b[39m\u001b[38;5;241m0\u001b[39m\n\u001b[1;32m      2\u001b[0m sample_mus \u001b[38;5;241m=\u001b[39m sample_mus[mus_mask]\u001b[38;5;241m.\u001b[39mreshape((\u001b[38;5;241m-\u001b[39m\u001b[38;5;241m1\u001b[39m, \u001b[38;5;241m1\u001b[39m))\n\u001b[1;32m      3\u001b[0m sample_areas \u001b[38;5;241m=\u001b[39m sample_areas[mus_mask]\u001b[38;5;241m.\u001b[39mreshape((\u001b[38;5;241m-\u001b[39m\u001b[38;5;241m1\u001b[39m, \u001b[38;5;241m1\u001b[39m))\n",
      "\u001b[0;31mNameError\u001b[0m: name 'sample_mus' is not defined"
     ]
    }
   ],
   "source": [
    "\n",
    "\n",
    "mus_mask = sample_mus>0\n",
    "sample_mus = sample_mus[mus_mask].reshape((-1, 1))\n",
    "sample_areas = sample_areas[mus_mask].reshape((-1, 1))\n",
    "vrads = vrads[mus_mask].reshape((-1, 1))\n",
    "\n",
    "\n",
    "flash_atmosphere_full_vrad = spectrum_flash_sum(LOG_WAVELENGTHS, sample_areas, sample_mus, vrads, 256)"
   ]
  },
  {
   "cell_type": "code",
   "execution_count": null,
   "metadata": {},
   "outputs": [],
   "source": [
    "plt.plot(np.array(flash_atmosphere_full_vrad[1]), color='red', zorder=1)\n",
    "plt.plot(np.array(flash_atmosphere_full_vrad[0]), color='black', zorder=0)"
   ]
  },
  {
   "cell_type": "raw",
   "metadata": {},
   "source": [
    "gif.save(frames, './example.gif', duration=100)"
   ]
  },
  {
   "cell_type": "code",
   "execution_count": null,
   "metadata": {},
   "outputs": [],
   "source": []
  },
  {
   "cell_type": "code",
   "execution_count": null,
   "metadata": {},
   "outputs": [],
   "source": []
  }
 ],
 "metadata": {
  "kernelspec": {
   "display_name": "Python 3 (ipykernel)",
   "language": "python",
   "name": "python3"
  },
  "language_info": {
   "codemirror_mode": {
    "name": "ipython",
    "version": 3
   },
   "file_extension": ".py",
   "mimetype": "text/x-python",
   "name": "python",
   "nbconvert_exporter": "python",
   "pygments_lexer": "ipython3",
   "version": "3.8.10"
  }
 },
 "nbformat": 4,
 "nbformat_minor": 4
}
