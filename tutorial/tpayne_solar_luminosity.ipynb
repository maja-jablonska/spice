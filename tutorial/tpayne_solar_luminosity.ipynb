{
 "cells": [
  {
   "cell_type": "markdown",
   "metadata": {},
   "source": [
    "# Luminosity with TransformerPayne"
   ]
  },
  {
   "cell_type": "code",
   "execution_count": 11,
   "metadata": {
    "ExecuteTime": {
     "end_time": "2024-09-06T00:11:04.513383Z",
     "start_time": "2024-09-06T00:10:47.541532Z"
    }
   },
   "outputs": [],
   "source": [
    "from spice.models import IcosphereModel\n",
    "from spice.spectrum import simulate_observed_flux\n",
    "from spice.spectrum.spectrum import simulate_monochromatic_luminosity\n",
    "import astropy.units as u\n",
    "import jax.numpy as jnp\n",
    "import numpy as np\n",
    "from transformer_payne import Blackbody\n",
    "import matplotlib.pyplot as plt\n",
    "%matplotlib inline\n",
    "\n",
    "from jax import config"
   ]
  },
  {
   "cell_type": "markdown",
   "metadata": {},
   "source": [
    "Let's use TransformerPayne with solar parameters. No high resolution is required, since we are not considering sunspots or other inhomogeneities."
   ]
  },
  {
   "cell_type": "code",
   "execution_count": 12,
   "metadata": {
    "ExecuteTime": {
     "end_time": "2024-09-06T00:11:04.818200Z",
     "start_time": "2024-09-06T00:11:04.534632Z"
    }
   },
   "outputs": [
    {
     "name": "stderr",
     "output_type": "stream",
     "text": [
      "/Users/mjablons/Documents/stellar-mesh-integration/src/spice/models/mesh_model.py:245: UserWarning: If override_log_g is True, either parameter_names must include one of [logg,loggs,log_g,log_gs,log g,log gs,surface gravity,surface gravities,surface_gravity,surface_gravities], or log_g_index must be passed for log g to be used in the spectrum emulator.\n",
      "  warnings.warn(f\"If override_log_g is True, either parameter_names must include one of [\" + \",\".join(\n"
     ]
    }
   ],
   "source": [
    "bb = Blackbody()\n",
    "model = IcosphereModel.construct(1000, 1., 1., bb.to_parameters(), bb.stellar_parameter_names)"
   ]
  },
  {
   "cell_type": "markdown",
   "metadata": {},
   "source": [
    "To test the bolometric luminosity value, let's choose a wide range of wavelengths."
   ]
  },
  {
   "cell_type": "code",
   "execution_count": 20,
   "metadata": {
    "ExecuteTime": {
     "end_time": "2024-09-06T00:12:48.523506Z",
     "start_time": "2024-09-06T00:12:48.513567Z"
    }
   },
   "outputs": [],
   "source": []
  },
  {
   "cell_type": "markdown",
   "metadata": {},
   "source": [
    "The observed flux is calculated for the distance of 10 parsecs by default."
   ]
  },
  {
   "cell_type": "markdown",
   "metadata": {},
   "source": [
    "Now let's calculate the monochromatic luminosity."
   ]
  },
  {
   "cell_type": "markdown",
   "metadata": {},
   "source": [
    "# Filters\n",
    "\n",
    "Let's use the ```Filter``` subclasses to check the passband luminosities."
   ]
  },
  {
   "cell_type": "code",
   "execution_count": 21,
   "metadata": {
    "ExecuteTime": {
     "end_time": "2024-09-06T00:13:13.254915Z",
     "start_time": "2024-09-06T00:13:13.230893Z"
    }
   },
   "outputs": [],
   "source": [
    "from spice.spectrum.filter import JohnsonCousinsB, JohnsonCousinsI, GaiaG, JohnsonCousinsV\n",
    "\n",
    "jc_b = JohnsonCousinsB()\n",
    "jc_i = JohnsonCousinsI()\n",
    "gaia_g = GaiaG()\n",
    "jc_v = JohnsonCousinsV()"
   ]
  },
  {
   "cell_type": "markdown",
   "metadata": {},
   "source": [
    "The passband luminosities can be calculated using the ```AB_passband_luminosity``` function."
   ]
  },
  {
   "cell_type": "code",
   "execution_count": 22,
   "metadata": {
    "ExecuteTime": {
     "end_time": "2024-09-06T00:13:13.517831Z",
     "start_time": "2024-09-06T00:13:13.515017Z"
    }
   },
   "outputs": [],
   "source": [
    "from spice.spectrum.spectrum import AB_passband_luminosity\n",
    "C: float = 299792.458  # km/s"
   ]
  },
  {
   "cell_type": "code",
   "execution_count": 23,
   "metadata": {
    "ExecuteTime": {
     "end_time": "2024-09-06T00:13:14.283131Z",
     "start_time": "2024-09-06T00:13:14.037637Z"
    }
   },
   "outputs": [],
   "source": [
    "# solar_apparent_mag_B = AB_passband_luminosity(jc_b, vws, observed_flux[:, 0])\n",
    "# solar_apparent_mag_I = AB_passband_luminosity(jc_i, vws, observed_flux[:, 0])\n",
    "# solar_apparent_mag_G = AB_passband_luminosity(gaia_g, vws, observed_flux[:, 0])\n",
    "# solar_johnson_v = AB_passband_luminosity(jc_v, vws, observed_flux[:, 0])\n",
    "\n",
    "# print(\"Apparent magnitude of the Sun\")\n",
    "# print(\"Bessel B:\\t\", solar_apparent_mag_B, \"mag\")\n",
    "# print(\"Bessel I:\\t\", solar_apparent_mag_I, \"mag\")\n",
    "# print(\"Gaia G:\\t\\t\", solar_apparent_mag_G, \"mag\")\n",
    "\n",
    "# print(\"Johnson V:\\t\", solar_johnson_v, \"mag\")"
   ]
  },
  {
   "cell_type": "markdown",
   "metadata": {},
   "source": [
    "# Bolometric luminosity of the Sun\n",
    "\n",
    "The bolometric luminosity of the Sun is the energy that is outputted by the whole Sun. To calculate that, we need to obtain the total flux first."
   ]
  },
  {
   "cell_type": "code",
   "execution_count": 24,
   "metadata": {
    "ExecuteTime": {
     "end_time": "2024-09-06T00:13:14.408725Z",
     "start_time": "2024-09-06T00:13:14.406937Z"
    }
   },
   "outputs": [],
   "source": [
    "from spice.spectrum import luminosity, absolute_bol_luminosity"
   ]
  },
  {
   "cell_type": "code",
   "execution_count": 42,
   "metadata": {
    "ExecuteTime": {
     "end_time": "2024-09-06T00:13:21.751742Z",
     "start_time": "2024-09-06T00:13:14.416755Z"
    }
   },
   "outputs": [
    {
     "name": "stdout",
     "output_type": "stream",
     "text": [
      "\n",
      "Sun's bolometric luminosity (100000): 3.8020125e+33 erg/s\n",
      "Sun's absolute bolometric luminosity (100000): 4.742186 mag\n"
     ]
    }
   ],
   "source": [
    "vws_3 = jnp.linspace(1., 100000., 100000)\n",
    "solar_luminosity_3 = luminosity(bb.flux, model, vws_3)\n",
    "print(\"\\nSun's bolometric luminosity (100000):\", 0.9952351*solar_luminosity_3, \"erg/s\")\n",
    "print(\"Sun's absolute bolometric luminosity (100000):\", absolute_bol_luminosity(solar_luminosity_3), \"mag\")"
   ]
  },
  {
   "cell_type": "code",
   "execution_count": 33,
   "metadata": {},
   "outputs": [
    {
     "name": "stdout",
     "output_type": "stream",
     "text": [
      "Total mesh surface area: 6.053124e+22 cm^2\n",
      "Theoretical solar surface area: 6.082104402130212e+22 cm^2\n",
      "Ratio of mesh to theoretical area: 0.9952351\n"
     ]
    }
   ],
   "source": [
    "# Calculate total surface area of mesh elements\n",
    "total_mesh_area = jnp.sum(model.areas) * (u.solRad.to(u.cm)**2)\n",
    "theoretical_solar_area = 4 * jnp.pi * (u.solRad.to(u.cm)**2)\n",
    "\n",
    "print(\"Total mesh surface area:\", total_mesh_area, \"cm^2\")\n",
    "print(\"Theoretical solar surface area:\", theoretical_solar_area, \"cm^2\")\n",
    "print(\"Ratio of mesh to theoretical area:\", total_mesh_area/theoretical_solar_area)\n"
   ]
  },
  {
   "cell_type": "markdown",
   "metadata": {},
   "source": [
    "Let's compare that to the theoretical luminosity:\n",
    "\n",
    "$L=4\\pi R^2 \\sigma T^4$"
   ]
  },
  {
   "cell_type": "code",
   "execution_count": 43,
   "metadata": {
    "ExecuteTime": {
     "end_time": "2024-09-06T00:14:35.677210Z",
     "start_time": "2024-09-06T00:14:35.668002Z"
    }
   },
   "outputs": [
    {
     "name": "stdout",
     "output_type": "stream",
     "text": [
      "Theoretical luminosity of the Sun: 3.8094993e+33 erg/s\n"
     ]
    }
   ],
   "source": [
    "sigma = (5.67*1e-8*u.W/(u.m**2)/(u.K**4)).to(u.erg/(u.cm**2)/(u.s)/(u.K**4))\n",
    "\n",
    "print(\"Theoretical luminosity of the Sun:\", jnp.sum(model.areas)*(u.solRad.to(u.cm)**2)*sigma*(5772*u.K)**4, \"erg/s\")"
   ]
  },
  {
   "cell_type": "code",
   "execution_count": 44,
   "metadata": {},
   "outputs": [
    {
     "data": {
      "text/plain": [
       "Array(0.9980347, dtype=float32)"
      ]
     },
     "execution_count": 44,
     "metadata": {},
     "output_type": "execute_result"
    }
   ],
   "source": [
    "0.9952351*solar_luminosity_3/(jnp.sum(model.areas)*(u.solRad.to(u.cm)**2)*sigma*(5772*u.K)**4)"
   ]
  },
  {
   "cell_type": "code",
   "execution_count": null,
   "metadata": {},
   "outputs": [],
   "source": []
  }
 ],
 "metadata": {
  "kernelspec": {
   "display_name": "astro",
   "language": "python",
   "name": "python3"
  },
  "language_info": {
   "codemirror_mode": {
    "name": "ipython",
    "version": 3
   },
   "file_extension": ".py",
   "mimetype": "text/x-python",
   "name": "python",
   "nbconvert_exporter": "python",
   "pygments_lexer": "ipython3",
   "version": "3.11.12"
  },
  "orig_nbformat": 4
 },
 "nbformat": 4,
 "nbformat_minor": 2
}
