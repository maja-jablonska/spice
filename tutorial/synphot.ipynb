{
 "cells": [
  {
   "cell_type": "code",
   "id": "initial_id",
   "metadata": {
    "collapsed": true,
    "ExecuteTime": {
     "end_time": "2024-08-29T06:25:28.331059Z",
     "start_time": "2024-08-29T06:25:25.438693Z"
    }
   },
   "source": [
    "import matplotlib.pyplot as plt\n",
    "from synphot import SourceSpectrum\n",
    "from synphot.models import BlackBody1D, Empirical1D\n",
    "from synphot import SpectralElement\n",
    "import numpy as np\n",
    "import astropy.units as u\n",
    "# Create a source at rest wavelength and sample it because it will\n",
    "# be modified in-place below\n",
    "sp_rest = SourceSpectrum(BlackBody1D, temperature=5777)\n",
    "i = SpectralElement.from_filter('johnson_v') \n",
    "wave = np.linspace(1, 40000, 10000)"
   ],
   "outputs": [],
   "execution_count": 1
  },
  {
   "metadata": {
    "ExecuteTime": {
     "end_time": "2024-08-27T05:46:23.531367Z",
     "start_time": "2024-08-27T05:46:23.526790Z"
    }
   },
   "cell_type": "code",
   "source": "from synphot import Observation",
   "id": "9365e1fc65c62cf5",
   "outputs": [],
   "execution_count": 22
  },
  {
   "metadata": {
    "ExecuteTime": {
     "end_time": "2024-08-27T09:43:51.928360Z",
     "start_time": "2024-08-27T09:43:51.882392Z"
    }
   },
   "cell_type": "code",
   "source": "obs = Observation(sp_rest/(10*u.pc.to(u.cm))**2, i, binset=wave)",
   "id": "809a18328ed2cadc",
   "outputs": [],
   "execution_count": 31
  },
  {
   "metadata": {
    "ExecuteTime": {
     "end_time": "2024-08-27T09:43:52.632035Z",
     "start_time": "2024-08-27T09:43:52.608090Z"
    }
   },
   "cell_type": "code",
   "source": [
    "import astropy.units as u\n",
    "obs.effstim(u.ABmag)"
   ],
   "id": "ab497f3992ecc1b0",
   "outputs": [
    {
     "data": {
      "text/plain": [
       "<Magnitude 60.32400532 mag(AB)>"
      ],
      "text/latex": "$60.324005 \\; \\mathrm{mag}$$\\mathrm{\\left( \\mathrm{AB} \\right)}$"
     },
     "execution_count": 32,
     "metadata": {},
     "output_type": "execute_result"
    }
   ],
   "execution_count": 32
  },
  {
   "metadata": {
    "ExecuteTime": {
     "end_time": "2024-08-27T09:50:34.548148Z",
     "start_time": "2024-08-27T09:50:34.530977Z"
    }
   },
   "cell_type": "code",
   "source": "sp_rest.__dict__",
   "id": "3073e258e58cf00f",
   "outputs": [
    {
     "data": {
      "text/plain": [
       "{'_valid_z_types': ('wavelength_only', 'conserve_flux'),\n",
       " '_z_type': 'wavelength_only',\n",
       " '_z': 0.0,\n",
       " '_redshift_model': <RedshiftScaleFactor(z=0.)>,\n",
       " '_redshift_flux_model': None,\n",
       " '_model': <BlackBody1D(temperature=5777.)>,\n",
       " 'meta': {'expr': 'bb(5777.0)'}}"
      ]
     },
     "execution_count": 38,
     "metadata": {},
     "output_type": "execute_result"
    }
   ],
   "execution_count": 38
  },
  {
   "metadata": {},
   "cell_type": "code",
   "outputs": [],
   "execution_count": null,
   "source": "",
   "id": "7e45b81157e6e2b9"
  }
 ],
 "metadata": {
  "kernelspec": {
   "display_name": "Python 3",
   "language": "python",
   "name": "python3"
  },
  "language_info": {
   "codemirror_mode": {
    "name": "ipython",
    "version": 2
   },
   "file_extension": ".py",
   "mimetype": "text/x-python",
   "name": "python",
   "nbconvert_exporter": "python",
   "pygments_lexer": "ipython2",
   "version": "2.7.6"
  }
 },
 "nbformat": 4,
 "nbformat_minor": 5
}
