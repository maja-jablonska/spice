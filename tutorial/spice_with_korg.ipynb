{
 "cells": [
  {
   "cell_type": "markdown",
   "metadata": {},
   "source": [
    "# Using SPICE with Korg.jl\n",
    "\n",
    "Any spectrum model can be used with ```SPICE``` with some custom code. In this example, we are going to adapt [Korg.jl](https://github.com/ajwheeler/Korg.jl) to be used to generate a synthetic spectrum for a mesh model."
   ]
  },
  {
   "cell_type": "code",
   "execution_count": 1,
   "metadata": {},
   "outputs": [
    {
     "name": "stdout",
     "output_type": "stream",
     "text": [
      "Detected IPython. Loading juliacall extension. See https://juliapy.github.io/PythonCall.jl/stable/compat/#IPython\n"
     ]
    }
   ],
   "source": [
    "from spice.spectrum.spectrum_korg import KorgSpectrumEmulator\n",
    "from spice.models import IcosphereModel\n",
    "from spice.models.mesh_transform import add_rotation, evaluate_rotation\n",
    "from spice.models.spots import add_spherical_harmonic_spots\n",
    "from spice.plots import plot_3D, plot_3D_mesh_and_spectrum\n",
    "from spice.spectrum import simulate_observed_flux\n",
    "import astropy.units as u\n",
    "import jax.numpy as jnp\n",
    "import numpy as np\n",
    "import matplotlib.pyplot as plt\n",
    "import matplotlib\n",
    "%matplotlib inline"
   ]
  },
  {
   "cell_type": "code",
   "execution_count": 2,
   "metadata": {},
   "outputs": [],
   "source": [
    "base_temp = 5700\n",
    "spot_temp = 15000\n",
    "\n",
    "k = KorgSpectrumEmulator()"
   ]
  },
  {
   "cell_type": "code",
   "execution_count": 3,
   "metadata": {},
   "outputs": [
    {
     "ename": "TypeError",
     "evalue": "Error interpreting argument to <function atleast_1d at 0x12149e7a0> as an abstract array. The problematic value is of type <class 'juliacall.VectorValue'> and was passed to the function at path arys[0].\nThis typically means that a jit-wrapped function was called with a non-array argument, and this argument was not marked as static using the static_argnums or static_argnames parameters of jax.jit.",
     "output_type": "error",
     "traceback": [
      "\u001b[0;31m---------------------------------------------------------------------------\u001b[0m",
      "\u001b[0;31mTypeError\u001b[0m                                 Traceback (most recent call last)",
      "    \u001b[0;31m[... skipping hidden 1 frame]\u001b[0m\n",
      "File \u001b[0;32m~/anaconda3/envs/astro/lib/python3.11/site-packages/jax/_src/api_util.py:604\u001b[0m, in \u001b[0;36mshaped_abstractify\u001b[0;34m(x)\u001b[0m\n\u001b[1;32m    603\u001b[0m handler \u001b[38;5;241m=\u001b[39m _shaped_abstractify_handlers\u001b[38;5;241m.\u001b[39mget(\u001b[38;5;28mtype\u001b[39m(x), \u001b[38;5;28;01mNone\u001b[39;00m)\n\u001b[0;32m--> 604\u001b[0m \u001b[38;5;28;01mreturn\u001b[39;00m handler(x) \u001b[38;5;28;01mif\u001b[39;00m handler \u001b[38;5;129;01mis\u001b[39;00m \u001b[38;5;129;01mnot\u001b[39;00m \u001b[38;5;28;01mNone\u001b[39;00m \u001b[38;5;28;01melse\u001b[39;00m _shaped_abstractify_slow(x)\n",
      "File \u001b[0;32m~/anaconda3/envs/astro/lib/python3.11/site-packages/jax/_src/api_util.py:596\u001b[0m, in \u001b[0;36m_shaped_abstractify_slow\u001b[0;34m(x)\u001b[0m\n\u001b[1;32m    595\u001b[0m \u001b[38;5;28;01melse\u001b[39;00m:\n\u001b[0;32m--> 596\u001b[0m   \u001b[38;5;28;01mraise\u001b[39;00m \u001b[38;5;167;01mTypeError\u001b[39;00m(\n\u001b[1;32m    597\u001b[0m       \u001b[38;5;124mf\u001b[39m\u001b[38;5;124m\"\u001b[39m\u001b[38;5;124mCannot interpret value of type \u001b[39m\u001b[38;5;132;01m{\u001b[39;00m\u001b[38;5;28mtype\u001b[39m(x)\u001b[38;5;132;01m}\u001b[39;00m\u001b[38;5;124m as an abstract array; it \u001b[39m\u001b[38;5;124m\"\u001b[39m\n\u001b[1;32m    598\u001b[0m       \u001b[38;5;124m\"\u001b[39m\u001b[38;5;124mdoes not have a dtype attribute\u001b[39m\u001b[38;5;124m\"\u001b[39m)\n\u001b[1;32m    599\u001b[0m \u001b[38;5;28;01mreturn\u001b[39;00m core\u001b[38;5;241m.\u001b[39mShapedArray(np\u001b[38;5;241m.\u001b[39mshape(x), dtype, weak_type\u001b[38;5;241m=\u001b[39mweak_type)\n",
      "\u001b[0;31mTypeError\u001b[0m: Cannot interpret value of type <class 'juliacall.VectorValue'> as an abstract array; it does not have a dtype attribute",
      "\nThe above exception was the direct cause of the following exception:\n",
      "\u001b[0;31mTypeError\u001b[0m                                 Traceback (most recent call last)",
      "Cell \u001b[0;32mIn[3], line 1\u001b[0m\n\u001b[0;32m----> 1\u001b[0m m \u001b[38;5;241m=\u001b[39m IcosphereModel\u001b[38;5;241m.\u001b[39mconstruct(\u001b[38;5;241m1000\u001b[39m, \u001b[38;5;241m1.\u001b[39m, \u001b[38;5;241m1.\u001b[39m, k\u001b[38;5;241m.\u001b[39mto_parameters(\u001b[38;5;28mdict\u001b[39m(teff\u001b[38;5;241m=\u001b[39mbase_temp)), k\u001b[38;5;241m.\u001b[39mstellar_parameter_names)\n",
      "File \u001b[0;32m~/Documents/stellar-mesh-integration/src/spice/models/mesh_model.py:221\u001b[0m, in \u001b[0;36mIcosphereModel.construct\u001b[0;34m(cls, n_vertices, radius, mass, parameters, parameter_names, max_pulsation_mode, max_fourier_order, override_log_g, log_g_index)\u001b[0m\n\u001b[1;32m    218\u001b[0m vertices \u001b[38;5;241m=\u001b[39m vertices \u001b[38;5;241m*\u001b[39m radius\n\u001b[1;32m    219\u001b[0m centers \u001b[38;5;241m=\u001b[39m centers \u001b[38;5;241m*\u001b[39m radius\n\u001b[0;32m--> 221\u001b[0m parameters \u001b[38;5;241m=\u001b[39m jnp\u001b[38;5;241m.\u001b[39matleast_1d(parameters)\n\u001b[1;32m    222\u001b[0m \u001b[38;5;28;01mif\u001b[39;00m \u001b[38;5;28mlen\u001b[39m(parameters\u001b[38;5;241m.\u001b[39mshape) \u001b[38;5;241m==\u001b[39m \u001b[38;5;241m1\u001b[39m:\n\u001b[1;32m    223\u001b[0m     parameters \u001b[38;5;241m=\u001b[39m jnp\u001b[38;5;241m.\u001b[39mrepeat(parameters[jnp\u001b[38;5;241m.\u001b[39mnewaxis, :], repeats\u001b[38;5;241m=\u001b[39mareas\u001b[38;5;241m.\u001b[39mshape[\u001b[38;5;241m0\u001b[39m], axis\u001b[38;5;241m=\u001b[39m\u001b[38;5;241m0\u001b[39m)\n",
      "    \u001b[0;31m[... skipping hidden 4 frame]\u001b[0m\n",
      "File \u001b[0;32m~/anaconda3/envs/astro/lib/python3.11/site-packages/jax/_src/pjit.py:622\u001b[0m, in \u001b[0;36m_infer_params_impl\u001b[0;34m(***failed resolving arguments***)\u001b[0m\n\u001b[1;32m    619\u001b[0m     \u001b[38;5;28;01mexcept\u001b[39;00m \u001b[38;5;167;01mTypeError\u001b[39;00m \u001b[38;5;28;01mas\u001b[39;00m e:\n\u001b[1;32m    620\u001b[0m       arg_description \u001b[38;5;241m=\u001b[39m (\u001b[38;5;124mf\u001b[39m\u001b[38;5;124m\"\u001b[39m\u001b[38;5;124mpath \u001b[39m\u001b[38;5;132;01m{\u001b[39;00mdbg\u001b[38;5;241m.\u001b[39marg_names[i]\u001b[38;5;132;01m}\u001b[39;00m\u001b[38;5;124m\"\u001b[39m \u001b[38;5;28;01mif\u001b[39;00m dbg\n\u001b[1;32m    621\u001b[0m                          \u001b[38;5;28;01melse\u001b[39;00m \u001b[38;5;124mf\u001b[39m\u001b[38;5;124m\"\u001b[39m\u001b[38;5;124mflattened argument number \u001b[39m\u001b[38;5;132;01m{\u001b[39;00mi\u001b[38;5;132;01m}\u001b[39;00m\u001b[38;5;124m\"\u001b[39m)\n\u001b[0;32m--> 622\u001b[0m       \u001b[38;5;28;01mraise\u001b[39;00m \u001b[38;5;167;01mTypeError\u001b[39;00m(\n\u001b[1;32m    623\u001b[0m         \u001b[38;5;124mf\u001b[39m\u001b[38;5;124m\"\u001b[39m\u001b[38;5;124mError interpreting argument to \u001b[39m\u001b[38;5;132;01m{\u001b[39;00mfun\u001b[38;5;132;01m}\u001b[39;00m\u001b[38;5;124m as an abstract array.\u001b[39m\u001b[38;5;124m\"\u001b[39m\n\u001b[1;32m    624\u001b[0m         \u001b[38;5;124mf\u001b[39m\u001b[38;5;124m\"\u001b[39m\u001b[38;5;124m The problematic value is of type \u001b[39m\u001b[38;5;132;01m{\u001b[39;00m\u001b[38;5;28mtype\u001b[39m(a)\u001b[38;5;132;01m}\u001b[39;00m\u001b[38;5;124m and was passed to\u001b[39m\u001b[38;5;124m\"\u001b[39m\n\u001b[1;32m    625\u001b[0m         \u001b[38;5;124mf\u001b[39m\u001b[38;5;124m\"\u001b[39m\u001b[38;5;124m the function at \u001b[39m\u001b[38;5;132;01m{\u001b[39;00marg_description\u001b[38;5;132;01m}\u001b[39;00m\u001b[38;5;124m.\u001b[39m\u001b[38;5;130;01m\\n\u001b[39;00m\u001b[38;5;124m\"\u001b[39m\n\u001b[1;32m    626\u001b[0m         \u001b[38;5;124m\"\u001b[39m\u001b[38;5;124mThis typically means that a jit-wrapped function was called with a non-array\u001b[39m\u001b[38;5;124m\"\u001b[39m\n\u001b[1;32m    627\u001b[0m         \u001b[38;5;124m\"\u001b[39m\u001b[38;5;124m argument, and this argument was not marked as static using the\u001b[39m\u001b[38;5;124m\"\u001b[39m\n\u001b[1;32m    628\u001b[0m         \u001b[38;5;124m\"\u001b[39m\u001b[38;5;124m static_argnums or static_argnames parameters of jax.jit.\u001b[39m\u001b[38;5;124m\"\u001b[39m\n\u001b[1;32m    629\u001b[0m       ) \u001b[38;5;28;01mfrom\u001b[39;00m \u001b[38;5;21;01me\u001b[39;00m\n\u001b[1;32m    631\u001b[0m   in_type \u001b[38;5;241m=\u001b[39m in_avals \u001b[38;5;241m=\u001b[39m \u001b[38;5;28mtuple\u001b[39m(avals)\n\u001b[1;32m    632\u001b[0m \u001b[38;5;28;01melse\u001b[39;00m:\n",
      "\u001b[0;31mTypeError\u001b[0m: Error interpreting argument to <function atleast_1d at 0x12149e7a0> as an abstract array. The problematic value is of type <class 'juliacall.VectorValue'> and was passed to the function at path arys[0].\nThis typically means that a jit-wrapped function was called with a non-array argument, and this argument was not marked as static using the static_argnums or static_argnames parameters of jax.jit."
     ]
    }
   ],
   "source": [
    "m = IcosphereModel.construct(1000, 1., 1., k.to_parameters(dict(teff=base_temp)), k.stellar_parameter_names)"
   ]
  },
  {
   "cell_type": "code",
   "execution_count": 4,
   "metadata": {},
   "outputs": [
    {
     "name": "stderr",
     "output_type": "stream",
     "text": [
      "/Users/mjablons/anaconda3/envs/astro/lib/python3.11/site-packages/jax/_src/core.py:700: FutureWarning: unhashable type: <class 'jax._src.interpreters.batching.BatchTracer'>. Attempting to hash a tracer will lead to an error in a future JAX release.\n",
      "  warnings.warn(\n"
     ]
    },
    {
     "ename": "TracerArrayConversionError",
     "evalue": "The numpy.ndarray conversion method __array__() was called on traced array with shape float32[92]\nThis BatchTracer with object id 14195626832 was created on line:\n  /Users/mjablons/Documents/stellar-mesh-integration/src/spice/spectrum/spectrum_korg.py:107:111 (KorgSpectrumEmulator._interpolate_atm)\nSee https://jax.readthedocs.io/en/latest/errors.html#jax.errors.TracerArrayConversionError",
     "output_type": "error",
     "traceback": [
      "\u001b[0;31m---------------------------------------------------------------------------\u001b[0m",
      "\u001b[0;31mTracerArrayConversionError\u001b[0m                Traceback (most recent call last)",
      "Cell \u001b[0;32mIn[4], line 2\u001b[0m\n\u001b[1;32m      1\u001b[0m vws \u001b[38;5;241m=\u001b[39m jnp\u001b[38;5;241m.\u001b[39mlinspace(\u001b[38;5;241m4000.\u001b[39m, \u001b[38;5;241m5000.\u001b[39m, \u001b[38;5;241m1000\u001b[39m)\n\u001b[0;32m----> 2\u001b[0m specs \u001b[38;5;241m=\u001b[39m simulate_observed_flux(k\u001b[38;5;241m.\u001b[39mintensity, m, jnp\u001b[38;5;241m.\u001b[39mlog10(vws))\n",
      "File \u001b[0;32m~/Documents/stellar-mesh-integration/src/spice/spectrum/spectrum.py:121\u001b[0m, in \u001b[0;36msimulate_observed_flux\u001b[0;34m(intensity_fn, m, log_wavelengths, distance, chunk_size, disable_doppler_shift)\u001b[0m\n\u001b[1;32m    115\u001b[0m \u001b[38;5;28;01mdef\u001b[39;00m \u001b[38;5;21msimulate_observed_flux\u001b[39m(intensity_fn: Callable[[ArrayLike, \u001b[38;5;28mfloat\u001b[39m, ArrayLike], ArrayLike],\n\u001b[1;32m    116\u001b[0m                            m: MeshModel,\n\u001b[1;32m    117\u001b[0m                            log_wavelengths: ArrayLike,\n\u001b[1;32m    118\u001b[0m                            distance: \u001b[38;5;28mfloat\u001b[39m \u001b[38;5;241m=\u001b[39m \u001b[38;5;241m10\u001b[39m,\n\u001b[1;32m    119\u001b[0m                            chunk_size: \u001b[38;5;28mint\u001b[39m \u001b[38;5;241m=\u001b[39m DEFAULT_CHUNK_SIZE,\n\u001b[1;32m    120\u001b[0m                            disable_doppler_shift: \u001b[38;5;28mbool\u001b[39m \u001b[38;5;241m=\u001b[39m \u001b[38;5;28;01mFalse\u001b[39;00m):\n\u001b[0;32m--> 121\u001b[0m     \u001b[38;5;28;01mreturn\u001b[39;00m jnp\u001b[38;5;241m.\u001b[39mnan_to_num(__spectrum_flash_sum(intensity_fn,\n\u001b[1;32m    122\u001b[0m                                                log_wavelengths,\n\u001b[1;32m    123\u001b[0m                                                _adjust_dim(m\u001b[38;5;241m.\u001b[39mvisible_cast_areas, chunk_size),\n\u001b[1;32m    124\u001b[0m                                                _adjust_dim(jnp\u001b[38;5;241m.\u001b[39mwhere(m\u001b[38;5;241m.\u001b[39mmus \u001b[38;5;241m>\u001b[39m \u001b[38;5;241m0\u001b[39m, m\u001b[38;5;241m.\u001b[39mmus, \u001b[38;5;241m0.\u001b[39m), chunk_size),\n\u001b[1;32m    125\u001b[0m                                                _adjust_dim(m\u001b[38;5;241m.\u001b[39mlos_velocities, chunk_size),\n\u001b[1;32m    126\u001b[0m                                                _adjust_dim(m\u001b[38;5;241m.\u001b[39mparameters, chunk_size),\n\u001b[1;32m    127\u001b[0m                                                chunk_size,\n\u001b[1;32m    128\u001b[0m                                                disable_doppler_shift) \u001b[38;5;241m*\u001b[39m jnp\u001b[38;5;241m.\u001b[39mpower(m\u001b[38;5;241m.\u001b[39mradius,\n\u001b[1;32m    129\u001b[0m                                                                                   \u001b[38;5;241m2\u001b[39m) \u001b[38;5;241m*\u001b[39m \u001b[38;5;241m5.08326693599739e-16\u001b[39m \u001b[38;5;241m/\u001b[39m (\n\u001b[1;32m    130\u001b[0m                                       distance \u001b[38;5;241m*\u001b[39m\u001b[38;5;241m*\u001b[39m \u001b[38;5;241m2\u001b[39m))\n",
      "    \u001b[0;31m[... skipping hidden 11 frame]\u001b[0m\n",
      "File \u001b[0;32m~/Documents/stellar-mesh-integration/src/spice/spectrum/spectrum.py:99\u001b[0m, in \u001b[0;36m__spectrum_flash_sum\u001b[0;34m(intensity_fn, log_wavelengths, areas, mus, vrads, parameters, chunk_size, disable_doppler_shift)\u001b[0m\n\u001b[1;32m     96\u001b[0m     \u001b[38;5;28;01mreturn\u001b[39;00m (chunk_idx \u001b[38;5;241m+\u001b[39m k_chunk_sizes, new_atmo_sum), \u001b[38;5;28;01mNone\u001b[39;00m\n\u001b[1;32m     98\u001b[0m \u001b[38;5;66;03m# Return (2, n_vertices) for continuum and spectrum with lines\u001b[39;00m\n\u001b[0;32m---> 99\u001b[0m (_, out), _ \u001b[38;5;241m=\u001b[39m lax\u001b[38;5;241m.\u001b[39mscan(\n\u001b[1;32m    100\u001b[0m     chunk_scanner,\n\u001b[1;32m    101\u001b[0m     init\u001b[38;5;241m=\u001b[39m(\u001b[38;5;241m0\u001b[39m, jnp\u001b[38;5;241m.\u001b[39mzeros((log_wavelengths\u001b[38;5;241m.\u001b[39mshape[\u001b[38;5;241m-\u001b[39m\u001b[38;5;241m1\u001b[39m], \u001b[38;5;241m2\u001b[39m))),\n\u001b[1;32m    102\u001b[0m     xs\u001b[38;5;241m=\u001b[39m\u001b[38;5;28;01mNone\u001b[39;00m,\n\u001b[1;32m    103\u001b[0m     length\u001b[38;5;241m=\u001b[39mmath\u001b[38;5;241m.\u001b[39mceil(n_areas \u001b[38;5;241m/\u001b[39m chunk_size))\n\u001b[1;32m    104\u001b[0m \u001b[38;5;28;01mreturn\u001b[39;00m out\n",
      "    \u001b[0;31m[... skipping hidden 16 frame]\u001b[0m\n",
      "File \u001b[0;32m~/Documents/stellar-mesh-integration/src/spice/spectrum/spectrum.py:87\u001b[0m, in \u001b[0;36m__spectrum_flash_sum.<locals>.chunk_scanner\u001b[0;34m(carries, _)\u001b[0m\n\u001b[1;32m     71\u001b[0m shifted_log_wavelengths \u001b[38;5;241m=\u001b[39m jax\u001b[38;5;241m.\u001b[39mlax\u001b[38;5;241m.\u001b[39mcond(disable_doppler_shift,\n\u001b[1;32m     72\u001b[0m                                        \u001b[38;5;28;01mlambda\u001b[39;00m lv, _: jnp\u001b[38;5;241m.\u001b[39mrepeat(lv[jnp\u001b[38;5;241m.\u001b[39mnewaxis, :], chunk_size, axis\u001b[38;5;241m=\u001b[39m\u001b[38;5;241m0\u001b[39m),\n\u001b[1;32m     73\u001b[0m                                        v_apply_vrad_log,\n\u001b[1;32m     74\u001b[0m                                        log_wavelengths, vrad_chunk)\n\u001b[1;32m     76\u001b[0m \u001b[38;5;66;03m# atmosphere_mul is the spectrum simulated for the corresponding wavelengths and optionally given parameters of mu, logg, and T.\u001b[39;00m\n\u001b[1;32m     77\u001b[0m \u001b[38;5;66;03m# It is then multiplied by the observed area to scale the contributions of spectra chunks\u001b[39;00m\n\u001b[1;32m     78\u001b[0m \n\u001b[0;32m   (...)\u001b[0m\n\u001b[1;32m     85\u001b[0m \u001b[38;5;66;03m# m_chunk (CHUNK_SIZE)\u001b[39;00m\n\u001b[1;32m     86\u001b[0m \u001b[38;5;66;03m# p_chunk (CHUNK_SIZE, n_parameters)\u001b[39;00m\n\u001b[0;32m---> 87\u001b[0m v_in \u001b[38;5;241m=\u001b[39m v_intensity(shifted_log_wavelengths,  \u001b[38;5;66;03m# (n,)\u001b[39;00m\n\u001b[1;32m     88\u001b[0m                    m_chunk[:, jnp\u001b[38;5;241m.\u001b[39mnewaxis],\n\u001b[1;32m     89\u001b[0m                    p_chunk)\n\u001b[1;32m     90\u001b[0m atmosphere_mul \u001b[38;5;241m=\u001b[39m jnp\u001b[38;5;241m.\u001b[39mmultiply(\n\u001b[1;32m     91\u001b[0m     (a_chunk)[:, jnp\u001b[38;5;241m.\u001b[39mnewaxis, jnp\u001b[38;5;241m.\u001b[39mnewaxis],\n\u001b[1;32m     92\u001b[0m     v_in)\n\u001b[1;32m     94\u001b[0m new_atmo_sum \u001b[38;5;241m=\u001b[39m atmo_sum \u001b[38;5;241m+\u001b[39m jnp\u001b[38;5;241m.\u001b[39msum(atmosphere_mul, axis\u001b[38;5;241m=\u001b[39m\u001b[38;5;241m0\u001b[39m)\n",
      "    \u001b[0;31m[... skipping hidden 3 frame]\u001b[0m\n",
      "File \u001b[0;32m~/Documents/stellar-mesh-integration/src/spice/spectrum/spectrum_korg.py:130\u001b[0m, in \u001b[0;36mKorgSpectrumEmulator.intensity\u001b[0;34m(self, log_wavelengths, mu, parameters)\u001b[0m\n\u001b[1;32m    128\u001b[0m \u001b[38;5;129m@override\u001b[39m\n\u001b[1;32m    129\u001b[0m \u001b[38;5;28;01mdef\u001b[39;00m \u001b[38;5;21mintensity\u001b[39m(\u001b[38;5;28mself\u001b[39m, log_wavelengths: ArrayLike, mu: \u001b[38;5;28mfloat\u001b[39m, parameters: ArrayLike) \u001b[38;5;241m-\u001b[39m\u001b[38;5;241m>\u001b[39m ArrayLike:\n\u001b[0;32m--> 130\u001b[0m     \u001b[38;5;28;01mreturn\u001b[39;00m jnp\u001b[38;5;241m.\u001b[39marray(\u001b[38;5;28mself\u001b[39m\u001b[38;5;241m.\u001b[39m_synthesize_spectrum(log_wavelengths, parameters)\u001b[38;5;241m.\u001b[39mintensity(mu))\n",
      "File \u001b[0;32m~/Documents/stellar-mesh-integration/src/spice/spectrum/spectrum_korg.py:114\u001b[0m, in \u001b[0;36mKorgSpectrumEmulator._synthesize_spectrum\u001b[0;34m(self, log_wavelengths, parameters)\u001b[0m\n\u001b[1;32m    112\u001b[0m end_lambda \u001b[38;5;241m=\u001b[39m \u001b[38;5;241m10\u001b[39m\u001b[38;5;241m*\u001b[39m\u001b[38;5;241m*\u001b[39mlog_wavelengths[\u001b[38;5;241m-\u001b[39m\u001b[38;5;241m1\u001b[39m]\n\u001b[1;32m    113\u001b[0m step_lambda \u001b[38;5;241m=\u001b[39m (end_lambda \u001b[38;5;241m-\u001b[39m start_lambda) \u001b[38;5;241m/\u001b[39m \u001b[38;5;28mlen\u001b[39m(log_wavelengths)\n\u001b[0;32m--> 114\u001b[0m \u001b[38;5;28;01mreturn\u001b[39;00m Korg\u001b[38;5;241m.\u001b[39msynthesize(\u001b[38;5;28mself\u001b[39m\u001b[38;5;241m.\u001b[39m_interpolate_atm(parameters),\n\u001b[1;32m    115\u001b[0m                        \u001b[38;5;28mself\u001b[39m\u001b[38;5;241m.\u001b[39mline_list,\n\u001b[1;32m    116\u001b[0m                        jl\u001b[38;5;241m.\u001b[39mconvert(jl\u001b[38;5;241m.\u001b[39mVector[jl\u001b[38;5;241m.\u001b[39mFloat64], parameters[\u001b[38;5;241m2\u001b[39m:]),\n\u001b[1;32m    117\u001b[0m                        start_lambda,\n\u001b[1;32m    118\u001b[0m                        end_lambda,\n\u001b[1;32m    119\u001b[0m                        step_lambda)\n",
      "File \u001b[0;32m~/Documents/stellar-mesh-integration/src/spice/spectrum/spectrum_korg.py:107\u001b[0m, in \u001b[0;36mKorgSpectrumEmulator._interpolate_atm\u001b[0;34m(self, parameters)\u001b[0m\n\u001b[1;32m    106\u001b[0m \u001b[38;5;28;01mdef\u001b[39;00m \u001b[38;5;21m_interpolate_atm\u001b[39m(\u001b[38;5;28mself\u001b[39m, parameters: ArrayLike) \u001b[38;5;241m-\u001b[39m\u001b[38;5;241m>\u001b[39m ArrayLike:\n\u001b[0;32m--> 107\u001b[0m     \u001b[38;5;28;01mreturn\u001b[39;00m Korg\u001b[38;5;241m.\u001b[39minterpolate_marcs(parameters[\u001b[38;5;241m0\u001b[39m], parameters[\u001b[38;5;241m1\u001b[39m], jl\u001b[38;5;241m.\u001b[39mconvert(jl\u001b[38;5;241m.\u001b[39mVector[jl\u001b[38;5;241m.\u001b[39mFloat64], np\u001b[38;5;241m.\u001b[39marray(parameters[\u001b[38;5;241m2\u001b[39m:])))\n",
      "File \u001b[0;32m~/anaconda3/envs/astro/lib/python3.11/site-packages/jax/_src/core.py:714\u001b[0m, in \u001b[0;36mTracer.__array__\u001b[0;34m(self, *args, **kw)\u001b[0m\n\u001b[1;32m    713\u001b[0m \u001b[38;5;28;01mdef\u001b[39;00m \u001b[38;5;21m__array__\u001b[39m(\u001b[38;5;28mself\u001b[39m, \u001b[38;5;241m*\u001b[39margs, \u001b[38;5;241m*\u001b[39m\u001b[38;5;241m*\u001b[39mkw):\n\u001b[0;32m--> 714\u001b[0m   \u001b[38;5;28;01mraise\u001b[39;00m TracerArrayConversionError(\u001b[38;5;28mself\u001b[39m)\n",
      "\u001b[0;31mTracerArrayConversionError\u001b[0m: The numpy.ndarray conversion method __array__() was called on traced array with shape float32[92]\nThis BatchTracer with object id 14195626832 was created on line:\n  /Users/mjablons/Documents/stellar-mesh-integration/src/spice/spectrum/spectrum_korg.py:107:111 (KorgSpectrumEmulator._interpolate_atm)\nSee https://jax.readthedocs.io/en/latest/errors.html#jax.errors.TracerArrayConversionError"
     ]
    }
   ],
   "source": [
    "vws = jnp.linspace(4000., 5000., 1000)\n",
    "specs = simulate_observed_flux(k.intensity, m, jnp.log10(vws))"
   ]
  },
  {
   "cell_type": "code",
   "execution_count": null,
   "metadata": {},
   "outputs": [],
   "source": []
  }
 ],
 "metadata": {
  "kernelspec": {
   "display_name": "astro",
   "language": "python",
   "name": "python3"
  },
  "language_info": {
   "codemirror_mode": {
    "name": "ipython",
    "version": 3
   },
   "file_extension": ".py",
   "mimetype": "text/x-python",
   "name": "python",
   "nbconvert_exporter": "python",
   "pygments_lexer": "ipython3",
   "version": "3.11.0"
  }
 },
 "nbformat": 4,
 "nbformat_minor": 2
}
