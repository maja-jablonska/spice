{
 "cells": [
  {
   "cell_type": "markdown",
   "metadata": {},
   "source": [
    "# User Spectrum Interpolator Demo\n",
    "\n",
    "This notebook demonstrates how to use the `UserSpectrumInterpolator` class to load and interpolate your own grid of stellar spectra."
   ]
  },
  {
   "cell_type": "code",
   "execution_count": 1,
   "metadata": {},
   "outputs": [],
   "source": [
    "import numpy as np\n",
    "import matplotlib.pyplot as plt\n",
    "import matplotlib\n",
    "%matplotlib inline\n",
    "\n",
    "from spice.models import IcosphereModel\n",
    "from spice.plots.plot_mesh import plot_3D\n",
    "from spice.models.mesh_transform import add_rotation, evaluate_rotation\n",
    "from spice.spectrum import simulate_observed_flux\n",
    "from transformer_payne import TransformerPayne\n",
    "\n",
    "import h5py\n",
    "import pickle\n",
    "\n",
    "# Import SPICE modules\n",
    "from spice.spectrum.user_spectrum_interpolator import UserSpectrumInterpolator"
   ]
  },
  {
   "cell_type": "markdown",
   "metadata": {},
   "source": [
    "## 1. Creating a Sample Spectrum Grid\n",
    "\n",
    "First, let's create a sample grid of synthetic spectra to demonstrate the functionality. In a real-world scenario, you would use your own pre-computed spectra."
   ]
  },
  {
   "cell_type": "code",
   "execution_count": 2,
   "metadata": {},
   "outputs": [
    {
     "name": "stdout",
     "output_type": "stream",
     "text": [
      "Generated 300 spectra with shape (300, 500)\n"
     ]
    }
   ],
   "source": [
    "# Define a simple function to generate synthetic spectra based on parameters\n",
    "def generate_synthetic_spectrum(wavelengths, teff, logg, metallicity, mu=1.0):\n",
    "    \"\"\"Generate a synthetic spectrum using a simplified model.\n",
    "    \n",
    "    Parameters:\n",
    "    -----------\n",
    "    wavelengths : array-like\n",
    "        Wavelength array in Angstroms (Å)\n",
    "    teff : float\n",
    "        Effective temperature in Kelvin (K)\n",
    "    logg : float\n",
    "        Surface gravity in log(cm/s²)\n",
    "    metallicity : float\n",
    "        Metallicity [M/H] in dex\n",
    "    mu : float, optional\n",
    "        Limb darkening parameter (cosine of the angle between the line of sight and the normal)\n",
    "    \n",
    "    Returns:\n",
    "    --------\n",
    "    intensity : array-like\n",
    "        Spectral intensity in arbitrary units (not physically calibrated)\n",
    "    \"\"\"\n",
    "    # Physical constants\n",
    "    h = 6.62607015e-27  # Planck's constant [erg*s]\n",
    "    c = 2.99792458e10   # Speed of light [cm/s]\n",
    "    k = 1.380649e-16    # Boltzmann constant [erg/K]\n",
    "    \n",
    "    # Convert wavelengths from Angstroms to meters\n",
    "    wave_cm = wavelengths * 1e-8\n",
    "    \n",
    "    # Simplified Planck function (blackbody radiation)\n",
    "    # Note: This produces intensity in arbitrary units, not physically calibrated\n",
    "    intensity = ((2 * h * c ** 2 / wave_cm ** 5 * 1 / (np.exp(h * c / (wave_cm * k * teff)) - 1)))*1e-8\n",
    "    \n",
    "    # # Scale based on gravity (simplified)\n",
    "    # # Higher gravity leads to slightly lower intensity in this simplified model\n",
    "    # gravity_factor = np.exp(-(logg - 4.5)/5)\n",
    "    # intensity *= gravity_factor\n",
    "    \n",
    "    # # Add metallicity effects (simplified)\n",
    "    # # Higher metallicity increases line strength and affects continuum shape\n",
    "    # metal_factor = 1.0 - 0.1 * metallicity * np.sin(2*np.pi*wavelengths/500)\n",
    "    # intensity *= metal_factor\n",
    "    \n",
    "    # Add some absorption lines\n",
    "    for line_center in [4000, 4500, 5000, 5500, 6000, 6500]:  # Line centers in Angstroms\n",
    "        line_width = 5 * (1 + 0.2 * metallicity)  # Line width in Angstroms, wider with higher metallicity\n",
    "        line_depth = 0.3 * (1 + 0.5 * metallicity) * np.exp(-(logg - 4.5)/3)  # Deeper with higher metallicity\n",
    "        line_profile = line_depth * np.exp(-((wavelengths - line_center)/line_width)**2)\n",
    "        intensity *= (1 - line_profile)\n",
    "    \n",
    "    return intensity\n",
    "\n",
    "# Define the parameter grid\n",
    "teff_values = [4000, 5000, 6000, 7000, 8000]  # Effective temperature in K\n",
    "logg_values = [3.5, 4.0, 4.5, 5.0]            # Surface gravity (log g) in log(cm/s²)\n",
    "metallicity_values = [-0.5, 0.0, 0.5]         # Metallicity [M/H] in dex\n",
    "mu_values = [0.1, 0.3, 0.5, 0.7, 1.0]         # Limb darkening parameter (dimensionless)\n",
    "\n",
    "# Create wavelength array (3500-7000 Å, 500 points)\n",
    "wavelengths = np.linspace(3500, 7000, 500)\n",
    "\n",
    "# Generate the grid\n",
    "parameters = []\n",
    "intensities = []\n",
    "\n",
    "for teff in teff_values:\n",
    "    for logg in logg_values:\n",
    "        for metallicity in metallicity_values:\n",
    "            for mu in mu_values:\n",
    "                parameters.append([teff, logg, metallicity, mu])\n",
    "                spectrum = generate_synthetic_spectrum(wavelengths, teff, logg, metallicity, mu)\n",
    "                intensities.append(spectrum)\n",
    "\n",
    "parameters = np.array(parameters)\n",
    "intensities = np.array(intensities)\n",
    "print(f\"Generated {len(parameters)} spectra with shape {intensities.shape}\")"
   ]
  },
  {
   "cell_type": "markdown",
   "metadata": {},
   "source": [
    "Let's visualize a few of the synthetic spectra to ensure they look reasonable:"
   ]
  },
  {
   "cell_type": "code",
   "execution_count": 3,
   "metadata": {},
   "outputs": [
    {
     "name": "stderr",
     "output_type": "stream",
     "text": [
      "/var/folders/7r/n_x0ntj511v_0gt816mgrc1c0000gq/T/ipykernel_78974/169114651.py:17: UserWarning: FigureCanvasAgg is non-interactive, and thus cannot be shown\n",
      "  plt.show()\n"
     ]
    }
   ],
   "source": [
    "# Plot a few spectra at different temperatures with fixed other parameters\n",
    "plt.figure(figsize=(12, 5))\n",
    "\n",
    "for teff in [4000, 6000, 8000]:\n",
    "    # Find the index for a spectrum with this temperature and default other parameters\n",
    "    idx = np.where((parameters[:, 0] == teff) & \n",
    "                   (parameters[:, 1] == 4.5) & \n",
    "                   (parameters[:, 2] == 0.0) &\n",
    "                   (parameters[:, 3] == 1.0))[0][0]\n",
    "    plt.plot(wavelengths, intensities[idx], label=f'Teff = {teff}K')\n",
    "\n",
    "plt.xlabel('Wavelength (Å)')\n",
    "plt.ylabel('Intensity (erg/s/cm²/Å/sr)')\n",
    "plt.title('Sample Synthetic Spectra at Different Effective Temperatures')\n",
    "plt.legend()\n",
    "plt.grid(alpha=0.3)\n",
    "plt.show()"
   ]
  },
  {
   "cell_type": "markdown",
   "metadata": {},
   "source": [
    "Now let's create a simple continuum spectrum to demonstrate the full capability of the interpolator:"
   ]
  },
  {
   "cell_type": "code",
   "execution_count": 4,
   "metadata": {},
   "outputs": [],
   "source": [
    "# Generate continuum spectra (without absorption lines) using the same function\n",
    "def generate_synthetic_continuum(wavelengths, teff, logg, metallicity, mu=1.0):\n",
    "    \"\"\"Generate a synthetic continuum spectrum (without lines).\"\"\"\n",
    "    # Base continuum using blackbody approximation (simplified)\n",
    "    h = 6.62607015e-27  # Planck's constant [erg*s]\n",
    "    c = 2.99792458e10   # Speed of light [cm/s]\n",
    "    k = 1.380649e-16    # Boltzmann constant [erg/K]\n",
    "    \n",
    "    # Convert wavelengths from Angstroms to meters\n",
    "    wave_cm = wavelengths * 1e-8\n",
    "    \n",
    "    # Simplified Planck function (blackbody radiation)\n",
    "    # Note: This produces intensity in arbitrary units, not physically calibrated\n",
    "    intensity = ((2 * h * c ** 2 / wave_cm ** 5 * 1 / (np.exp(h * c / (wave_cm * k * teff)) - 1)))#*1e8\n",
    "    \n",
    "    # # Scale based on gravity (simplified)\n",
    "    # gravity_factor = np.exp(-(logg - 4.5)/5)\n",
    "    # intensity *= gravity_factor\n",
    "    \n",
    "    return intensity\n",
    "\n",
    "# Generate continuum spectra\n",
    "continuum_intensities = []\n",
    "for teff, logg, metallicity, mu in parameters:\n",
    "    spectrum = generate_synthetic_continuum(wavelengths, teff, logg, metallicity, mu)\n",
    "    continuum_intensities.append(spectrum)\n",
    "\n",
    "continuum_intensities = np.array(continuum_intensities)"
   ]
  },
  {
   "cell_type": "markdown",
   "metadata": {},
   "source": [
    "from spice.spectrum.user_spectrum_interpolator import UserSpectrumInterpolator, linear_limb_darkening, quadratic_limb_darkening, nonlinear_limb_darkening"
   ]
  },
  {
   "cell_type": "code",
   "execution_count": 5,
   "metadata": {},
   "outputs": [
    {
     "name": "stdout",
     "output_type": "stream",
     "text": [
      "Saved grid to sample_spectrum_grid.h5\n",
      "Saved grid to sample_spectrum_grid.pkl\n"
     ]
    }
   ],
   "source": [
    "# Save grid as HDF5 file\n",
    "h5_path = 'sample_spectrum_grid.h5'\n",
    "with h5py.File(h5_path, 'w') as f:\n",
    "    # Save parameters and spectra\n",
    "    f.create_dataset('parameters', data=parameters)\n",
    "    f.create_dataset('sp_intensity', data=intensities)\n",
    "    f.create_dataset('log10_sp_wave', data=np.log10(wavelengths))\n",
    "    \n",
    "    # Save continuum spectra\n",
    "    f.create_dataset('sp_no_lines_intensity', data=continuum_intensities)\n",
    "    f.create_dataset('log10_sp_no_lines_wave', data=np.log10(wavelengths))\n",
    "    \n",
    "    # Add parameter names as attributes\n",
    "    f.attrs['parameter_names'] = ['teff', 'logg', 'm/h', 'mu']\n",
    "\n",
    "print(f\"Saved grid to {h5_path}\")\n",
    "\n",
    "# Save grid as pickle file\n",
    "pickle_path = 'sample_spectrum_grid.pkl'\n",
    "grid_data = {\n",
    "    'parameters': parameters,\n",
    "    'intensities': intensities,\n",
    "    'log10_wavelengths': np.log10(wavelengths),\n",
    "    'continuum_intensities': continuum_intensities,\n",
    "    'continuum_wavelengths': np.log10(wavelengths),\n",
    "    'parameter_names': ['teff', 'logg', 'm/h', 'mu']\n",
    "}\n",
    "\n",
    "with open(pickle_path, 'wb') as f:\n",
    "    pickle.dump(grid_data, f)\n",
    "\n",
    "print(f\"Saved grid to {pickle_path}\")"
   ]
  },
  {
   "cell_type": "markdown",
   "metadata": {},
   "source": [
    "## 3. Using the Static Constructor Method\n",
    "\n",
    "The `UserSpectrumInterpolator` class provides a static method to create a compatible grid file directly from raw data. Let's use that method as an alternative way to create our grid."
   ]
  },
  {
   "cell_type": "code",
   "execution_count": 6,
   "metadata": {},
   "outputs": [
    {
     "name": "stdout",
     "output_type": "stream",
     "text": [
      "Created grid file at sample_spectrum_grid_static.h5\n"
     ]
    }
   ],
   "source": [
    "# Use the static method to create a grid file\n",
    "static_h5_path = UserSpectrumInterpolator.create_grid_from_spectra(\n",
    "    parameters=parameters.tolist(),\n",
    "    wavelengths=wavelengths.tolist(),\n",
    "    intensities=intensities.tolist(),\n",
    "    continuum_wavelengths=wavelengths.tolist(),\n",
    "    continuum_intensities=continuum_intensities.tolist(),\n",
    "    parameter_names=['teff', 'logg', 'm/h', 'mu'],\n",
    "    output_path='sample_spectrum_grid_static.h5'\n",
    ")\n",
    "\n",
    "print(f\"Created grid file at {static_h5_path}\")"
   ]
  },
  {
   "cell_type": "markdown",
   "metadata": {},
   "source": [
    "## 4. Loading and Using the Interpolator\n",
    "\n",
    "Now let's load our grid and demonstrate how to use the interpolator."
   ]
  },
  {
   "cell_type": "code",
   "execution_count": 7,
   "metadata": {},
   "outputs": [
    {
     "name": "stdout",
     "output_type": "stream",
     "text": [
      "Parameter ranges in the grid:\n",
      "Temperature (Teff): 4000.0 - 8000.0 K\n",
      "Surface gravity (log g): 3.5 - 5.0\n",
      "Metallicity [M/H]: -0.5 - 0.5\n",
      "Mu values: [0.1 0.3 0.5 0.7 1. ]\n"
     ]
    }
   ],
   "source": [
    "# Initialize the interpolator with our grid\n",
    "interpolator = UserSpectrumInterpolator(\n",
    "    grid_path=h5_path,\n",
    "    parameter_names=['teff', 'logg', 'm/h'],  # Note: mu is handled separately\n",
    "    has_continuum=True,\n",
    "    has_mu=True\n",
    ")\n",
    "\n",
    "# Let's check the parameter space of our grid\n",
    "print(\"Parameter ranges in the grid:\")\n",
    "print(f\"Temperature (Teff): {np.min(interpolator.parameters[:, 0])} - {np.max(interpolator.parameters[:, 0])} K\")\n",
    "print(f\"Surface gravity (log g): {np.min(interpolator.parameters[:, 1])} - {np.max(interpolator.parameters[:, 1])}\")\n",
    "print(f\"Metallicity [M/H]: {np.min(interpolator.parameters[:, 2])} - {np.max(interpolator.parameters[:, 2])}\")\n",
    "print(f\"Mu values: {np.unique(interpolator.parameters[:, 3])}\")"
   ]
  },
  {
   "cell_type": "code",
   "execution_count": 8,
   "metadata": {},
   "outputs": [
    {
     "name": "stderr",
     "output_type": "stream",
     "text": [
      "/var/folders/7r/n_x0ntj511v_0gt816mgrc1c0000gq/T/ipykernel_78974/861862095.py:41: UserWarning: FigureCanvasAgg is non-interactive, and thus cannot be shown\n",
      "  plt.show()\n"
     ]
    }
   ],
   "source": [
    "# Now let's use the interpolator to get spectra at arbitrary parameter values:\n",
    "\n",
    "# Define some wavelengths to interpolate at (log10 scale)\n",
    "log10_wavelengths = np.log10(np.linspace(3600, 6900, 100))\n",
    "\n",
    "# Interpolate a spectrum at arbitrary parameter values\n",
    "parameters1 = {'teff': 5500, 'logg': 4.2, 'm/h': 0.2}\n",
    "mu1 = 0.8\n",
    "\n",
    "# Get the interpolated spectrum\n",
    "result1 = interpolator.intensity(log10_wavelengths, mu1, interpolator.to_parameters(parameters1))\n",
    "spectrum1 = result1[:, 0]  # Line spectrum\n",
    "continuum1 = result1[:, 1]  # Continuum spectrum\n",
    "\n",
    "# Interpolate another spectrum with different parameters\n",
    "parameters2 = {'teff': 7200, 'logg': 3.8, 'm/h': -0.2}\n",
    "mu2 = 0.6\n",
    "result2 = interpolator.intensity(log10_wavelengths, mu2, interpolator.to_parameters(parameters2))\n",
    "spectrum2 = result2[:, 0]  # Line spectrum\n",
    "continuum2 = result2[:, 1]  # Continuum spectrum\n",
    "\n",
    "# Plot the interpolated spectra\n",
    "plt.figure(figsize=(12, 6))\n",
    "\n",
    "# Convert log10 wavelengths back to linear\n",
    "wavelengths_to_plot = 10**log10_wavelengths\n",
    "\n",
    "# Plot spectrum 1\n",
    "plt.plot(wavelengths_to_plot, spectrum1, label=f'Spectrum 1 (Teff={parameters1[\"teff\"]}, logg={parameters1[\"logg\"]}, [M/H]={parameters1[\"m/h\"]}, μ={mu1})')\n",
    "plt.plot(wavelengths_to_plot, continuum1, '--', label='Continuum 1')\n",
    "\n",
    "# Plot spectrum 2\n",
    "plt.plot(wavelengths_to_plot, spectrum2, label=f'Spectrum 2 (Teff={parameters2[\"teff\"]}, logg={parameters2[\"logg\"]}, [M/H]={parameters2[\"m/h\"]}, μ={mu2})')\n",
    "plt.plot(wavelengths_to_plot, continuum2, '--', label='Continuum 2')\n",
    "\n",
    "plt.xlabel('Wavelength (Å)')\n",
    "plt.ylabel('Intensity (erg/s/cm²/Å/sr)')\n",
    "plt.title('Interpolated Spectra')\n",
    "plt.legend()\n",
    "plt.grid(alpha=0.3)\n",
    "plt.show()"
   ]
  },
  {
   "cell_type": "code",
   "execution_count": 9,
   "metadata": {},
   "outputs": [],
   "source": [
    "# Define some wavelengths to interpolate at (log10 scale)\n",
    "log10_wavelengths = np.log10(np.linspace(3600, 6900, 100))\n",
    "\n",
    "# Interpolate a spectrum at arbitrary parameter values\n",
    "parameters1 = {'teff': 5500, 'logg': 4.2, 'm/h': 0.2}\n",
    "mu1 = 0.8\n",
    "\n",
    "# Get the interpolated spectrum\n",
    "result1 = interpolator.intensity(log10_wavelengths, mu1, interpolator.to_parameters(parameters1))\n",
    "spectrum1 = result1[:, 0]  # Line spectrum\n",
    "continuum1 = result1[:, 1]  # Continuum spectrum\n",
    "\n",
    "# Interpolate another spectrum with different parameters\n",
    "parameters2 = {'teff': 7200, 'logg': 3.8, 'm/h': -0.2}\n",
    "mu2 = 0.6\n",
    "result2 = interpolator.intensity(log10_wavelengths, mu2, interpolator.to_parameters(parameters2))\n",
    "spectrum2 = result2[:, 0]  # Line spectrum\n",
    "continuum2 = result2[:, 1]  # Continuum spectrum\n",
    "\n",
    "# Plot the interpolated spectra\n",
    "plt.figure(figsize=(12, 6))\n",
    "\n",
    "# Convert log10 wavelengths back to linear\n",
    "wavelengths_to_plot = 10**log10_wavelengths\n",
    "\n",
    "# Plot spectrum 1\n",
    "plt.plot(wavelengths_to_plot, spectrum1, label=f'Spectrum 1 (Teff={parameters1[\"teff\"]}, logg={parameters1[\"logg\"]}, [M/H]={parameters1[\"m/h\"]}, μ={mu1})')\n",
    "plt.plot(wavelengths_to_plot, continuum1, '--', label='Continuum 1')\n",
    "\n",
    "# Plot spectrum 2\n",
    "plt.plot(wavelengths_to_plot, spectrum2, label=f'Spectrum 2 (Teff={parameters2[\"teff\"]}, logg={parameters2[\"logg\"]}, [M/H]={parameters2[\"m/h\"]}, μ={mu2})')\n",
    "plt.plot(wavelengths_to_plot, continuum2, '--', label='Continuum 2')\n",
    "\n",
    "plt.xlabel('Wavelength (Å)')\n",
    "plt.ylabel('Intensity (erg/s/cm²/Å/sr)')\n",
    "plt.title('Interpolated Spectra')\n",
    "plt.legend()\n",
    "plt.grid(alpha=0.3)"
   ]
  },
  {
   "cell_type": "markdown",
   "metadata": {},
   "source": [
    "## 5. Integration with SPICE Mesh Models\n",
    "\n",
    "Now let's demonstrate how to use our interpolator with SPICE mesh models to generate spectra for a rotating star."
   ]
  },
  {
   "cell_type": "code",
   "execution_count": 10,
   "metadata": {},
   "outputs": [
    {
     "name": "stderr",
     "output_type": "stream",
     "text": [
      "/var/folders/7r/n_x0ntj511v_0gt816mgrc1c0000gq/T/ipykernel_78974/1498949308.py:8: UserWarning: FigureCanvasAgg is non-interactive, and thus cannot be shown\n",
      "  plt.show()\n"
     ]
    }
   ],
   "source": [
    "mesh = IcosphereModel.construct(1000, 1., 1., interpolator.to_parameters(), interpolator.parameter_names)\n",
    "\n",
    "mesh_rotated = evaluate_rotation(add_rotation(mesh, 250.), 1.)\n",
    "\n",
    "# Plot the mesh to visualize the temperature spot\n",
    "plt.figure(figsize=(8, 8))\n",
    "plot_3D(mesh_rotated, 'los_velocities')\n",
    "plt.show()"
   ]
  },
  {
   "cell_type": "code",
   "execution_count": 11,
   "metadata": {},
   "outputs": [
    {
     "name": "stderr",
     "output_type": "stream",
     "text": [
      "/var/folders/7r/n_x0ntj511v_0gt816mgrc1c0000gq/T/ipykernel_78974/297216148.py:6: UserWarning: FigureCanvasAgg is non-interactive, and thus cannot be shown\n",
      "  plt.show()\n"
     ]
    }
   ],
   "source": [
    "spectrum = simulate_observed_flux(interpolator.intensity, mesh, log10_wavelengths)\n",
    "spectrum_rotated = simulate_observed_flux(interpolator.intensity, mesh_rotated, log10_wavelengths)\n",
    "\n",
    "plt.plot(10**log10_wavelengths, spectrum[:, 0])\n",
    "plt.plot(10**log10_wavelengths, spectrum_rotated[:, 0])\n",
    "plt.show()"
   ]
  },
  {
   "cell_type": "markdown",
   "metadata": {},
   "source": [
    "## 6. Examining Line Profile Variations\n",
    "\n",
    "Let's examine how a specific spectral line changes with rotation due to the temperature spot."
   ]
  },
  {
   "cell_type": "code",
   "execution_count": 12,
   "metadata": {},
   "outputs": [
    {
     "name": "stdout",
     "output_type": "stream",
     "text": [
      "Created no-mu grid at sample_spectrum_grid_no_mu.h5\n"
     ]
    }
   ],
   "source": [
    "# Demo of using limb darkening with a grid that doesn't have mu values\n",
    "\n",
    "# Create a version of our grid that doesn't include mu\n",
    "no_mu_h5_path = 'sample_spectrum_grid_no_mu.h5'\n",
    "\n",
    "# Get a subset of our data at mu=1.0 (disk center)\n",
    "disk_center_mask = parameters[:, 3] == 1.0\n",
    "disk_center_parameters = parameters[disk_center_mask, :3]  # Remove mu column\n",
    "disk_center_intensities = intensities[disk_center_mask]\n",
    "disk_center_continuum_intensities = continuum_intensities[disk_center_mask]\n",
    "\n",
    "# Save to HDF5\n",
    "with h5py.File(no_mu_h5_path, 'w') as f:\n",
    "    f.create_dataset('parameters', data=disk_center_parameters)\n",
    "    f.create_dataset('sp_intensity', data=disk_center_intensities)\n",
    "    f.create_dataset('log10_sp_wave', data=np.log10(wavelengths))\n",
    "    f.create_dataset('sp_no_lines_intensity', data=disk_center_continuum_intensities)\n",
    "    f.create_dataset('log10_sp_no_lines_wave', data=np.log10(wavelengths))\n",
    "    f.attrs['parameter_names'] = ['teff', 'logg', 'm/h']\n",
    "\n",
    "print(f\"Created no-mu grid at {no_mu_h5_path}\")"
   ]
  },
  {
   "cell_type": "code",
   "execution_count": 13,
   "metadata": {},
   "outputs": [
    {
     "name": "stdout",
     "output_type": "stream",
     "text": [
      "No mu values provided, using limb darkening law:  linear\n"
     ]
    },
    {
     "name": "stderr",
     "output_type": "stream",
     "text": [
      "/Users/mjablons/Documents/stellar-mesh-integration/src/spice/spectrum/user_spectrum_interpolator.py:375: UserWarning: No limb darkening coefficients provided. Using default values: 0.6\n",
      "  warnings.warn(f\"No limb darkening coefficients provided. Using default values: {limb_darkening_coeffs}\")\n",
      "/var/folders/7r/n_x0ntj511v_0gt816mgrc1c0000gq/T/ipykernel_78974/2987922627.py:34: UserWarning: FigureCanvasAgg is non-interactive, and thus cannot be shown\n",
      "  plt.show()\n"
     ]
    }
   ],
   "source": [
    "# Initialize the no-mu interpolator with linear limb darkening\n",
    "no_mu_interpolator = UserSpectrumInterpolator(\n",
    "    grid_path=no_mu_h5_path,\n",
    "    parameter_names=['teff', 'logg', 'm/h'],\n",
    "    has_continuum=True,\n",
    "    has_mu=False,\n",
    "    limb_darkening_law=\"linear\"\n",
    ")\n",
    "\n",
    "# Test the interpolator with different limb darkening coefficients\n",
    "teff = 6000\n",
    "logg = 4.5\n",
    "metallicity = 0.0\n",
    "\n",
    "# Test different mu values with a single linear coefficient\n",
    "mus = [0.1, 0.3, 0.5, 0.7, 0.9, 1.0]\n",
    "linear_coeff = 0.6  # A typical value for solar-type stars\n",
    "\n",
    "plt.figure(figsize=(12, 6))\n",
    "\n",
    "for mu in mus:\n",
    "    # Interpolate with limb darkening\n",
    "    params = {'teff': teff, 'logg': logg, 'm/h': metallicity, 'limb_darkening': linear_coeff}\n",
    "    result = no_mu_interpolator.intensity(log10_wavelengths, mu, params)\n",
    "    spectrum = result[:, 0]  # Line spectrum\n",
    "    \n",
    "    plt.plot(10**log10_wavelengths, spectrum, label=f'μ={mu}')\n",
    "\n",
    "plt.xlabel('Wavelength (Å)')\n",
    "plt.ylabel('Intensity (erg/s/cm²/Å/sr)')\n",
    "plt.title(f'Spectra with Linear Limb Darkening (coefficient={linear_coeff})')\n",
    "plt.legend()\n",
    "plt.grid(alpha=0.3)\n",
    "plt.show()"
   ]
  },
  {
   "cell_type": "code",
   "execution_count": 14,
   "metadata": {},
   "outputs": [
    {
     "name": "stdout",
     "output_type": "stream",
     "text": [
      "No mu values provided, using limb darkening law:  linear\n",
      "No mu values provided, using limb darkening law:  quadratic\n",
      "No mu values provided, using limb darkening law:  nonlinear\n"
     ]
    },
    {
     "name": "stderr",
     "output_type": "stream",
     "text": [
      "/Users/mjablons/Documents/stellar-mesh-integration/src/spice/spectrum/user_spectrum_interpolator.py:375: UserWarning: No limb darkening coefficients provided. Using default values: (0.4, 0.2)\n",
      "  warnings.warn(f\"No limb darkening coefficients provided. Using default values: {limb_darkening_coeffs}\")\n",
      "/Users/mjablons/Documents/stellar-mesh-integration/src/spice/spectrum/user_spectrum_interpolator.py:375: UserWarning: No limb darkening coefficients provided. Using default values: (0.5, 0.2, 0.3, 0.1)\n",
      "  warnings.warn(f\"No limb darkening coefficients provided. Using default values: {limb_darkening_coeffs}\")\n",
      "/var/folders/7r/n_x0ntj511v_0gt816mgrc1c0000gq/T/ipykernel_78974/603548105.py:41: UserWarning: FigureCanvasAgg is non-interactive, and thus cannot be shown\n",
      "  plt.show()\n"
     ]
    }
   ],
   "source": [
    "# Compare different limb darkening laws\n",
    "mu_test = 0.5  # Test at μ=0.5\n",
    "\n",
    "# Reinitialize with different limb darkening laws\n",
    "interp_linear = UserSpectrumInterpolator(\n",
    "    grid_path=no_mu_h5_path, has_mu=False, limb_darkening_law=\"linear\")\n",
    "\n",
    "interp_quadratic = UserSpectrumInterpolator(\n",
    "    grid_path=no_mu_h5_path, has_mu=False, limb_darkening_law=\"quadratic\")\n",
    "\n",
    "interp_nonlinear = UserSpectrumInterpolator(\n",
    "    grid_path=no_mu_h5_path, has_mu=False, limb_darkening_law=\"nonlinear\")\n",
    "\n",
    "# Define parameters with different limb darkening coefficients\n",
    "params_linear = {'teff': teff, 'logg': logg, 'm/h': metallicity, 'limb_darkening': 0.6}\n",
    "params_quadratic = {'teff': teff, 'logg': logg, 'm/h': metallicity, 'limb_darkening': (0.4, 0.2)}\n",
    "params_nonlinear = {'teff': teff, 'logg': logg, 'm/h': metallicity, 'limb_darkening': (0.5, 0.2, 0.3, 0.1)}\n",
    "\n",
    "# Get spectra\n",
    "result_linear = interp_linear.intensity(log10_wavelengths, mu_test, params_linear)\n",
    "result_quadratic = interp_quadratic.intensity(log10_wavelengths, mu_test, params_quadratic)\n",
    "result_nonlinear = interp_nonlinear.intensity(log10_wavelengths, mu_test, params_nonlinear)\n",
    "\n",
    "# Also get the mu=1.0 (disk center) spectrum for comparison\n",
    "result_disk_center = interp_linear.intensity(log10_wavelengths, 1.0, params_linear)\n",
    "\n",
    "# Plot comparison\n",
    "plt.figure(figsize=(12, 6))\n",
    "wavelengths_plot = 10**log10_wavelengths\n",
    "\n",
    "plt.plot(wavelengths_plot, result_disk_center[:, 0], 'k--', label='Disk Center (μ=1.0)')\n",
    "plt.plot(wavelengths_plot, result_linear[:, 0], label=f'Linear LD (μ={mu_test})')\n",
    "plt.plot(wavelengths_plot, result_quadratic[:, 0], label=f'Quadratic LD (μ={mu_test})')\n",
    "plt.plot(wavelengths_plot, result_nonlinear[:, 0], label=f'Nonlinear LD (μ={mu_test})')\n",
    "\n",
    "plt.xlabel('Wavelength (Å)')\n",
    "plt.ylabel('Intensity (erg/s/cm²/Å/sr)')\n",
    "plt.title('Comparison of Limb Darkening Laws')\n",
    "plt.legend()\n",
    "plt.grid(alpha=0.3)\n",
    "plt.show()"
   ]
  },
  {
   "cell_type": "markdown",
   "metadata": {},
   "source": [
    "## Limb Darkening Support\n",
    "\n",
    "The `UserSpectrumInterpolator` class now supports two different methods for handling limb darkening:\n",
    "\n",
    "1. **Grid-based interpolation**: If your grid includes spectra at different μ values\n",
    "2. **Analytical limb darkening**: If your grid only has disk-center spectra, you can apply analytical limb darkening laws\n",
    "\n",
    "Three limb darkening laws are supported:\n",
    "- Linear: I(μ)/I(1) = 1 - u(1-μ)\n",
    "- Quadratic: I(μ)/I(1) = 1 - a(1-μ) - b(1-μ)²\n",
    "- Non-linear (4-parameter): I(μ)/I(1) = 1 - a(1-μ½) - b(1-μ) - c(1-μ¹·⁵) - d(1-μ²)\n",
    "\n",
    "This feature is useful when you have high-quality disk-center spectra but don't have angle-dependent intensity data."
   ]
  },
  {
   "cell_type": "code",
   "execution_count": 15,
   "metadata": {},
   "outputs": [
    {
     "ename": "NameError",
     "evalue": "name 'linear_limb_darkening' is not defined",
     "output_type": "error",
     "traceback": [
      "\u001b[31m---------------------------------------------------------------------------\u001b[39m",
      "\u001b[31mNameError\u001b[39m                                 Traceback (most recent call last)",
      "\u001b[36mCell\u001b[39m\u001b[36m \u001b[39m\u001b[32mIn[15]\u001b[39m\u001b[32m, line 5\u001b[39m\n\u001b[32m      2\u001b[39m mus = np.linspace(\u001b[32m0.01\u001b[39m, \u001b[32m1.0\u001b[39m, \u001b[32m100\u001b[39m)\n\u001b[32m      4\u001b[39m \u001b[38;5;66;03m# Calculate intensity factors for different limb darkening laws\u001b[39;00m\n\u001b[32m----> \u001b[39m\u001b[32m5\u001b[39m linear_factor = \u001b[43mlinear_limb_darkening\u001b[49m(mus, \u001b[32m0.6\u001b[39m)\n\u001b[32m      6\u001b[39m quadratic_factor = quadratic_limb_darkening(mus, (\u001b[32m0.4\u001b[39m, \u001b[32m0.2\u001b[39m))\n\u001b[32m      7\u001b[39m nonlinear_factor = nonlinear_limb_darkening(mus, (\u001b[32m0.5\u001b[39m, \u001b[32m0.2\u001b[39m, \u001b[32m0.3\u001b[39m, \u001b[32m0.1\u001b[39m))\n",
      "\u001b[31mNameError\u001b[39m: name 'linear_limb_darkening' is not defined"
     ]
    }
   ],
   "source": [
    "# Visualize limb darkening across the stellar disk\n",
    "mus = np.linspace(0.01, 1.0, 100)\n",
    "\n",
    "# Calculate intensity factors for different limb darkening laws\n",
    "linear_factor = linear_limb_darkening(mus, 0.6)\n",
    "quadratic_factor = quadratic_limb_darkening(mus, (0.4, 0.2))\n",
    "nonlinear_factor = nonlinear_limb_darkening(mus, (0.5, 0.2, 0.3, 0.1))\n",
    "\n",
    "plt.figure(figsize=(10, 6))\n",
    "plt.plot(mus, linear_factor, label='Linear (u=0.6)')\n",
    "plt.plot(mus, quadratic_factor, label='Quadratic (a=0.4, b=0.2)')\n",
    "plt.plot(mus, nonlinear_factor, label='Non-linear (4-param)')\n",
    "plt.xlabel('μ = cos(angle)')\n",
    "plt.ylabel('I(μ)/I(1)')\n",
    "plt.title('Limb Darkening Laws')\n",
    "plt.grid(alpha=0.3)\n",
    "plt.legend()\n",
    "plt.show()\n",
    "\n",
    "# Create a 2D visualization of limb darkening on a stellar disk\n",
    "def create_stellar_disk(radius=1.0, limb_darkening_func=None, ld_coeffs=None):\n",
    "    \"\"\"Create a 2D stellar disk with limb darkening\"\"\"\n",
    "    x = np.linspace(-radius, radius, 500)\n",
    "    y = np.linspace(-radius, radius, 500)\n",
    "    X, Y = np.meshgrid(x, y)\n",
    "    \n",
    "    # Calculate distance from center\n",
    "    r = np.sqrt(X**2 + Y**2)\n",
    "    \n",
    "    # Create mask for points inside the disk\n",
    "    mask = r <= radius\n",
    "    \n",
    "    # Initialize intensity array\n",
    "    intensity = np.zeros_like(r)\n",
    "    \n",
    "    # For points inside the disk, calculate mu\n",
    "    mu = np.sqrt(1 - (r[mask]/radius)**2)\n",
    "    \n",
    "    # Apply limb darkening\n",
    "    if limb_darkening_func and ld_coeffs is not None:\n",
    "        intensity[mask] = limb_darkening_func(mu, ld_coeffs)\n",
    "    else:\n",
    "        intensity[mask] = 1.0\n",
    "    \n",
    "    return intensity\n",
    "\n",
    "# Create disks with different limb darkening laws\n",
    "disk_linear = create_stellar_disk(limb_darkening_func=linear_limb_darkening, ld_coeffs=0.6)\n",
    "disk_quadratic = create_stellar_disk(limb_darkening_func=quadratic_limb_darkening, ld_coeffs=(0.4, 0.2))\n",
    "disk_nonlinear = create_stellar_disk(limb_darkening_func=nonlinear_limb_darkening, ld_coeffs=(0.5, 0.2, 0.3, 0.1))\n",
    "\n",
    "# Plot the disks\n",
    "fig, axes = plt.subplots(1, 3, figsize=(15, 5))\n",
    "\n",
    "axes[0].imshow(disk_linear, cmap='viridis', origin='lower')\n",
    "axes[0].set_title('Linear Limb Darkening')\n",
    "axes[0].set_axis_off()\n",
    "\n",
    "axes[1].imshow(disk_quadratic, cmap='viridis', origin='lower')\n",
    "axes[1].set_title('Quadratic Limb Darkening')\n",
    "axes[1].set_axis_off()\n",
    "\n",
    "axes[2].imshow(disk_nonlinear, cmap='viridis', origin='lower')\n",
    "axes[2].set_title('Non-linear Limb Darkening')\n",
    "axes[2].set_axis_off()\n",
    "\n",
    "plt.tight_layout()\n",
    "plt.show()"
   ]
  },
  {
   "cell_type": "code",
   "execution_count": 1,
   "metadata": {},
   "outputs": [
    {
     "ename": "NameError",
     "evalue": "name 'wavelengths' is not defined",
     "output_type": "error",
     "traceback": [
      "\u001b[31m---------------------------------------------------------------------------\u001b[39m",
      "\u001b[31mNameError\u001b[39m                                 Traceback (most recent call last)",
      "\u001b[36mCell\u001b[39m\u001b[36m \u001b[39m\u001b[32mIn[1]\u001b[39m\u001b[32m, line 7\u001b[39m\n\u001b[32m      4\u001b[39m line_range = (line_center - line_width, line_center + line_width)\n\u001b[32m      6\u001b[39m \u001b[38;5;66;03m# Filter the wavelengths to focus on our chosen line\u001b[39;00m\n\u001b[32m----> \u001b[39m\u001b[32m7\u001b[39m line_mask = (\u001b[43mwavelengths\u001b[49m >= line_range[\u001b[32m0\u001b[39m]) & (wavelengths <= line_range[\u001b[32m1\u001b[39m])\n\u001b[32m      8\u001b[39m line_wavelengths = wavelengths[line_mask]\n\u001b[32m     10\u001b[39m plt.figure(figsize=(\u001b[32m10\u001b[39m, \u001b[32m6\u001b[39m))\n",
      "\u001b[31mNameError\u001b[39m: name 'wavelengths' is not defined"
     ]
    }
   ],
   "source": [
    "# Choose a wavelength range around one of our absorption lines (e.g., around 5000Å)\n",
    "line_center = 5000\n",
    "line_width = 100\n",
    "line_range = (line_center - line_width, line_center + line_width)\n",
    "\n",
    "# Filter the wavelengths to focus on our chosen line\n",
    "line_mask = (wavelengths >= line_range[0]) & (wavelengths <= line_range[1])\n",
    "line_wavelengths = wavelengths[line_mask]\n",
    "\n",
    "plt.figure(figsize=(10, 6))\n",
    "\n",
    "for i, angle in enumerate(rotation_angles):\n",
    "    # Extract the line profile and its continuum\n",
    "    line_spectrum = spectra[i][line_mask]\n",
    "    line_continuum = continua[i][line_mask]\n",
    "    \n",
    "    # Normalize by the continuum to better show the line profile variations\n",
    "    normalized_spectrum = line_spectrum / line_continuum\n",
    "    \n",
    "    plt.plot(line_wavelengths, normalized_spectrum, label=f'Rotation {angle}°')\n",
    "\n",
    "plt.xlabel('Wavelength (Å)')\n",
    "plt.ylabel('Normalized Flux')\n",
    "plt.title('Line Profile Variations with Rotation')\n",
    "plt.legend()\n",
    "plt.grid(alpha=0.3)\n",
    "plt.show()"
   ]
  },
  {
   "cell_type": "markdown",
   "metadata": {},
   "source": [
    "## 7. Creating an Animation of Spectral Variations with Rotation\n",
    "\n",
    "Finally, let's create an animation to visualize how the spectrum changes as the star rotates."
   ]
  },
  {
   "cell_type": "code",
   "execution_count": null,
   "metadata": {},
   "outputs": [],
   "source": [
    "from matplotlib.animation import FuncAnimation\n",
    "\n",
    "# Generate more rotation angles for a smoother animation\n",
    "n_frames = 36\n",
    "animation_angles = np.linspace(0, 360, n_frames, endpoint=False)\n",
    "\n",
    "# Pre-compute spectra for all frames\n",
    "animation_spectra = []\n",
    "animation_continua = []\n",
    "\n",
    "for angle in animation_angles:\n",
    "    angle_rad = np.radians(angle)\n",
    "    spectrum, continuum = generate_integrated_spectrum(log10_wavelengths, mesh, teff, logg, metallicity, angle_rad)\n",
    "    animation_spectra.append(spectrum)\n",
    "    animation_continua.append(continuum)\n",
    "\n",
    "# Create the animation\n",
    "fig, (ax1, ax2) = plt.subplots(1, 2, figsize=(14, 6))\n",
    "fig.subplots_adjust(wspace=0.3)\n",
    "\n",
    "# Initialize plots\n",
    "line1, = ax1.plot([], [], 'b-')\n",
    "line2, = ax2.plot([], [], 'r-')\n",
    "\n",
    "ax1.set_xlim(wavelengths.min(), wavelengths.max())\n",
    "ax1.set_ylim(min([spec.min() for spec in animation_spectra]) * 0.9, \n",
    "            max([spec.max() for spec in animation_spectra]) * 1.1)\n",
    "ax1.set_xlabel('Wavelength (Å)')\n",
    "ax1.set_ylabel('Flux')\n",
    "ax1.set_title('Full Spectrum')\n",
    "ax1.grid(alpha=0.3)\n",
    "\n",
    "# Set up the line profile plot\n",
    "ax2.set_xlim(line_range[0], line_range[1])\n",
    "# Calculate the range for normalized profiles\n",
    "norm_min = min([min(animation_spectra[i][line_mask] / animation_continua[i][line_mask]) for i in range(n_frames)]) * 0.99\n",
    "norm_max = min([max(animation_spectra[i][line_mask] / animation_continua[i][line_mask]) for i in range(n_frames)]) * 1.01\n",
    "ax2.set_ylim(norm_min, norm_max)\n",
    "ax2.set_xlabel('Wavelength (Å)')\n",
    "ax2.set_ylabel('Normalized Flux')\n",
    "ax2.set_title('Line Profile')\n",
    "ax2.grid(alpha=0.3)\n",
    "\n",
    "# Title for the overall figure\n",
    "fig.suptitle('Spectrum Variations with Stellar Rotation', fontsize=16)\n",
    "\n",
    "# Text annotation for rotation angle\n",
    "angle_text = ax1.text(0.05, 0.95, '', transform=ax1.transAxes, va='top')\n",
    "\n",
    "def update(frame):\n",
    "    # Update full spectrum\n",
    "    line1.set_data(wavelengths, animation_spectra[frame])\n",
    "    \n",
    "    # Update line profile\n",
    "    normalized_profile = animation_spectra[frame][line_mask] / animation_continua[frame][line_mask]\n",
    "    line2.set_data(line_wavelengths, normalized_profile)\n",
    "    \n",
    "    # Update rotation angle text\n",
    "    angle_text.set_text(f'Rotation: {animation_angles[frame]:.1f}°')\n",
    "    \n",
    "    return line1, line2, angle_text\n",
    "\n",
    "# Create animation\n",
    "anim = FuncAnimation(fig, update, frames=n_frames, interval=100, blit=True)\n",
    "\n",
    "# Display the animation\n",
    "from IPython.display import HTML\n",
    "HTML(anim.to_jshtml())"
   ]
  },
  {
   "cell_type": "markdown",
   "metadata": {},
   "source": [
    "## 8. Conclusion\n",
    "\n",
    "This notebook has demonstrated how to:\n",
    "\n",
    "1. Create a sample grid of synthetic spectra\n",
    "2. Save the grid in both HDF5 and pickle formats\n",
    "3. Load the grid using the `UserSpectrumInterpolator` class\n",
    "4. Interpolate spectra at arbitrary stellar parameters\n",
    "5. Integrate the interpolator with SPICE mesh models to generate spectra for a rotating star with a spot\n",
    "6. Visualize line profile variations due to the spot\n",
    "\n",
    "The `UserSpectrumInterpolator` provides a flexible framework for using your own pre-computed grid of spectra with the SPICE ecosystem, allowing for detailed spectral synthesis of complex stellar surfaces."
   ]
  }
 ],
 "metadata": {
  "kernelspec": {
   "display_name": "astro",
   "language": "python",
   "name": "python3"
  },
  "language_info": {
   "codemirror_mode": {
    "name": "ipython",
    "version": 3
   },
   "file_extension": ".py",
   "mimetype": "text/x-python",
   "name": "python",
   "nbconvert_exporter": "python",
   "pygments_lexer": "ipython3",
   "version": "3.11.12"
  }
 },
 "nbformat": 4,
 "nbformat_minor": 4
}
