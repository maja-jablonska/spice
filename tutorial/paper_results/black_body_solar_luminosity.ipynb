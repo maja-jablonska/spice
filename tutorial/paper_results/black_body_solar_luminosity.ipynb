{
 "cells": [
  {
   "cell_type": "markdown",
   "metadata": {},
   "source": [
    "# Luminosity"
   ]
  },
  {
   "cell_type": "code",
   "execution_count": 1,
   "metadata": {
    "ExecuteTime": {
     "end_time": "2024-09-06T00:11:04.513383Z",
     "start_time": "2024-09-06T00:10:47.541532Z"
    }
   },
   "outputs": [],
   "source": [
    "from spice.models import IcosphereModel\n",
    "from spice.spectrum import simulate_observed_flux, luminosity\n",
    "from spice.spectrum.spectrum import simulate_monochromatic_luminosity\n",
    "import astropy.units as u\n",
    "import jax.numpy as jnp\n",
    "import numpy as np\n",
    "from transformer_payne import Blackbody\n",
    "import matplotlib.pyplot as plt\n",
    "%matplotlib inline\n",
    "\n",
    "from jax import config\n",
    "config.update('jax_platform_name', 'cpu')\n",
    "config.update('jax_enable_x64', True)"
   ]
  },
  {
   "cell_type": "markdown",
   "metadata": {},
   "source": [
    "Let's use a simple, blackbody model just for the testing purposes, alogside with a solar-like model."
   ]
  },
  {
   "cell_type": "code",
   "execution_count": 2,
   "metadata": {
    "ExecuteTime": {
     "end_time": "2024-09-06T00:11:04.818200Z",
     "start_time": "2024-09-06T00:11:04.534632Z"
    }
   },
   "outputs": [
    {
     "name": "stderr",
     "output_type": "stream",
     "text": [
      "/Users/mjablons/Documents/stellar-mesh-integration/src/spice/models/mesh_model.py:245: UserWarning: If override_log_g is True, either parameter_names must include one of [logg,loggs,log_g,log_gs,log g,log gs,surface gravity,surface gravities,surface_gravity,surface_gravities], or log_g_index must be passed for log g to be used in the spectrum emulator.\n",
      "  warnings.warn(f\"If override_log_g is True, either parameter_names must include one of [\" + \",\".join(\n"
     ]
    }
   ],
   "source": [
    "bb = Blackbody()\n",
    "model = IcosphereModel.construct(10000, 1., 1., [5772.], bb.parameter_names)"
   ]
  },
  {
   "cell_type": "code",
   "execution_count": 3,
   "metadata": {},
   "outputs": [],
   "source": [
    "bb_wavelengths = jnp.linspace(1, 100000, 10000)"
   ]
  },
  {
   "cell_type": "markdown",
   "metadata": {},
   "source": [
    "# Bolometric luminosity of the Sun\n",
    "\n",
    "The bolometric luminosity of the Sun is the energy that is outputted by the whole Sun. To calculate that, we need to obtain the total flux first."
   ]
  },
  {
   "cell_type": "code",
   "execution_count": 4,
   "metadata": {
    "ExecuteTime": {
     "end_time": "2024-09-06T00:13:14.408725Z",
     "start_time": "2024-09-06T00:13:14.406937Z"
    }
   },
   "outputs": [
    {
     "name": "stdout",
     "output_type": "stream",
     "text": [
      "Sun's bolometric luminosity: 3.8240790425307373e+33 erg/s\n"
     ]
    }
   ],
   "source": [
    "solar_luminosity = luminosity(bb.flux, model, bb_wavelengths)\n",
    "print(\"Sun's bolometric luminosity:\", solar_luminosity, \"erg/s\")"
   ]
  },
  {
   "cell_type": "markdown",
   "metadata": {},
   "source": [
    "Let's compare that to the theoretical luminosity:\n",
    "\n",
    "$L=4\\pi R^2 \\sigma T^4$"
   ]
  },
  {
   "cell_type": "code",
   "execution_count": 5,
   "metadata": {},
   "outputs": [
    {
     "data": {
      "text/plain": [
       "Array(0.99970102, dtype=float64)"
      ]
     },
     "execution_count": 5,
     "metadata": {},
     "output_type": "execute_result"
    }
   ],
   "source": [
    "jnp.sum(model.areas)*u.solRad.to(u.km)**2/(4*np.pi*(u.solRad.to(u.km)**2))"
   ]
  },
  {
   "cell_type": "code",
   "execution_count": 6,
   "metadata": {
    "ExecuteTime": {
     "end_time": "2024-09-06T00:14:35.677210Z",
     "start_time": "2024-09-06T00:14:35.668002Z"
    }
   },
   "outputs": [
    {
     "name": "stdout",
     "output_type": "stream",
     "text": [
      "Theoretical luminosity of the Sun: 3.8265937209448174e+23 erg / (s cm2) erg/s\n"
     ]
    }
   ],
   "source": [
    "sigma = (5.67*1e-8*u.W/(u.m**2)/(u.K**4)).to(u.erg/(u.cm**2)/(u.s)/(u.K**4))\n",
    "\n",
    "print(\"Theoretical luminosity of the Sun:\", 0.99970102*4*np.pi*(u.solRad.to(u.km)**2)*sigma*(5772*u.K)**4, \"erg/s\")"
   ]
  },
  {
   "cell_type": "markdown",
   "metadata": {},
   "source": [
    "# Solar constant"
   ]
  },
  {
   "cell_type": "code",
   "execution_count": 7,
   "metadata": {},
   "outputs": [],
   "source": [
    "import astropy.units as u\n",
    "intensity = simulate_observed_flux(bb.intensity, model, jnp.log10(bb_wavelengths), u.AU.to(u.pc))"
   ]
  },
  {
   "cell_type": "code",
   "execution_count": 17,
   "metadata": {},
   "outputs": [
    {
     "data": {
      "text/plain": [
       "1.3601525057337118"
      ]
     },
     "execution_count": 17,
     "metadata": {},
     "output_type": "execute_result"
    }
   ],
   "source": [
    "from jax.scipy.integrate import trapezoid\n",
    "\n",
    "trapezoid(y=intensity[:, 0], x=bb_wavelengths * 1e-8).item()*(u.erg/u.s/u.cm**2).to(u.kW/u.m**2)/0.99970102"
   ]
  },
  {
   "cell_type": "code",
   "execution_count": null,
   "metadata": {},
   "outputs": [],
   "source": []
  }
 ],
 "metadata": {
  "kernelspec": {
   "display_name": "astro",
   "language": "python",
   "name": "python3"
  },
  "language_info": {
   "codemirror_mode": {
    "name": "ipython",
    "version": 3
   },
   "file_extension": ".py",
   "mimetype": "text/x-python",
   "name": "python",
   "nbconvert_exporter": "python",
   "pygments_lexer": "ipython3",
   "version": "3.11.12"
  },
  "orig_nbformat": 4
 },
 "nbformat": 4,
 "nbformat_minor": 2
}
