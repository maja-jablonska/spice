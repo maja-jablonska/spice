{
 "cells": [
  {
   "cell_type": "code",
   "execution_count": 13,
   "metadata": {},
   "outputs": [],
   "source": [
    "from spice.spectrum.spectrum import __spectrum_flash_sum\n",
    "from transformer_payne import TransformerPayne\n",
    "import jax.numpy as jnp"
   ]
  },
  {
   "cell_type": "code",
   "execution_count": 14,
   "metadata": {},
   "outputs": [],
   "source": [
    "tp = TransformerPayne.download()\n",
    "solar_params = jnp.atleast_2d(tp.solar_parameters)"
   ]
  },
  {
   "cell_type": "code",
   "execution_count": 30,
   "metadata": {},
   "outputs": [],
   "source": [
    "from spice.spectrum.spectrum import v_apply_vrad_log"
   ]
  },
  {
   "cell_type": "code",
   "execution_count": 35,
   "metadata": {},
   "outputs": [],
   "source": [
    "vws = jnp.log10(jnp.linspace(5000, 5050, 1000))\n",
    "vws_shifted = v_apply_vrad_log(vws, jnp.array([0., 3000.]))"
   ]
  },
  {
   "cell_type": "code",
   "execution_count": 36,
   "metadata": {},
   "outputs": [
    {
     "data": {
      "text/plain": [
       "Array([[4999.9956, 5000.0474, 5000.097 , ..., 5049.898 , 5049.9507,\n",
       "        5049.9976],\n",
       "       [5050.031 , 5050.0835, 5050.1333, ..., 5100.4326, 5100.486 ,\n",
       "        5100.5337]], dtype=float32)"
      ]
     },
     "execution_count": 36,
     "metadata": {},
     "output_type": "execute_result"
    }
   ],
   "source": [
    "10**vws_shifted"
   ]
  },
  {
   "cell_type": "code",
   "execution_count": null,
   "metadata": {},
   "outputs": [],
   "source": []
  }
 ],
 "metadata": {
  "kernelspec": {
   "display_name": "astro",
   "language": "python",
   "name": "python3"
  },
  "language_info": {
   "codemirror_mode": {
    "name": "ipython",
    "version": 3
   },
   "file_extension": ".py",
   "mimetype": "text/x-python",
   "name": "python",
   "nbconvert_exporter": "python",
   "pygments_lexer": "ipython3",
   "version": "3.11.12"
  }
 },
 "nbformat": 4,
 "nbformat_minor": 2
}
