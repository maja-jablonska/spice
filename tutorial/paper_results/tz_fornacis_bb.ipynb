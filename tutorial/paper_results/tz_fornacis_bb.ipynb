{
 "cells": [
  {
   "cell_type": "code",
   "execution_count": 1,
   "metadata": {},
   "outputs": [],
   "source": [
    "from spice.models.binary import Binary, add_orbit, evaluate_orbit_at_times\n",
    "from spice.models.mesh_model import IcosphereModel\n",
    "from spice.models.mesh_view import get_mesh_view\n",
    "import matplotlib.pyplot as plt\n",
    "import numpy as np\n",
    "import astropy.units as u\n",
    "from spice.spectrum import simulate_observed_flux\n",
    "from transformer_payne import TransformerPayne, METALS, Blackbody\n",
    "import jax.numpy as jnp\n",
    "%matplotlib inline\n",
    "\n",
    "from tqdm import tqdm"
   ]
  },
  {
   "cell_type": "code",
   "execution_count": 2,
   "metadata": {},
   "outputs": [],
   "source": [
    "b = Blackbody()"
   ]
  },
  {
   "cell_type": "code",
   "execution_count": 10,
   "metadata": {},
   "outputs": [
    {
     "name": "stderr",
     "output_type": "stream",
     "text": [
      "/Users/mjablons/Documents/stellar-mesh-integration/src/spice/models/mesh_model.py:245: UserWarning: If override_log_g is True, either parameter_names must include one of [logg,loggs,log_g,log_gs,log g,log gs,surface gravity,surface gravities,surface_gravity,surface_gravities], or log_g_index must be passed for log g to be used in the spectrum emulator.\n",
      "  warnings.warn(f\"If override_log_g is True, either parameter_names must include one of [\" + \",\".join(\n",
      "/Users/mjablons/Documents/stellar-mesh-integration/src/spice/models/mesh_model.py:245: UserWarning: If override_log_g is True, either parameter_names must include one of [logg,loggs,log_g,log_gs,log g,log gs,surface gravity,surface gravities,surface_gravity,surface_gravities], or log_g_index must be passed for log g to be used in the spectrum emulator.\n",
      "  warnings.warn(f\"If override_log_g is True, either parameter_names must include one of [\" + \",\".join(\n"
     ]
    },
    {
     "name": "stdout",
     "output_type": "stream",
     "text": [
      "Using search radius factor for KD-tree: 2.024972\n"
     ]
    }
   ],
   "source": [
    "body1 = IcosphereModel.construct(100, 8.28, 2.057, b.to_parameters(dict(teff=4930)), b.stellar_parameter_names)\n",
    "body2 = IcosphereModel.construct(100, 3.94, 1.958, b.to_parameters(dict(teff=6650)), b.stellar_parameter_names)\n",
    "binary = Binary.from_bodies(body1, body2)\n",
    "binary = add_orbit(binary, (75.6*u.d).to(u.year).value, 0., 0., jnp.deg2rad(85.68), jnp.deg2rad(65.99), jnp.deg2rad(269.), 0., 0., 0., 50)\n",
    "times = jnp.linspace(0.05, 0.25, 50)\n",
    "result = evaluate_orbit_at_times(binary, times)"
   ]
  },
  {
   "cell_type": "code",
   "execution_count": 11,
   "metadata": {},
   "outputs": [
    {
     "data": {
      "text/plain": [
       "[<matplotlib.lines.Line2D at 0x32a9d3a50>]"
      ]
     },
     "execution_count": 11,
     "metadata": {},
     "output_type": "execute_result"
    },
    {
     "data": {
      "image/png": "[encoded data removed]",
      "text/plain": [
       "<Figure size 640x480 with 1 Axes>"
      ]
     },
     "metadata": {},
     "output_type": "display_data"
    }
   ],
   "source": [
    "plt.plot(times, np.array([np.sum(r.occluded_areas) for r in result[1]]))"
   ]
  },
  {
   "cell_type": "code",
   "execution_count": 12,
   "metadata": {},
   "outputs": [
    {
     "data": {
      "text/plain": [
       "[<matplotlib.lines.Line2D at 0x32d289a50>]"
      ]
     },
     "execution_count": 12,
     "metadata": {},
     "output_type": "execute_result"
    },
    {
     "data": {
      "image/png": "[encoded data removed]",
      "text/plain": [
       "<Figure size 640x480 with 1 Axes>"
      ]
     },
     "metadata": {},
     "output_type": "display_data"
    }
   ],
   "source": [
    "plt.plot(times, np.array([np.sum(r.occluded_areas) for r in result[0]]))"
   ]
  },
  {
   "cell_type": "code",
   "execution_count": 23,
   "metadata": {},
   "outputs": [],
   "source": [
    "from spice.plots.plot_mesh import *\n",
    "from spice.plots.plot_mesh import _evaluate_to_be_mapped_property\n",
    "def _animate_binary(binary1_meshes, binary2_meshes, filename, \n",
    "                   property='los_velocities', \n",
    "                   timestamps=None, \n",
    "                   cmap=None,\n",
    "                   property_label=None,\n",
    "                   timestamp_label='days',\n",
    "                   mode='MESH',\n",
    "                   skip_frames=1,\n",
    "                   linewidth=0.01,\n",
    "                   figure_size=(10, 10),\n",
    "                   draw_los_vector=True,\n",
    "                   draw_rotation_axes=True,\n",
    "                   view_angles=None,\n",
    "                   fixed_norm=True,\n",
    "                   scale_radius=1.0):\n",
    "    \"\"\"\n",
    "    Create an animation of a binary system over time.\n",
    "    \n",
    "    Parameters\n",
    "    ----------\n",
    "    binary1_meshes : List[MeshModel]\n",
    "        List of mesh models for the first star at different time steps\n",
    "    binary2_meshes : List[MeshModel]\n",
    "        List of mesh models for the second star at different time steps\n",
    "    filename : str\n",
    "        Output filename for the animation\n",
    "    property : Union[str, int], default: 'los_velocities'\n",
    "        Property to color the meshes by (attribute name or parameter index)\n",
    "    timestamps : Optional[ArrayLike], default: None\n",
    "        List of timestamps corresponding to each mesh\n",
    "    cmap : Optional[str], default: None\n",
    "        Matplotlib colormap name. If None, uses defaults based on property\n",
    "    property_label : Optional[str], default: None\n",
    "        Custom label for the colorbar. If None, uses default for the property\n",
    "    timestamp_label : Optional[str], default: \"days\"\n",
    "        Label to accompany timestamps (e.g., \"hours\", \"days\")\n",
    "    mode : str, default: 'MESH'\n",
    "        Visualization mode - 'MESH' (triangular mesh) or 'POINTS' (scatter)\n",
    "    skip_frames : int, default: 1\n",
    "        Only use every nth frame for performance\n",
    "    linewidth : float, default: 0.01\n",
    "        Line width for mesh edges\n",
    "    figure_size : Tuple[int, int], default: (10, 10)\n",
    "        Size of the figure in inches\n",
    "    draw_los_vector : bool, default: True\n",
    "        Whether to draw the line-of-sight vector\n",
    "    draw_rotation_axes : bool, default: True\n",
    "        Whether to draw the rotation axes of both stars\n",
    "    view_angles : Optional[Tuple[float, float]], default: None\n",
    "        Tuple of (elevation, azimuth) viewing angles. If None, uses default view\n",
    "    fixed_norm : bool, default: True\n",
    "        Whether to keep color normalization fixed across all frames\n",
    "    scale_radius : float, default: 1.0\n",
    "        Scale factor for both stellar radii\n",
    "        \n",
    "    Returns\n",
    "    -------\n",
    "    str\n",
    "        The path to the saved animation file\n",
    "    \"\"\"\n",
    "    if mode.upper() not in ['MESH', 'POINTS']:\n",
    "        raise ValueError(f'Mode must be one of [\"MESH\", \"POINTS\"]. Got {mode.upper()}')\n",
    "    mode = mode.upper()\n",
    "    \n",
    "    # Filter meshes and timestamps using skip_frames\n",
    "    binary1_meshes = binary1_meshes[::skip_frames]\n",
    "    binary2_meshes = binary2_meshes[::skip_frames]\n",
    "    if timestamps is not None:\n",
    "        timestamps = timestamps[::skip_frames]\n",
    "    \n",
    "    # Initial setup\n",
    "    fig = plt.figure(figsize=figure_size)\n",
    "    spec = fig.add_gridspec(10, 12)\n",
    "    plot_ax = fig.add_subplot(spec[:, :10], projection='3d')\n",
    "    cbar_ax = fig.add_subplot(spec[2:8, 11])\n",
    "    \n",
    "    # Get first meshes for initial setup\n",
    "    mesh1 = binary1_meshes[0]\n",
    "    mesh2 = binary2_meshes[0]\n",
    "    \n",
    "    # If using fixed color normalization across frames, compute min/max across all meshes\n",
    "    if fixed_norm:\n",
    "        all_property_values = []\n",
    "        for i in range(len(binary1_meshes)):\n",
    "            # Get property values for both stars\n",
    "            mesh1, mesh2 = binary1_meshes[i], binary2_meshes[i]\n",
    "            \n",
    "            # Get property data\n",
    "            to_be_mapped1, _ = _evaluate_to_be_mapped_property(mesh1, property, property_label)\n",
    "            to_be_mapped2, _ = _evaluate_to_be_mapped_property(mesh2, property, property_label)\n",
    "            \n",
    "            all_property_values.append(np.concatenate([to_be_mapped1, to_be_mapped2]))\n",
    "        \n",
    "        all_property_values = np.concatenate(all_property_values)\n",
    "        vmin, vmax = np.nanmin(all_property_values), np.nanmax(all_property_values)\n",
    "    else:\n",
    "        # Just get the property values from the first meshes\n",
    "        to_be_mapped1, _ = _evaluate_to_be_mapped_property(mesh1, property, property_label)\n",
    "        to_be_mapped2, _ = _evaluate_to_be_mapped_property(mesh2, property, property_label)\n",
    "        to_be_mapped = np.concatenate([to_be_mapped1, to_be_mapped2])\n",
    "        vmin, vmax = np.nanmin(to_be_mapped), np.nanmax(to_be_mapped)\n",
    "    \n",
    "    # Get property label\n",
    "    _, cbar_label = _evaluate_to_be_mapped_property(mesh1, property, property_label)\n",
    "    \n",
    "    # Set up axes limits\n",
    "    axes_lim = np.max(np.abs((mesh1.radius+mesh1.center)-(mesh2.center-mesh2.radius))) * 1.2\n",
    "    plot_ax.set_xlim3d(-axes_lim, axes_lim)\n",
    "    plot_ax.set_ylim3d(-axes_lim, axes_lim)\n",
    "    plot_ax.set_zlim3d(-axes_lim, axes_lim)\n",
    "    plot_ax.set_xlabel('$X [R_\\\\odot]$', fontsize=14)\n",
    "    plot_ax.set_ylabel('$Y [R_\\\\odot]$', fontsize=14)\n",
    "    plot_ax.set_zlabel('$Z [R_\\\\odot]$', fontsize=14)\n",
    "    \n",
    "    # Set custom view angle if provided\n",
    "    if view_angles is not None:\n",
    "        elev, azim = view_angles\n",
    "        plot_ax.view_init(elev=elev, azim=azim)\n",
    "    \n",
    "    # Set up colormap\n",
    "    if cmap is None:\n",
    "        from spice.plots.plot_mesh import DEFAULT_PROPERTY_CMAPS, DEFAULT_CMAP\n",
    "        cmap = DEFAULT_PROPERTY_CMAPS.get(property, DEFAULT_CMAP)\n",
    "    \n",
    "    # Set up colormap normalization\n",
    "    norm = mpl.colors.Normalize(vmin=vmin, vmax=vmax)\n",
    "    mappable = mpl.cm.ScalarMappable(cmap=cmap, norm=norm)\n",
    "    \n",
    "    # Set up colorbar\n",
    "    cbar = fig.colorbar(mappable, cax=cbar_ax)\n",
    "    cbar.set_label(cbar_label, fontsize=12)\n",
    "    \n",
    "    # Title for timestamps\n",
    "    title = fig.suptitle(\"\", fontsize=14, y=0.98)\n",
    "    \n",
    "    # Define the update function for animation\n",
    "    def update(frame):\n",
    "        # Clear previous frame elements\n",
    "        plot_ax.clear()\n",
    "        \n",
    "        # Reset axis properties after clearing\n",
    "        plot_ax.set_xlim3d(-axes_lim, axes_lim)\n",
    "        plot_ax.set_ylim3d(-axes_lim, axes_lim)\n",
    "        plot_ax.set_zlim3d(-axes_lim, axes_lim)\n",
    "        plot_ax.set_xlabel('$X [R_\\\\odot]$', fontsize=14)\n",
    "        plot_ax.set_ylabel('$Y [R_\\\\odot]$', fontsize=14)\n",
    "        plot_ax.set_zlabel('$Z [R_\\\\odot]$', fontsize=14)\n",
    "        \n",
    "        # Set custom view angle if provided\n",
    "        if view_angles is not None:\n",
    "            elev, azim = view_angles\n",
    "            plot_ax.view_init(elev=elev, azim=azim)\n",
    "        \n",
    "        # Get current meshes\n",
    "        mesh1 = binary1_meshes[frame]\n",
    "        mesh2 = binary2_meshes[frame]\n",
    "        \n",
    "        # Update timestamp if available\n",
    "        if timestamps is not None:\n",
    "            ts_str = f\"Time: {timestamps[frame]:.2f} {timestamp_label or ''}\"\n",
    "            title.set_text(ts_str)\n",
    "        \n",
    "        # Get property data for current meshes\n",
    "        to_be_mapped1, _ = _evaluate_to_be_mapped_property(mesh1, property, property_label)\n",
    "        to_be_mapped2, _ = _evaluate_to_be_mapped_property(mesh2, property, property_label)\n",
    "        \n",
    "        # Draw vectors\n",
    "        if draw_los_vector:\n",
    "            normalized_los_vector = mesh1.los_vector / np.linalg.norm(mesh1.los_vector)\n",
    "            plot_ax.quiver(*(-1.5*axes_lim*normalized_los_vector), *((axes_lim*normalized_los_vector)/2),\n",
    "                    color='red', linewidth=3., label='LOS vector')\n",
    "        \n",
    "        if draw_rotation_axes:\n",
    "            normalized_rotation_axis1 = mesh1.rotation_axis / np.linalg.norm(mesh1.rotation_axis)\n",
    "            normalized_rotation_axis2 = mesh2.rotation_axis / np.linalg.norm(mesh2.rotation_axis)\n",
    "            \n",
    "            plot_ax.quiver(*(mesh1.center+normalized_rotation_axis1*mesh1.radius*scale_radius), \n",
    "                           *(mesh1.radius*normalized_rotation_axis1*scale_radius),\n",
    "                           color='black', linewidth=3., label='Rotation axis of mesh1')\n",
    "            plot_ax.quiver(*(mesh2.center+normalized_rotation_axis2*mesh2.radius*scale_radius), \n",
    "                           *(mesh2.radius*normalized_rotation_axis2*scale_radius),\n",
    "                           color='blue', linewidth=3., label='Rotation axis of mesh2')\n",
    "        \n",
    "        # Visualize the meshes\n",
    "        if mode == 'MESH':\n",
    "            # First mesh\n",
    "            vs2_1 = mesh1.center+(mesh1.mesh_elements-mesh1.center)*scale_radius\n",
    "            face_colors1 = mpl.colormaps[cmap](norm(to_be_mapped1))\n",
    "            p1 = art3d.Poly3DCollection(vs2_1, facecolors=face_colors1, edgecolor=\"black\", linewidths=linewidth)\n",
    "            \n",
    "            # Second mesh\n",
    "            vs2_2 = mesh2.center+(mesh2.mesh_elements-mesh2.center)*scale_radius\n",
    "            face_colors2 = mpl.colormaps[cmap](norm(to_be_mapped2))\n",
    "            p2 = art3d.Poly3DCollection(vs2_2, facecolors=face_colors2, edgecolor=\"black\", linewidths=linewidth)\n",
    "            \n",
    "            plot_ax.add_collection(p1)\n",
    "            plot_ax.add_collection(p2)\n",
    "        else:  # mode == 'POINTS'\n",
    "            # First mesh as points\n",
    "            centers1 = mesh1.center+(mesh1.centers-mesh1.center)*scale_radius\n",
    "            plot_ax.scatter(centers1[:, 0], centers1[:, 1], centers1[:, 2],\n",
    "                           c=to_be_mapped1, cmap=cmap, norm=norm)\n",
    "            \n",
    "            # Second mesh as points\n",
    "            centers2 = mesh2.center+(mesh2.centers-mesh2.center)*scale_radius\n",
    "            plot_ax.scatter(centers2[:, 0], centers2[:, 1], centers2[:, 2],\n",
    "                           c=to_be_mapped2, cmap=cmap, norm=norm)\n",
    "        \n",
    "        # Only show legend in the first frame\n",
    "        if draw_los_vector or draw_rotation_axes:\n",
    "            plot_ax.legend(loc='upper right', fontsize=12)\n",
    "        \n",
    "        # Add padding between plot and colorbar\n",
    "        plt.subplots_adjust(right=0.85)\n",
    "        \n",
    "        # Return empty list since we're not using blit=True\n",
    "        return []\n",
    "    anim = FuncAnimation(fig, update, frames=len(binary1_meshes), blit=False)\n",
    "    smart_save(anim, filename, fps=20)\n",
    "    \n",
    "    plt.close(fig)\n",
    "    return filename"
   ]
  },
  {
   "cell_type": "code",
   "execution_count": 26,
   "metadata": {},
   "outputs": [
    {
     "data": {
      "text/plain": [
       "'tz_fornacis_orbit_visibilities.gif'"
      ]
     },
     "execution_count": 26,
     "metadata": {},
     "output_type": "execute_result"
    }
   ],
   "source": [
    "from spice.plots.plot_mesh import animate_binary\n",
    "\n",
    "_animate_binary(result[0], result[1], \"tz_fornacis_orbit_visibilities.gif\", property=\"occluded_areas\", \n",
    "              timestamps=times*365.25, timestamp_label=\"days\", scale_radius=10)"
   ]
  },
  {
   "cell_type": "code",
   "execution_count": 5,
   "metadata": {},
   "outputs": [],
   "source": [
    "# from spice.plots.plot_mesh import plot_3D_binary\n",
    "\n",
    "# i = 24\n",
    "# plot_3D_binary(result[0][i], result[1][i], property=\"visible_cast_areas\")"
   ]
  },
  {
   "cell_type": "code",
   "execution_count": 13,
   "metadata": {},
   "outputs": [
    {
     "name": "stderr",
     "output_type": "stream",
     "text": [
      "100%|██████████| 50/50 [00:00<00:00, 161.13it/s]\n",
      "100%|██████████| 50/50 [00:00<00:00, 62.87it/s]\n"
     ]
    }
   ],
   "source": [
    "from tqdm import tqdm\n",
    "\n",
    "vws = jnp.log10(jnp.linspace(2000, 8000, 100))\n",
    "spectra_body1 = [simulate_observed_flux(b.intensity, _pb, vws) for _pb in tqdm(result[0])]\n",
    "spectra_body2 = [simulate_observed_flux(b.intensity, _pb, vws) for _pb in tqdm(result[1])]"
   ]
  },
  {
   "cell_type": "code",
   "execution_count": 14,
   "metadata": {},
   "outputs": [],
   "source": [
    "from spice.spectrum import AB_passband_luminosity\n",
    "from spice.spectrum.filter import GaiaG, GaiaBP, GaiaRP, Bolometric\n",
    "\n",
    "bol = Bolometric()\n",
    "gaia_g = GaiaG()\n",
    "gaia_bp = GaiaBP()\n",
    "gaia_rp = GaiaRP()\n",
    "\n",
    "\n",
    "bol_lum = [AB_passband_luminosity(bol, 10**vws, _spec1[:, 0]+_spec2[:, 0]) for _spec1, _spec2 in zip(spectra_body1, spectra_body2)]\n",
    "gaia_g_lum = [AB_passband_luminosity(gaia_g, 10**vws, _spec1[:, 0]+_spec2[:, 0]) for _spec1, _spec2 in zip(spectra_body1, spectra_body2)]\n",
    "gaia_bp_lum = [AB_passband_luminosity(gaia_bp, 10**vws, _spec1[:, 0]+_spec2[:, 0]) for _spec1, _spec2 in zip(spectra_body1, spectra_body2)]\n",
    "gaia_rp_lum = [AB_passband_luminosity(gaia_rp, 10**vws, _spec1[:, 0]+_spec2[:, 0]) for _spec1, _spec2 in zip(spectra_body1, spectra_body2)]"
   ]
  },
  {
   "cell_type": "code",
   "execution_count": 15,
   "metadata": {},
   "outputs": [
    {
     "data": {
      "image/png": "[encoded data removed]",
      "text/plain": [
       "<Figure size 640x480 with 1 Axes>"
      ]
     },
     "metadata": {},
     "output_type": "display_data"
    }
   ],
   "source": [
    "plt.plot(gaia_g_lum);\n",
    "plt.gca().invert_yaxis();"
   ]
  },
  {
   "cell_type": "code",
   "execution_count": null,
   "metadata": {},
   "outputs": [],
   "source": []
  }
 ],
 "metadata": {
  "kernelspec": {
   "display_name": "astro",
   "language": "python",
   "name": "python3"
  },
  "language_info": {
   "codemirror_mode": {
    "name": "ipython",
    "version": 3
   },
   "file_extension": ".py",
   "mimetype": "text/x-python",
   "name": "python",
   "nbconvert_exporter": "python",
   "pygments_lexer": "ipython3",
   "version": "3.11.12"
  }
 },
 "nbformat": 4,
 "nbformat_minor": 2
}
