{
 "cells": [
  {
   "cell_type": "markdown",
   "metadata": {},
   "source": [
    "# Example with Korg-based grid interpolator"
   ]
  },
  {
   "cell_type": "code",
   "execution_count": 1,
   "metadata": {},
   "outputs": [
    {
     "name": "stdout",
     "output_type": "stream",
     "text": [
      "PHOEBE: passband \"Bolometric:900-40000\" has a newer version available.  Run phoebe.list_passband_online_history(\"Bolometric:900-40000\") to get a list of available changes and phoebe.update_passband(\"Bolometric:900-40000\") or phoebe.update_all_passbands() to update.\n",
      "PHOEBE: passband \"Gaia:G\" has a newer version available.  Run phoebe.list_passband_online_history(\"Gaia:G\") to get a list of available changes and phoebe.update_passband(\"Gaia:G\") or phoebe.update_all_passbands() to update.\n",
      "PHOEBE: passband \"Johnson:V\" has a newer version available.  Run phoebe.list_passband_online_history(\"Johnson:V\") to get a list of available changes and phoebe.update_passband(\"Johnson:V\") or phoebe.update_all_passbands() to update.\n"
     ]
    },
    {
     "ename": "ImportError",
     "evalue": "cannot import name 'BaseSpectrum' from 'spice.spectrum.spectrum' (/home/100/mj8805/scr/mj8805/miniconda3/envs/astro/lib/python3.12/site-packages/spice/spectrum/spectrum.py)",
     "output_type": "error",
     "traceback": [
      "\u001b[0;31m---------------------------------------------------------------------------\u001b[0m",
      "\u001b[0;31mImportError\u001b[0m                               Traceback (most recent call last)",
      "Cell \u001b[0;32mIn[1], line 14\u001b[0m\n\u001b[1;32m     10\u001b[0m get_ipython()\u001b[38;5;241m.\u001b[39mrun_line_magic(\u001b[38;5;124m'\u001b[39m\u001b[38;5;124mmatplotlib\u001b[39m\u001b[38;5;124m'\u001b[39m, \u001b[38;5;124m'\u001b[39m\u001b[38;5;124minline\u001b[39m\u001b[38;5;124m'\u001b[39m)\n\u001b[1;32m     12\u001b[0m \u001b[38;5;28;01mfrom\u001b[39;00m \u001b[38;5;21;01mjax\u001b[39;00m \u001b[38;5;28;01mimport\u001b[39;00m config\n\u001b[0;32m---> 14\u001b[0m \u001b[38;5;28;01mfrom\u001b[39;00m \u001b[38;5;21;01mspice\u001b[39;00m\u001b[38;5;21;01m.\u001b[39;00m\u001b[38;5;21;01mspectrum\u001b[39;00m\u001b[38;5;21;01m.\u001b[39;00m\u001b[38;5;21;01mspectrum_korg\u001b[39;00m \u001b[38;5;28;01mimport\u001b[39;00m KorgSpectrumEmulator\n",
      "File \u001b[0;32m~/scr/mj8805/miniconda3/envs/astro/lib/python3.12/site-packages/spice/spectrum/spectrum_korg.py:1\u001b[0m\n\u001b[0;32m----> 1\u001b[0m \u001b[38;5;28;01mfrom\u001b[39;00m \u001b[38;5;21;01m.\u001b[39;00m\u001b[38;5;21;01mspectrum\u001b[39;00m \u001b[38;5;28;01mimport\u001b[39;00m BaseSpectrum\n\u001b[1;32m      2\u001b[0m \u001b[38;5;28;01mfrom\u001b[39;00m \u001b[38;5;21;01moverrides\u001b[39;00m \u001b[38;5;28;01mimport\u001b[39;00m override\n\u001b[1;32m      3\u001b[0m \u001b[38;5;28;01mfrom\u001b[39;00m \u001b[38;5;21;01mtyping\u001b[39;00m \u001b[38;5;28;01mimport\u001b[39;00m Callable, Dict, List, Union\n",
      "\u001b[0;31mImportError\u001b[0m: cannot import name 'BaseSpectrum' from 'spice.spectrum.spectrum' (/home/100/mj8805/scr/mj8805/miniconda3/envs/astro/lib/python3.12/site-packages/spice/spectrum/spectrum.py)"
     ]
    }
   ],
   "source": [
    "from spice.models import IcosphereModel\n",
    "from spice.models.mesh_transform import add_rotation, evaluate_rotation\n",
    "from spice.plots import plot_3D\n",
    "from spice.spectrum import simulate_observed_flux\n",
    "import astropy.units as u\n",
    "import jax.numpy as jnp\n",
    "from transformer_payne import Blackbody\n",
    "import numpy as np\n",
    "import matplotlib.pyplot as plt\n",
    "%matplotlib inline\n",
    "\n",
    "from jax import config\n",
    "\n",
    "from spice.spectrum.spectrum_korg import KorgSpectrumEmulator"
   ]
  },
  {
   "cell_type": "markdown",
   "metadata": {},
   "source": [
    "Let's define a ```KorgSpectrumEmulator``` as with other types of spectra models. This emulator is based on a ```RegularGridInterpolator``` and interpolates between the corresponding ranges of parameters:\n"
   ]
  },
  {
   "cell_type": "code",
   "execution_count": 2,
   "metadata": {},
   "outputs": [],
   "source": [
    "k = KorgSpectrumEmulator()\n",
    "b = Blackbody()"
   ]
  },
  {
   "cell_type": "markdown",
   "metadata": {},
   "source": [
    "**Note**: the first execution of ```intensity``` will most probably take some time. After it's compiled with ```jax.jit```, it will be much faster."
   ]
  },
  {
   "cell_type": "code",
   "execution_count": 3,
   "metadata": {},
   "outputs": [],
   "source": [
    "import jax.numpy as jnp\n",
    "wavelengths = jnp.linspace(5600, 6000, 1000)\n",
    "intensities = k.intensity(jnp.log10(wavelengths), 0.5, jnp.array([5777, 4.44, 0.0]))\n",
    "bl = b.intensity(jnp.log10(wavelengths), 0.5, jnp.array(5777.))"
   ]
  },
  {
   "cell_type": "code",
   "execution_count": 4,
   "metadata": {},
   "outputs": [
    {
     "data": {
      "text/plain": [
       "(1000, 2)"
      ]
     },
     "execution_count": 4,
     "metadata": {},
     "output_type": "execute_result"
    }
   ],
   "source": [
    "intensities.shape"
   ]
  },
  {
   "cell_type": "code",
   "execution_count": 5,
   "metadata": {},
   "outputs": [
    {
     "data": {
      "text/plain": [
       "(1000, 2)"
      ]
     },
     "execution_count": 5,
     "metadata": {},
     "output_type": "execute_result"
    }
   ],
   "source": [
    "bl.shape"
   ]
  },
  {
   "cell_type": "code",
   "execution_count": 6,
   "metadata": {},
   "outputs": [
    {
     "data": {
      "image/png": "[encoded data removed]",
      "text/plain": [
       "<Figure size 640x480 with 1 Axes>"
      ]
     },
     "metadata": {},
     "output_type": "display_data"
    }
   ],
   "source": [
    "plt.plot(wavelengths, intensities[:, 0], color='black')\n",
    "plt.xlabel('Wavelength [$\\AA$]')\n",
    "plt.ylabel('Normalized Intensity [erg/s/cm$^2$/$\\AA$]')\n",
    "plt.show()\n"
   ]
  },
  {
   "cell_type": "markdown",
   "metadata": {},
   "source": [
    "# An example with a Mesh Model"
   ]
  },
  {
   "cell_type": "code",
   "execution_count": 7,
   "metadata": {},
   "outputs": [],
   "source": [
    "base_temp = 5700\n",
    "spot_temp = 15000\n",
    "\n",
    "m = IcosphereModel.construct(1000, 1., 1., k.to_parameters(dict(teff=base_temp)), k.stellar_parameter_names)\n",
    "\n",
    "m = add_rotation(m, rotation_velocity=50.)\n",
    "m_rotated = evaluate_rotation(m, 0.)"
   ]
  },
  {
   "cell_type": "code",
   "execution_count": 8,
   "metadata": {},
   "outputs": [],
   "source": [
    "rotated_spec = simulate_observed_flux(b.intensity, m_rotated, jnp.log10(wavelengths))"
   ]
  },
  {
   "cell_type": "code",
   "execution_count": 9,
   "metadata": {},
   "outputs": [],
   "source": [
    "rotated_spec = simulate_observed_flux(k.intensity, m_rotated, jnp.log10(wavelengths))"
   ]
  },
  {
   "cell_type": "code",
   "execution_count": null,
   "metadata": {},
   "outputs": [],
   "source": []
  }
 ],
 "metadata": {
  "kernelspec": {
   "display_name": "astro",
   "language": "python",
   "name": "astro"
  },
  "language_info": {
   "codemirror_mode": {
    "name": "ipython",
    "version": 3
   },
   "file_extension": ".py",
   "mimetype": "text/x-python",
   "name": "python",
   "nbconvert_exporter": "python",
   "pygments_lexer": "ipython3",
   "version": "3.12.2"
  }
 },
 "nbformat": 4,
 "nbformat_minor": 2
}
