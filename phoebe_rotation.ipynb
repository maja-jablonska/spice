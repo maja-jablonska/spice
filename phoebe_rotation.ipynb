{
 "cells": [
  {
   "cell_type": "code",
   "execution_count": 1,
   "id": "cfef41d5",
   "metadata": {},
   "outputs": [
    {
     "name": "stdout",
     "output_type": "stream",
     "text": [
      "Models defined.\n"
     ]
    },
    {
     "name": "stderr",
     "output_type": "stream",
     "text": [
      "WARNING:BUNDLE:celerite2 not installed: only required for gaussian processes\n"
     ]
    }
   ],
   "source": [
    "import numpy as np\n",
    "import matplotlib.pyplot as plt\n",
    "%matplotlib inline\n",
    "\n",
    "# TODO: how to save?\n",
    "import pickle\n",
    "from models import PhoebeModel\n",
    "import jax.numpy as jnp\n",
    "import jax"
   ]
  },
  {
   "cell_type": "code",
   "execution_count": 2,
   "id": "6c4a3dae",
   "metadata": {},
   "outputs": [
    {
     "name": "stderr",
     "output_type": "stream",
     "text": [
      "100%|██████████| 50/50 [00:00<00:00, 95.62it/s]\n",
      "100%|██████████| 50/50 [00:00<00:00, 77.21it/s]\n"
     ]
    }
   ],
   "source": [
    "m = PhoebeModel(n_triangles=2000,\n",
    "                mass=1.0,\n",
    "                radius=1.0,\n",
    "                teff=6000.,\n",
    "                timestamps=jnp.linspace(0., 100., 50))\n",
    "\n",
    "# Mass, radius - in solar units\n",
    "# Timestamps - in days"
   ]
  },
  {
   "cell_type": "code",
   "execution_count": 3,
   "id": "66cb7144",
   "metadata": {},
   "outputs": [],
   "source": [
    "coords = m.centers\n",
    "los_vels = m.get_los_velocities()"
   ]
  },
  {
   "cell_type": "code",
   "execution_count": 4,
   "id": "b4946f93",
   "metadata": {},
   "outputs": [
    {
     "data": {
      "text/plain": [
       "(50, 2276, 3)"
      ]
     },
     "execution_count": 4,
     "metadata": {},
     "output_type": "execute_result"
    }
   ],
   "source": [
    "# Coordinates are returned for all timestamps\n",
    "coords.shape"
   ]
  },
  {
   "cell_type": "code",
   "execution_count": 5,
   "id": "75ecb3f9",
   "metadata": {},
   "outputs": [],
   "source": [
    "plt.figure(figsize=(8,6))\n",
    "plt.gca().set_aspect('equal')\n",
    "plt.scatter(coords[0, :, 0], coords[0, :, 1], marker='o',c=los_vels[0],s=7)\n",
    "plt.xlabel(r'$u$ ($R_\\odot$)',fontsize=14)\n",
    "plt.ylabel(r'$v$ ($R_\\odot$)',fontsize=14)\n",
    "plt.colorbar(label=r'LOS velocity [km/s]')\n",
    "plt.tight_layout()\n",
    "plt.show()"
   ]
  },
  {
   "cell_type": "code",
   "execution_count": 6,
   "id": "c10e686f",
   "metadata": {},
   "outputs": [],
   "source": [
    "LOG_WAVELENGTHS = jnp.linspace(jnp.log10(5885), jnp.log10(5895), 500)\n",
    "atmo = m.model_spectrum(0, LOG_WAVELENGTHS, 0.5*np.ones((1, 20)))"
   ]
  },
  {
   "cell_type": "code",
   "execution_count": 7,
   "id": "c7e5ddc4",
   "metadata": {},
   "outputs": [
    {
     "data": {
      "text/plain": [
       "[<matplotlib.lines.Line2D at 0x7f6d7798dca0>]"
      ]
     },
     "execution_count": 7,
     "metadata": {},
     "output_type": "execute_result"
    }
   ],
   "source": [
    "plt.plot(atmo[0])"
   ]
  },
  {
   "cell_type": "code",
   "execution_count": null,
   "id": "f4d9a826",
   "metadata": {},
   "outputs": [],
   "source": []
  }
 ],
 "metadata": {
  "kernelspec": {
   "display_name": "Python 3 (ipykernel)",
   "language": "python",
   "name": "python3"
  },
  "language_info": {
   "codemirror_mode": {
    "name": "ipython",
    "version": 3
   },
   "file_extension": ".py",
   "mimetype": "text/x-python",
   "name": "python",
   "nbconvert_exporter": "python",
   "pygments_lexer": "ipython3",
   "version": "3.8.10"
  }
 },
 "nbformat": 4,
 "nbformat_minor": 5
}
