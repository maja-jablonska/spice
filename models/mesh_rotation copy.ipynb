{
 "cells": [
  {
   "cell_type": "code",
   "execution_count": 6,
   "metadata": {},
   "outputs": [
    {
     "ename": "ImportError",
     "evalue": "attempted relative import with no known parent package",
     "output_type": "error",
     "traceback": [
      "\u001b[0;31m---------------------------------------------------------------------------\u001b[0m",
      "\u001b[0;31mImportError\u001b[0m                               Traceback (most recent call last)",
      "Cell \u001b[0;32mIn[6], line 21\u001b[0m\n\u001b[1;32m     19\u001b[0m \u001b[39mfrom\u001b[39;00m \u001b[39mcelluloid\u001b[39;00m \u001b[39mimport\u001b[39;00m Camera\n\u001b[1;32m     20\u001b[0m \u001b[39mfrom\u001b[39;00m \u001b[39mspectrum\u001b[39;00m \u001b[39mimport\u001b[39;00m \u001b[39m*\u001b[39m\n\u001b[0;32m---> 21\u001b[0m \u001b[39mfrom\u001b[39;00m \u001b[39m.\u001b[39;00m\u001b[39mmesh_model\u001b[39;00m \u001b[39mimport\u001b[39;00m MeshModel\n\u001b[1;32m     23\u001b[0m \u001b[39mfrom\u001b[39;00m \u001b[39mjax\u001b[39;00m\u001b[39m.\u001b[39;00m\u001b[39mconfig\u001b[39;00m \u001b[39mimport\u001b[39;00m config\n\u001b[1;32m     24\u001b[0m config\u001b[39m.\u001b[39mupdate(\u001b[39m\"\u001b[39m\u001b[39mjax_enable_x64\u001b[39m\u001b[39m\"\u001b[39m, \u001b[39mTrue\u001b[39;00m)\n",
      "\u001b[0;31mImportError\u001b[0m: attempted relative import with no known parent package"
     ]
    }
   ],
   "source": [
    "import jax.numpy as jnp\n",
    "from jax import jit, grad\n",
    "import jax\n",
    "from jax.experimental import checkify\n",
    "import matplotlib.pyplot as plt\n",
    "from IPython.display import HTML\n",
    "import sys\n",
    "sys.path.append(\".\")\n",
    "\n",
    "# from models.mesh_generation import (icosphere, vertex_to_polar, face_center,\n",
    "#                              apply_pulsation, mesh_polar_vertices,\n",
    "#                              apply_spherical_harm_pulsation, spherical_harmonic,\n",
    "#                              calculate_los_rotation)\n",
    "\n",
    "from abc import ABCMeta, abstractmethod, abstractproperty\n",
    "from dataclasses import dataclass\n",
    "import jax.numpy as jnp\n",
    "from models.mesh_generation import icosphere\n",
    "from celluloid import Camera\n",
    "from spectrum import *\n",
    "from .mesh_model import MeshModel\n",
    "\n",
    "from jax.config import config\n",
    "config.update(\"jax_enable_x64\", True)\n",
    "config.update(\"jax_debug_nans\", True) "
   ]
  },
  {
   "cell_type": "code",
   "execution_count": 5,
   "metadata": {},
   "outputs": [],
   "source": [
    "v, f, a, c, vm = icosphere(1000)"
   ]
  },
  {
   "cell_type": "code",
   "execution_count": 7,
   "metadata": {},
   "outputs": [],
   "source": [
    "phases = jnp.linspace(0, 8*jnp.pi, 100)\n",
    "timestamps = jnp.linspace(2015., 2020., 100)"
   ]
  },
  {
   "cell_type": "code",
   "execution_count": 10,
   "metadata": {},
   "outputs": [
    {
     "data": {
      "text/plain": [
       "(1272, 3)"
      ]
     },
     "execution_count": 10,
     "metadata": {},
     "output_type": "execute_result"
    }
   ],
   "source": [
    "v.shape"
   ]
  },
  {
   "cell_type": "code",
   "execution_count": 11,
   "metadata": {},
   "outputs": [],
   "source": [
    "verts = jnp.repeat(v[jnp.newaxis, :, :], phases.shape[0], axis=0)"
   ]
  },
  {
   "cell_type": "code",
   "execution_count": 12,
   "metadata": {},
   "outputs": [
    {
     "data": {
      "text/plain": [
       "(100, 1272, 3)"
      ]
     },
     "execution_count": 12,
     "metadata": {},
     "output_type": "execute_result"
    }
   ],
   "source": [
    "verts.shape"
   ]
  },
  {
   "cell_type": "code",
   "execution_count": 13,
   "metadata": {},
   "outputs": [],
   "source": [
    "los_vector = jnp.array([1., 0., 0.])"
   ]
  },
  {
   "cell_type": "code",
   "execution_count": 19,
   "metadata": {},
   "outputs": [
    {
     "data": {
      "text/plain": [
       "Array([[1., 1., 1., ..., 0., 0., 0.],\n",
       "       [1., 1., 1., ..., 0., 0., 0.],\n",
       "       [1., 1., 1., ..., 0., 0., 0.],\n",
       "       ...,\n",
       "       [1., 1., 1., ..., 0., 0., 0.],\n",
       "       [1., 1., 1., ..., 0., 0., 0.],\n",
       "       [1., 1., 1., ..., 0., 0., 0.]], dtype=float64)"
      ]
     },
     "execution_count": 19,
     "metadata": {},
     "output_type": "execute_result"
    }
   ],
   "source": [
    "jnp.linalg.norm(verts, axis=2)"
   ]
  },
  {
   "cell_type": "code",
   "execution_count": 23,
   "metadata": {},
   "outputs": [
    {
     "data": {
      "text/plain": [
       "(100, 1272)"
      ]
     },
     "execution_count": 23,
     "metadata": {},
     "output_type": "execute_result"
    }
   ],
   "source": [
    "(-1.*jnp.dot(jnp.nan_to_num(verts/(jnp.linalg.norm(verts, axis=2, keepdims=True)+1e-10)), los_vector)).shape"
   ]
  },
  {
   "cell_type": "code",
   "execution_count": 24,
   "metadata": {},
   "outputs": [
    {
     "ename": "NameError",
     "evalue": "name 'calculate_los_rotation' is not defined",
     "output_type": "error",
     "traceback": [
      "\u001b[0;31m---------------------------------------------------------------------------\u001b[0m",
      "\u001b[0;31mNameError\u001b[0m                                 Traceback (most recent call last)",
      "Cell \u001b[0;32mIn[24], line 1\u001b[0m\n\u001b[0;32m----> 1\u001b[0m generate_frames \u001b[39m=\u001b[39m jax\u001b[39m.\u001b[39mjit(jax\u001b[39m.\u001b[39mvmap(calculate_los_rotation, in_axes\u001b[39m=\u001b[39m(\u001b[39mNone\u001b[39;00m, \u001b[39mNone\u001b[39;00m, \u001b[39mNone\u001b[39;00m, \u001b[39mNone\u001b[39;00m, \u001b[39m0\u001b[39m)))\n",
      "\u001b[0;31mNameError\u001b[0m: name 'calculate_los_rotation' is not defined"
     ]
    }
   ],
   "source": [
    "generate_frames = jax.jit(jax.vmap(calculate_los_rotation, in_axes=(None, None, None, None, 0)))"
   ]
  },
  {
   "cell_type": "code",
   "execution_count": null,
   "metadata": {},
   "outputs": [],
   "source": [
    "import matplotlib.pyplot as plt\n",
    "import matplotlib as mpl\n",
    "import numpy as np\n",
    "\n",
    "cmap = mpl.cm.turbo\n",
    "n = 10\n",
    "\n",
    "rotation_axis = jnp.array([0., 0., 1.])\n",
    "\n",
    "ts = jnp.linspace(0, 10, n)\n",
    "    \n",
    "all_centers, all_vels, _ = generate_frames(jnp.array([0.5]), rotation_axis, c, ts)\n",
    "\n",
    "los_vels = np.nan_to_num(np.array(all_vels))\n",
    "\n",
    "norm = mpl.colors.Normalize(vmin=los_vels.min(), vmax=los_vels.max())"
   ]
  },
  {
   "cell_type": "code",
   "execution_count": null,
   "metadata": {},
   "outputs": [],
   "source": [
    "los_vels[i].shape"
   ]
  },
  {
   "cell_type": "code",
   "execution_count": null,
   "metadata": {},
   "outputs": [],
   "source": [
    "import matplotlib\n",
    "fig = plt.figure(figsize=(10, 10))\n",
    "spec = fig.add_gridspec(10, 10)\n",
    "ax1 = fig.add_subplot(spec[:, :], projection='3d') #spec[:9], \n",
    "camera = Camera(fig)\n",
    "\n",
    "ax1.set_xlim3d(-1.5, 1.5);\n",
    "ax1.set_ylim3d(-1.5, 1.5);\n",
    "ax1.set_ylim3d(-1.5, 1.5);\n",
    "\n",
    "LOG_WAVELENGTHS = jnp.linspace(jnp.log10(5850), jnp.log10(5925), 1000)\n",
    "\n",
    "x, y, z = np.array([[0,0,0],[0,0,0],[0,0,0]])\n",
    "qu, qv, qw = np.array([[1.,0,0], [0,1., 0],[0,0,1.]])\n",
    "i = 5\n",
    "sv = all_centers[i]\n",
    "\n",
    "ax1.quiver(0., -3., 0., *los, color='red', linewidth=3.)\n",
    "ax1.quiver(0., 0., 0., *rotation_axis, color='black', linewidth=3.)\n",
    "p = ax1.scatter(sv[:, 0], sv[:, 1], sv[:, 2], c=r[i]*los_vels[i], cmap='turbo')\n",
    "plt.colorbar(p);"
   ]
  },
  {
   "cell_type": "code",
   "execution_count": null,
   "metadata": {},
   "outputs": [],
   "source": [
    "LOG_WAVELENGTHS = jnp.linspace(jnp.log10(5850), jnp.log10(5925), 1000)\n",
    "#atmo = spectrum_flash_sum(LOG_WAVELENGTHS, all_areas[i][mu_mask].reshape((-1, 1)), mus[mu_mask], los_vels[i][mu_mask], 0.5*jnp.ones(20,), 256)"
   ]
  },
  {
   "cell_type": "code",
   "execution_count": null,
   "metadata": {},
   "outputs": [],
   "source": [
    "from tqdm import tqdm"
   ]
  },
  {
   "cell_type": "code",
   "execution_count": null,
   "metadata": {},
   "outputs": [],
   "source": [
    "fig = plt.figure(figsize=(10, 15))\n",
    "spec = fig.add_gridspec(15, 10)\n",
    "ax1 = fig.add_subplot(spec[:9, :9], projection='3d') #spec[:9], \n",
    "ax2 = fig.add_subplot(spec[:9, 9])\n",
    "# ax3 = fig.add_subplot(spec[9, 1:-1])\n",
    "ax4 = fig.add_subplot(spec[10:, 1:-1])\n",
    "camera = Camera(fig)\n",
    "\n",
    "ax1.set_xlim3d(-1.5, 1.5);\n",
    "ax1.set_ylim3d(-1.5, 1.5);\n",
    "ax1.set_ylim3d(-1.5, 1.5);\n",
    "\n",
    "LOG_WAVELENGTHS = jnp.linspace(jnp.log10(5885), jnp.log10(5895), 500)\n",
    "\n",
    "x, y, z = np.array([[0,0,0],[0,0,0],[0,0,0]])\n",
    "qu, qv, qw = np.array([[1.,0,0], [0,1., 0],[0,0,1.]])\n",
    "\n",
    "for i, (sv, v) in tqdm(enumerate(zip(all_centers, all_vels))):\n",
    "\n",
    "    ax1.quiver(0., -3., 0., *los, color='red', linewidth=3.)\n",
    "    mus = -1.*jnp.nan_to_num(jnp.dot(sv/jnp.linalg.norm(sv, axis=1).reshape((-1, 1)), los))\n",
    "    p = ax1.scatter(sv[:, 0], sv[:, 1], sv[:, 2], c=los_vels[i]*r[i], cmap=cmap, norm=norm);\n",
    "\n",
    "    rot_mat = rotation_matrix(rotation_axis, 0.5*ts[i])\n",
    "    rqu = jnp.matmul(qu, rot_mat)\n",
    "    rqv = jnp.matmul(qv, rot_mat)\n",
    "    rqw = jnp.matmul(qw, rot_mat)\n",
    "\n",
    "    ax1.quiver(x, y, z, rqu, rqv, rqw, arrow_length_ratio=0.1, color=\"black\", linewidth=1.)\n",
    "    \n",
    "    ax1.set_xlim(-1.5, 1.5)\n",
    "    ax1.set_ylim(-1.5, 1.5)\n",
    "    ax1.set_zlim(-1.5, 1.5)\n",
    "    \n",
    "    mu_mask = mus>0\n",
    "    \n",
    "    atmo1 = spectrum_flash_sum(LOG_WAVELENGTHS,\n",
    "                              (mus[mu_mask]*a[mu_mask]).reshape((-1, 1)),\n",
    "                              mus[mu_mask],\n",
    "                              5*los_vels[i][mu_mask]*r[i][mu_mask], 0.5*jnp.ones(20,), 256)\n",
    "    atmo2 = spectrum_flash_sum(LOG_WAVELENGTHS,\n",
    "                              (mus[mu_mask]*a[mu_mask]).reshape((-1, 1)),\n",
    "                              mus[mu_mask],\n",
    "                              20*los_vels[i][mu_mask]*r[i][mu_mask], 0.5*jnp.ones(20,), 256)\n",
    "    atmo3 = spectrum_flash_sum(LOG_WAVELENGTHS,\n",
    "                              (mus[mu_mask]*a[mu_mask]).reshape((-1, 1)),\n",
    "                              mus[mu_mask],\n",
    "                              50*los_vels[i][mu_mask]*r[i][mu_mask], 0.5*jnp.ones(20,), 256)\n",
    "    \n",
    "    ax4.plot(10**LOG_WAVELENGTHS, atmo1[0]/atmo1[1], color='green', zorder=1, label='5 km/s')\n",
    "    ax4.plot(10**LOG_WAVELENGTHS, atmo2[0]/atmo2[1], color='red', zorder=1, label='20 km/s')\n",
    "    ax4.plot(10**LOG_WAVELENGTHS, atmo3[0]/atmo3[1], color='royalblue', zorder=1, label='50 km/s')\n",
    "    \n",
    "    ax4.set_xlabel('Wavelength [$\\AA$]')\n",
    "    \n",
    "    camera.snap()\n",
    "\n",
    "cbar = fig.colorbar(mpl.cm.ScalarMappable(norm=norm, cmap=cmap), cax=ax2)\n",
    "cbar.set_label('LOS velocity')\n",
    "\n",
    "anim = camera.animate(blit=True)\n",
    "anim.save('test_w_transformer_spectrum.gif')"
   ]
  },
  {
   "cell_type": "code",
   "execution_count": null,
   "metadata": {},
   "outputs": [],
   "source": []
  }
 ],
 "metadata": {
  "kernelspec": {
   "display_name": "Python 3 (ipykernel)",
   "language": "python",
   "name": "python3"
  },
  "language_info": {
   "codemirror_mode": {
    "name": "ipython",
    "version": 3
   },
   "file_extension": ".py",
   "mimetype": "text/x-python",
   "name": "python",
   "nbconvert_exporter": "python",
   "pygments_lexer": "ipython3",
   "version": "3.8.10"
  }
 },
 "nbformat": 4,
 "nbformat_minor": 4
}
